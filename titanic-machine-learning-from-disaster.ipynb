{
 "cells": [
  {
   "cell_type": "code",
   "execution_count": 1,
   "id": "lyric-decimal",
   "metadata": {
    "_cell_guid": "b1076dfc-b9ad-4769-8c92-a6c4dae69d19",
    "_uuid": "8f2839f25d086af736a60e9eeb907d3b93b6e0e5",
    "execution": {
     "iopub.execute_input": "2022-01-19T03:56:38.403423Z",
     "iopub.status.busy": "2022-01-19T03:56:38.401611Z",
     "iopub.status.idle": "2022-01-19T03:56:40.524539Z",
     "shell.execute_reply": "2022-01-19T03:56:40.523641Z",
     "shell.execute_reply.started": "2022-01-19T03:05:39.944841Z"
    },
    "papermill": {
     "duration": 2.236767,
     "end_time": "2022-01-19T03:56:40.524743",
     "exception": false,
     "start_time": "2022-01-19T03:56:38.287976",
     "status": "completed"
    },
    "tags": []
   },
   "outputs": [
    {
     "name": "stdout",
     "output_type": "stream",
     "text": [
      "/kaggle/input/titanic/train.csv\n",
      "/kaggle/input/titanic/test.csv\n",
      "/kaggle/input/titanic/gender_submission.csv\n"
     ]
    }
   ],
   "source": [
    "# This Python 3 environment comes with many helpful analytics libraries installed\n",
    "# It is defined by the kaggle/python Docker image: https://github.com/kaggle/docker-python\n",
    "# For example, here's several helpful packages to load\n",
    "\n",
    "import numpy as np # linear algebra\n",
    "import pandas as pd # data processing, CSV file I/O (e.g. pd.read_csv)\n",
    "\n",
    "# Input data files are available in the read-only \"../input/\" directory\n",
    "# For example, running this (by clicking run or pressing Shift+Enter) will list all files under the input directory\n",
    "\n",
    "#Data visualizations\n",
    "import seaborn as sns\n",
    "import matplotlib.pyplot as plt\n",
    "import plotly.express as px\n",
    "\n",
    "#Data pre-processing\n",
    "from sklearn.preprocessing import StandardScaler\n",
    "from sklearn.preprocessing import OrdinalEncoder\n",
    "\n",
    "import os\n",
    "for dirname, _, filenames in os.walk('/kaggle/input'):\n",
    "    for filename in filenames:\n",
    "        print(os.path.join(dirname, filename))\n",
    "\n",
    "# You can write up to 20GB to the current directory (/kaggle/working/) that gets preserved as output when you create a version using \"Save & Run All\" \n",
    "# You can also write temporary files to /kaggle/temp/, but they won't be saved outside of the current session"
   ]
  },
  {
   "cell_type": "code",
   "execution_count": 2,
   "id": "baking-wrong",
   "metadata": {
    "execution": {
     "iopub.execute_input": "2022-01-19T03:56:40.774947Z",
     "iopub.status.busy": "2022-01-19T03:56:40.774306Z",
     "iopub.status.idle": "2022-01-19T03:56:40.805987Z",
     "shell.execute_reply": "2022-01-19T03:56:40.806518Z",
     "shell.execute_reply.started": "2022-01-19T03:05:40.186752Z"
    },
    "papermill": {
     "duration": 0.170395,
     "end_time": "2022-01-19T03:56:40.806701",
     "exception": false,
     "start_time": "2022-01-19T03:56:40.636306",
     "status": "completed"
    },
    "tags": []
   },
   "outputs": [],
   "source": [
    "train_data = pd.read_csv(\"/kaggle/input/titanic/train.csv\")\n",
    "test_data = pd.read_csv(\"/kaggle/input/titanic/test.csv\")"
   ]
  },
  {
   "cell_type": "markdown",
   "id": "south-kruger",
   "metadata": {
    "papermill": {
     "duration": 0.107766,
     "end_time": "2022-01-19T03:56:41.021262",
     "exception": false,
     "start_time": "2022-01-19T03:56:40.913496",
     "status": "completed"
    },
    "tags": []
   },
   "source": [
    "##### First look of our data"
   ]
  },
  {
   "cell_type": "code",
   "execution_count": 3,
   "id": "pursuant-platform",
   "metadata": {
    "execution": {
     "iopub.execute_input": "2022-01-19T03:56:41.247418Z",
     "iopub.status.busy": "2022-01-19T03:56:41.246606Z",
     "iopub.status.idle": "2022-01-19T03:56:41.267898Z",
     "shell.execute_reply": "2022-01-19T03:56:41.268311Z",
     "shell.execute_reply.started": "2022-01-19T03:05:40.594255Z"
    },
    "papermill": {
     "duration": 0.13721,
     "end_time": "2022-01-19T03:56:41.268472",
     "exception": false,
     "start_time": "2022-01-19T03:56:41.131262",
     "status": "completed"
    },
    "tags": []
   },
   "outputs": [
    {
     "data": {
      "text/html": [
       "<div>\n",
       "<style scoped>\n",
       "    .dataframe tbody tr th:only-of-type {\n",
       "        vertical-align: middle;\n",
       "    }\n",
       "\n",
       "    .dataframe tbody tr th {\n",
       "        vertical-align: top;\n",
       "    }\n",
       "\n",
       "    .dataframe thead th {\n",
       "        text-align: right;\n",
       "    }\n",
       "</style>\n",
       "<table border=\"1\" class=\"dataframe\">\n",
       "  <thead>\n",
       "    <tr style=\"text-align: right;\">\n",
       "      <th></th>\n",
       "      <th>PassengerId</th>\n",
       "      <th>Survived</th>\n",
       "      <th>Pclass</th>\n",
       "      <th>Name</th>\n",
       "      <th>Sex</th>\n",
       "      <th>Age</th>\n",
       "      <th>SibSp</th>\n",
       "      <th>Parch</th>\n",
       "      <th>Ticket</th>\n",
       "      <th>Fare</th>\n",
       "      <th>Cabin</th>\n",
       "      <th>Embarked</th>\n",
       "    </tr>\n",
       "  </thead>\n",
       "  <tbody>\n",
       "    <tr>\n",
       "      <th>0</th>\n",
       "      <td>1</td>\n",
       "      <td>0</td>\n",
       "      <td>3</td>\n",
       "      <td>Braund, Mr. Owen Harris</td>\n",
       "      <td>male</td>\n",
       "      <td>22.0</td>\n",
       "      <td>1</td>\n",
       "      <td>0</td>\n",
       "      <td>A/5 21171</td>\n",
       "      <td>7.2500</td>\n",
       "      <td>NaN</td>\n",
       "      <td>S</td>\n",
       "    </tr>\n",
       "    <tr>\n",
       "      <th>1</th>\n",
       "      <td>2</td>\n",
       "      <td>1</td>\n",
       "      <td>1</td>\n",
       "      <td>Cumings, Mrs. John Bradley (Florence Briggs Th...</td>\n",
       "      <td>female</td>\n",
       "      <td>38.0</td>\n",
       "      <td>1</td>\n",
       "      <td>0</td>\n",
       "      <td>PC 17599</td>\n",
       "      <td>71.2833</td>\n",
       "      <td>C85</td>\n",
       "      <td>C</td>\n",
       "    </tr>\n",
       "    <tr>\n",
       "      <th>2</th>\n",
       "      <td>3</td>\n",
       "      <td>1</td>\n",
       "      <td>3</td>\n",
       "      <td>Heikkinen, Miss. Laina</td>\n",
       "      <td>female</td>\n",
       "      <td>26.0</td>\n",
       "      <td>0</td>\n",
       "      <td>0</td>\n",
       "      <td>STON/O2. 3101282</td>\n",
       "      <td>7.9250</td>\n",
       "      <td>NaN</td>\n",
       "      <td>S</td>\n",
       "    </tr>\n",
       "    <tr>\n",
       "      <th>3</th>\n",
       "      <td>4</td>\n",
       "      <td>1</td>\n",
       "      <td>1</td>\n",
       "      <td>Futrelle, Mrs. Jacques Heath (Lily May Peel)</td>\n",
       "      <td>female</td>\n",
       "      <td>35.0</td>\n",
       "      <td>1</td>\n",
       "      <td>0</td>\n",
       "      <td>113803</td>\n",
       "      <td>53.1000</td>\n",
       "      <td>C123</td>\n",
       "      <td>S</td>\n",
       "    </tr>\n",
       "    <tr>\n",
       "      <th>4</th>\n",
       "      <td>5</td>\n",
       "      <td>0</td>\n",
       "      <td>3</td>\n",
       "      <td>Allen, Mr. William Henry</td>\n",
       "      <td>male</td>\n",
       "      <td>35.0</td>\n",
       "      <td>0</td>\n",
       "      <td>0</td>\n",
       "      <td>373450</td>\n",
       "      <td>8.0500</td>\n",
       "      <td>NaN</td>\n",
       "      <td>S</td>\n",
       "    </tr>\n",
       "  </tbody>\n",
       "</table>\n",
       "</div>"
      ],
      "text/plain": [
       "   PassengerId  Survived  Pclass  \\\n",
       "0            1         0       3   \n",
       "1            2         1       1   \n",
       "2            3         1       3   \n",
       "3            4         1       1   \n",
       "4            5         0       3   \n",
       "\n",
       "                                                Name     Sex   Age  SibSp  \\\n",
       "0                            Braund, Mr. Owen Harris    male  22.0      1   \n",
       "1  Cumings, Mrs. John Bradley (Florence Briggs Th...  female  38.0      1   \n",
       "2                             Heikkinen, Miss. Laina  female  26.0      0   \n",
       "3       Futrelle, Mrs. Jacques Heath (Lily May Peel)  female  35.0      1   \n",
       "4                           Allen, Mr. William Henry    male  35.0      0   \n",
       "\n",
       "   Parch            Ticket     Fare Cabin Embarked  \n",
       "0      0         A/5 21171   7.2500   NaN        S  \n",
       "1      0          PC 17599  71.2833   C85        C  \n",
       "2      0  STON/O2. 3101282   7.9250   NaN        S  \n",
       "3      0            113803  53.1000  C123        S  \n",
       "4      0            373450   8.0500   NaN        S  "
      ]
     },
     "execution_count": 3,
     "metadata": {},
     "output_type": "execute_result"
    }
   ],
   "source": [
    "train_data.head()"
   ]
  },
  {
   "cell_type": "markdown",
   "id": "obvious-situation",
   "metadata": {
    "papermill": {
     "duration": 0.106702,
     "end_time": "2022-01-19T03:56:41.482213",
     "exception": false,
     "start_time": "2022-01-19T03:56:41.375511",
     "status": "completed"
    },
    "tags": []
   },
   "source": [
    "<h5>Example of Submission</h5>\n",
    "\n",
    "Given the passengerID, We are looking to predict whether a passenger survived or not. "
   ]
  },
  {
   "cell_type": "code",
   "execution_count": 4,
   "id": "cubic-village",
   "metadata": {
    "execution": {
     "iopub.execute_input": "2022-01-19T03:56:41.696147Z",
     "iopub.status.busy": "2022-01-19T03:56:41.695528Z",
     "iopub.status.idle": "2022-01-19T03:56:41.710574Z",
     "shell.execute_reply": "2022-01-19T03:56:41.711069Z",
     "shell.execute_reply.started": "2022-01-19T03:05:41.010481Z"
    },
    "papermill": {
     "duration": 0.124476,
     "end_time": "2022-01-19T03:56:41.711260",
     "exception": false,
     "start_time": "2022-01-19T03:56:41.586784",
     "status": "completed"
    },
    "tags": []
   },
   "outputs": [
    {
     "data": {
      "text/html": [
       "<div>\n",
       "<style scoped>\n",
       "    .dataframe tbody tr th:only-of-type {\n",
       "        vertical-align: middle;\n",
       "    }\n",
       "\n",
       "    .dataframe tbody tr th {\n",
       "        vertical-align: top;\n",
       "    }\n",
       "\n",
       "    .dataframe thead th {\n",
       "        text-align: right;\n",
       "    }\n",
       "</style>\n",
       "<table border=\"1\" class=\"dataframe\">\n",
       "  <thead>\n",
       "    <tr style=\"text-align: right;\">\n",
       "      <th></th>\n",
       "      <th>PassengerId</th>\n",
       "      <th>Survived</th>\n",
       "    </tr>\n",
       "  </thead>\n",
       "  <tbody>\n",
       "    <tr>\n",
       "      <th>0</th>\n",
       "      <td>892</td>\n",
       "      <td>0</td>\n",
       "    </tr>\n",
       "    <tr>\n",
       "      <th>1</th>\n",
       "      <td>893</td>\n",
       "      <td>1</td>\n",
       "    </tr>\n",
       "    <tr>\n",
       "      <th>2</th>\n",
       "      <td>894</td>\n",
       "      <td>0</td>\n",
       "    </tr>\n",
       "    <tr>\n",
       "      <th>3</th>\n",
       "      <td>895</td>\n",
       "      <td>0</td>\n",
       "    </tr>\n",
       "    <tr>\n",
       "      <th>4</th>\n",
       "      <td>896</td>\n",
       "      <td>1</td>\n",
       "    </tr>\n",
       "  </tbody>\n",
       "</table>\n",
       "</div>"
      ],
      "text/plain": [
       "   PassengerId  Survived\n",
       "0          892         0\n",
       "1          893         1\n",
       "2          894         0\n",
       "3          895         0\n",
       "4          896         1"
      ]
     },
     "execution_count": 4,
     "metadata": {},
     "output_type": "execute_result"
    }
   ],
   "source": [
    "submission_data = pd.read_csv(\"/kaggle/input/titanic/gender_submission.csv\")\n",
    "submission_data.head()"
   ]
  },
  {
   "cell_type": "markdown",
   "id": "swiss-cargo",
   "metadata": {
    "papermill": {
     "duration": 0.107476,
     "end_time": "2022-01-19T03:56:41.923725",
     "exception": false,
     "start_time": "2022-01-19T03:56:41.816249",
     "status": "completed"
    },
    "tags": []
   },
   "source": [
    "#### **Feature Analysis**"
   ]
  },
  {
   "cell_type": "code",
   "execution_count": 5,
   "id": "governmental-inventory",
   "metadata": {
    "execution": {
     "iopub.execute_input": "2022-01-19T03:56:42.143103Z",
     "iopub.status.busy": "2022-01-19T03:56:42.142530Z",
     "iopub.status.idle": "2022-01-19T03:56:42.147052Z",
     "shell.execute_reply": "2022-01-19T03:56:42.147571Z",
     "shell.execute_reply.started": "2022-01-19T03:05:41.437937Z"
    },
    "papermill": {
     "duration": 0.114414,
     "end_time": "2022-01-19T03:56:42.147727",
     "exception": false,
     "start_time": "2022-01-19T03:56:42.033313",
     "status": "completed"
    },
    "tags": []
   },
   "outputs": [
    {
     "data": {
      "text/plain": [
       "array(['PassengerId', 'Survived', 'Pclass', 'Name', 'Sex', 'Age', 'SibSp',\n",
       "       'Parch', 'Ticket', 'Fare', 'Cabin', 'Embarked'], dtype=object)"
      ]
     },
     "execution_count": 5,
     "metadata": {},
     "output_type": "execute_result"
    }
   ],
   "source": [
    "train_data.columns.values"
   ]
  },
  {
   "cell_type": "markdown",
   "id": "aggregate-tunisia",
   "metadata": {
    "papermill": {
     "duration": 0.104331,
     "end_time": "2022-01-19T03:56:42.358964",
     "exception": false,
     "start_time": "2022-01-19T03:56:42.254633",
     "status": "completed"
    },
    "tags": []
   },
   "source": [
    "**Categorical Features**\n",
    "Categorical: Survived, Sex, and Embarked.\n",
    "Ordinal: Pclass.\n",
    "\n",
    "**Numerical Features**\n",
    "Continous: Age, Fare.\n",
    "Discrete: SibSp, Parch."
   ]
  },
  {
   "cell_type": "markdown",
   "id": "widespread-lecture",
   "metadata": {
    "papermill": {
     "duration": 0.106676,
     "end_time": "2022-01-19T03:56:42.575116",
     "exception": false,
     "start_time": "2022-01-19T03:56:42.468440",
     "status": "completed"
    },
    "tags": []
   },
   "source": [
    "#### **Data Distribution**"
   ]
  },
  {
   "cell_type": "code",
   "execution_count": 6,
   "id": "secondary-winning",
   "metadata": {
    "execution": {
     "iopub.execute_input": "2022-01-19T03:56:42.801333Z",
     "iopub.status.busy": "2022-01-19T03:56:42.794195Z",
     "iopub.status.idle": "2022-01-19T03:56:42.830041Z",
     "shell.execute_reply": "2022-01-19T03:56:42.829574Z",
     "shell.execute_reply.started": "2022-01-19T03:05:42.118014Z"
    },
    "papermill": {
     "duration": 0.148407,
     "end_time": "2022-01-19T03:56:42.830191",
     "exception": false,
     "start_time": "2022-01-19T03:56:42.681784",
     "status": "completed"
    },
    "tags": []
   },
   "outputs": [
    {
     "data": {
      "text/html": [
       "<div>\n",
       "<style scoped>\n",
       "    .dataframe tbody tr th:only-of-type {\n",
       "        vertical-align: middle;\n",
       "    }\n",
       "\n",
       "    .dataframe tbody tr th {\n",
       "        vertical-align: top;\n",
       "    }\n",
       "\n",
       "    .dataframe thead th {\n",
       "        text-align: right;\n",
       "    }\n",
       "</style>\n",
       "<table border=\"1\" class=\"dataframe\">\n",
       "  <thead>\n",
       "    <tr style=\"text-align: right;\">\n",
       "      <th></th>\n",
       "      <th>PassengerId</th>\n",
       "      <th>Survived</th>\n",
       "      <th>Pclass</th>\n",
       "      <th>Age</th>\n",
       "      <th>SibSp</th>\n",
       "      <th>Parch</th>\n",
       "      <th>Fare</th>\n",
       "    </tr>\n",
       "  </thead>\n",
       "  <tbody>\n",
       "    <tr>\n",
       "      <th>count</th>\n",
       "      <td>891.000000</td>\n",
       "      <td>891.000000</td>\n",
       "      <td>891.000000</td>\n",
       "      <td>714.000000</td>\n",
       "      <td>891.000000</td>\n",
       "      <td>891.000000</td>\n",
       "      <td>891.000000</td>\n",
       "    </tr>\n",
       "    <tr>\n",
       "      <th>mean</th>\n",
       "      <td>446.000000</td>\n",
       "      <td>0.383838</td>\n",
       "      <td>2.308642</td>\n",
       "      <td>29.699118</td>\n",
       "      <td>0.523008</td>\n",
       "      <td>0.381594</td>\n",
       "      <td>32.204208</td>\n",
       "    </tr>\n",
       "    <tr>\n",
       "      <th>std</th>\n",
       "      <td>257.353842</td>\n",
       "      <td>0.486592</td>\n",
       "      <td>0.836071</td>\n",
       "      <td>14.526497</td>\n",
       "      <td>1.102743</td>\n",
       "      <td>0.806057</td>\n",
       "      <td>49.693429</td>\n",
       "    </tr>\n",
       "    <tr>\n",
       "      <th>min</th>\n",
       "      <td>1.000000</td>\n",
       "      <td>0.000000</td>\n",
       "      <td>1.000000</td>\n",
       "      <td>0.420000</td>\n",
       "      <td>0.000000</td>\n",
       "      <td>0.000000</td>\n",
       "      <td>0.000000</td>\n",
       "    </tr>\n",
       "    <tr>\n",
       "      <th>25%</th>\n",
       "      <td>223.500000</td>\n",
       "      <td>0.000000</td>\n",
       "      <td>2.000000</td>\n",
       "      <td>20.125000</td>\n",
       "      <td>0.000000</td>\n",
       "      <td>0.000000</td>\n",
       "      <td>7.910400</td>\n",
       "    </tr>\n",
       "    <tr>\n",
       "      <th>50%</th>\n",
       "      <td>446.000000</td>\n",
       "      <td>0.000000</td>\n",
       "      <td>3.000000</td>\n",
       "      <td>28.000000</td>\n",
       "      <td>0.000000</td>\n",
       "      <td>0.000000</td>\n",
       "      <td>14.454200</td>\n",
       "    </tr>\n",
       "    <tr>\n",
       "      <th>75%</th>\n",
       "      <td>668.500000</td>\n",
       "      <td>1.000000</td>\n",
       "      <td>3.000000</td>\n",
       "      <td>38.000000</td>\n",
       "      <td>1.000000</td>\n",
       "      <td>0.000000</td>\n",
       "      <td>31.000000</td>\n",
       "    </tr>\n",
       "    <tr>\n",
       "      <th>max</th>\n",
       "      <td>891.000000</td>\n",
       "      <td>1.000000</td>\n",
       "      <td>3.000000</td>\n",
       "      <td>80.000000</td>\n",
       "      <td>8.000000</td>\n",
       "      <td>6.000000</td>\n",
       "      <td>512.329200</td>\n",
       "    </tr>\n",
       "  </tbody>\n",
       "</table>\n",
       "</div>"
      ],
      "text/plain": [
       "       PassengerId    Survived      Pclass         Age       SibSp  \\\n",
       "count   891.000000  891.000000  891.000000  714.000000  891.000000   \n",
       "mean    446.000000    0.383838    2.308642   29.699118    0.523008   \n",
       "std     257.353842    0.486592    0.836071   14.526497    1.102743   \n",
       "min       1.000000    0.000000    1.000000    0.420000    0.000000   \n",
       "25%     223.500000    0.000000    2.000000   20.125000    0.000000   \n",
       "50%     446.000000    0.000000    3.000000   28.000000    0.000000   \n",
       "75%     668.500000    1.000000    3.000000   38.000000    1.000000   \n",
       "max     891.000000    1.000000    3.000000   80.000000    8.000000   \n",
       "\n",
       "            Parch        Fare  \n",
       "count  891.000000  891.000000  \n",
       "mean     0.381594   32.204208  \n",
       "std      0.806057   49.693429  \n",
       "min      0.000000    0.000000  \n",
       "25%      0.000000    7.910400  \n",
       "50%      0.000000   14.454200  \n",
       "75%      0.000000   31.000000  \n",
       "max      6.000000  512.329200  "
      ]
     },
     "execution_count": 6,
     "metadata": {},
     "output_type": "execute_result"
    }
   ],
   "source": [
    "train_data.describe()"
   ]
  },
  {
   "cell_type": "markdown",
   "id": "different-marine",
   "metadata": {
    "papermill": {
     "duration": 0.109278,
     "end_time": "2022-01-19T03:56:43.048625",
     "exception": false,
     "start_time": "2022-01-19T03:56:42.939347",
     "status": "completed"
    },
    "tags": []
   },
   "source": [
    "* Around 38% samples survived representative of the actual survival rate at 32%.\n",
    "* Most passengers (> 75%) did not travel with parents or children.\n",
    "* Nearly 30% of the passengers had siblings and/or spouse aboard.\n",
    "* Fares varied significantly with few passengers (<1%) paying as high as $512.\n",
    "* Age is missing for 177 passengers, we need to find a way to fix this."
   ]
  },
  {
   "cell_type": "code",
   "execution_count": 7,
   "id": "mineral-dress",
   "metadata": {
    "execution": {
     "iopub.execute_input": "2022-01-19T03:56:43.269049Z",
     "iopub.status.busy": "2022-01-19T03:56:43.268437Z",
     "iopub.status.idle": "2022-01-19T03:56:43.305698Z",
     "shell.execute_reply": "2022-01-19T03:56:43.306240Z",
     "shell.execute_reply.started": "2022-01-19T03:05:42.578236Z"
    },
    "papermill": {
     "duration": 0.149034,
     "end_time": "2022-01-19T03:56:43.306419",
     "exception": false,
     "start_time": "2022-01-19T03:56:43.157385",
     "status": "completed"
    },
    "tags": []
   },
   "outputs": [
    {
     "data": {
      "text/html": [
       "<div>\n",
       "<style scoped>\n",
       "    .dataframe tbody tr th:only-of-type {\n",
       "        vertical-align: middle;\n",
       "    }\n",
       "\n",
       "    .dataframe tbody tr th {\n",
       "        vertical-align: top;\n",
       "    }\n",
       "\n",
       "    .dataframe thead th {\n",
       "        text-align: right;\n",
       "    }\n",
       "</style>\n",
       "<table border=\"1\" class=\"dataframe\">\n",
       "  <thead>\n",
       "    <tr style=\"text-align: right;\">\n",
       "      <th></th>\n",
       "      <th>Name</th>\n",
       "      <th>Sex</th>\n",
       "      <th>Ticket</th>\n",
       "      <th>Cabin</th>\n",
       "      <th>Embarked</th>\n",
       "    </tr>\n",
       "  </thead>\n",
       "  <tbody>\n",
       "    <tr>\n",
       "      <th>count</th>\n",
       "      <td>891</td>\n",
       "      <td>891</td>\n",
       "      <td>891</td>\n",
       "      <td>204</td>\n",
       "      <td>889</td>\n",
       "    </tr>\n",
       "    <tr>\n",
       "      <th>unique</th>\n",
       "      <td>891</td>\n",
       "      <td>2</td>\n",
       "      <td>681</td>\n",
       "      <td>147</td>\n",
       "      <td>3</td>\n",
       "    </tr>\n",
       "    <tr>\n",
       "      <th>top</th>\n",
       "      <td>Fischer, Mr. Eberhard Thelander</td>\n",
       "      <td>male</td>\n",
       "      <td>1601</td>\n",
       "      <td>B96 B98</td>\n",
       "      <td>S</td>\n",
       "    </tr>\n",
       "    <tr>\n",
       "      <th>freq</th>\n",
       "      <td>1</td>\n",
       "      <td>577</td>\n",
       "      <td>7</td>\n",
       "      <td>4</td>\n",
       "      <td>644</td>\n",
       "    </tr>\n",
       "  </tbody>\n",
       "</table>\n",
       "</div>"
      ],
      "text/plain": [
       "                                   Name   Sex Ticket    Cabin Embarked\n",
       "count                               891   891    891      204      889\n",
       "unique                              891     2    681      147        3\n",
       "top     Fischer, Mr. Eberhard Thelander  male   1601  B96 B98        S\n",
       "freq                                  1   577      7        4      644"
      ]
     },
     "execution_count": 7,
     "metadata": {},
     "output_type": "execute_result"
    }
   ],
   "source": [
    "train_data.describe(include = ['O'])"
   ]
  },
  {
   "cell_type": "markdown",
   "id": "several-token",
   "metadata": {
    "papermill": {
     "duration": 0.111069,
     "end_time": "2022-01-19T03:56:43.527511",
     "exception": false,
     "start_time": "2022-01-19T03:56:43.416442",
     "status": "completed"
    },
    "tags": []
   },
   "source": [
    "* All the traveller names are unique. \n",
    "* There are only two types of sex, Male and Female. Male population represents 65%.\n",
    "* There are many duplicates in cabin and many people could be in shared cabin. This feature might not be of use in our models.\n",
    "* Embarked is classified into three types and most of them belong to S.\n",
    "* There were many duplicates in the Ticket, only 77% had unique tickets."
   ]
  },
  {
   "cell_type": "markdown",
   "id": "interim-instruction",
   "metadata": {
    "papermill": {
     "duration": 0.108957,
     "end_time": "2022-01-19T03:56:43.745772",
     "exception": false,
     "start_time": "2022-01-19T03:56:43.636815",
     "status": "completed"
    },
    "tags": []
   },
   "source": [
    "**Total Missing Values**"
   ]
  },
  {
   "cell_type": "code",
   "execution_count": 8,
   "id": "micro-maria",
   "metadata": {
    "execution": {
     "iopub.execute_input": "2022-01-19T03:56:43.965834Z",
     "iopub.status.busy": "2022-01-19T03:56:43.964963Z",
     "iopub.status.idle": "2022-01-19T03:56:43.970445Z",
     "shell.execute_reply": "2022-01-19T03:56:43.970983Z",
     "shell.execute_reply.started": "2022-01-19T03:05:43.274258Z"
    },
    "papermill": {
     "duration": 0.117611,
     "end_time": "2022-01-19T03:56:43.971185",
     "exception": false,
     "start_time": "2022-01-19T03:56:43.853574",
     "status": "completed"
    },
    "tags": []
   },
   "outputs": [],
   "source": [
    "def na_values(data):\n",
    "    report = data.isna().sum().to_frame()\n",
    "    report = report.rename(columns = {0: 'missing_values'})\n",
    "    report = report.loc[report['missing_values'] != 0]\n",
    "    report['% of total'] = (report['missing_values'] / data.shape[0]).round(2)\n",
    "    return report.sort_values(by = 'missing_values', ascending = False)"
   ]
  },
  {
   "cell_type": "code",
   "execution_count": 9,
   "id": "loaded-probability",
   "metadata": {
    "execution": {
     "iopub.execute_input": "2022-01-19T03:56:44.193600Z",
     "iopub.status.busy": "2022-01-19T03:56:44.193007Z",
     "iopub.status.idle": "2022-01-19T03:56:44.204890Z",
     "shell.execute_reply": "2022-01-19T03:56:44.204409Z",
     "shell.execute_reply.started": "2022-01-19T03:05:43.522826Z"
    },
    "papermill": {
     "duration": 0.125194,
     "end_time": "2022-01-19T03:56:44.205022",
     "exception": false,
     "start_time": "2022-01-19T03:56:44.079828",
     "status": "completed"
    },
    "tags": []
   },
   "outputs": [
    {
     "data": {
      "text/html": [
       "<div>\n",
       "<style scoped>\n",
       "    .dataframe tbody tr th:only-of-type {\n",
       "        vertical-align: middle;\n",
       "    }\n",
       "\n",
       "    .dataframe tbody tr th {\n",
       "        vertical-align: top;\n",
       "    }\n",
       "\n",
       "    .dataframe thead th {\n",
       "        text-align: right;\n",
       "    }\n",
       "</style>\n",
       "<table border=\"1\" class=\"dataframe\">\n",
       "  <thead>\n",
       "    <tr style=\"text-align: right;\">\n",
       "      <th></th>\n",
       "      <th>missing_values</th>\n",
       "      <th>% of total</th>\n",
       "    </tr>\n",
       "  </thead>\n",
       "  <tbody>\n",
       "    <tr>\n",
       "      <th>Cabin</th>\n",
       "      <td>687</td>\n",
       "      <td>0.77</td>\n",
       "    </tr>\n",
       "    <tr>\n",
       "      <th>Age</th>\n",
       "      <td>177</td>\n",
       "      <td>0.20</td>\n",
       "    </tr>\n",
       "    <tr>\n",
       "      <th>Embarked</th>\n",
       "      <td>2</td>\n",
       "      <td>0.00</td>\n",
       "    </tr>\n",
       "  </tbody>\n",
       "</table>\n",
       "</div>"
      ],
      "text/plain": [
       "          missing_values  % of total\n",
       "Cabin                687        0.77\n",
       "Age                  177        0.20\n",
       "Embarked               2        0.00"
      ]
     },
     "execution_count": 9,
     "metadata": {},
     "output_type": "execute_result"
    }
   ],
   "source": [
    "na_values(train_data)"
   ]
  },
  {
   "cell_type": "code",
   "execution_count": 10,
   "id": "constitutional-browser",
   "metadata": {
    "execution": {
     "iopub.execute_input": "2022-01-19T03:56:44.431610Z",
     "iopub.status.busy": "2022-01-19T03:56:44.430796Z",
     "iopub.status.idle": "2022-01-19T03:56:44.434579Z",
     "shell.execute_reply": "2022-01-19T03:56:44.434081Z",
     "shell.execute_reply.started": "2022-01-19T03:05:43.786107Z"
    },
    "papermill": {
     "duration": 0.123169,
     "end_time": "2022-01-19T03:56:44.434701",
     "exception": false,
     "start_time": "2022-01-19T03:56:44.311532",
     "status": "completed"
    },
    "tags": []
   },
   "outputs": [
    {
     "data": {
      "text/html": [
       "<div>\n",
       "<style scoped>\n",
       "    .dataframe tbody tr th:only-of-type {\n",
       "        vertical-align: middle;\n",
       "    }\n",
       "\n",
       "    .dataframe tbody tr th {\n",
       "        vertical-align: top;\n",
       "    }\n",
       "\n",
       "    .dataframe thead th {\n",
       "        text-align: right;\n",
       "    }\n",
       "</style>\n",
       "<table border=\"1\" class=\"dataframe\">\n",
       "  <thead>\n",
       "    <tr style=\"text-align: right;\">\n",
       "      <th></th>\n",
       "      <th>missing_values</th>\n",
       "      <th>% of total</th>\n",
       "    </tr>\n",
       "  </thead>\n",
       "  <tbody>\n",
       "    <tr>\n",
       "      <th>Cabin</th>\n",
       "      <td>327</td>\n",
       "      <td>0.78</td>\n",
       "    </tr>\n",
       "    <tr>\n",
       "      <th>Age</th>\n",
       "      <td>86</td>\n",
       "      <td>0.21</td>\n",
       "    </tr>\n",
       "    <tr>\n",
       "      <th>Fare</th>\n",
       "      <td>1</td>\n",
       "      <td>0.00</td>\n",
       "    </tr>\n",
       "  </tbody>\n",
       "</table>\n",
       "</div>"
      ],
      "text/plain": [
       "       missing_values  % of total\n",
       "Cabin             327        0.78\n",
       "Age                86        0.21\n",
       "Fare                1        0.00"
      ]
     },
     "execution_count": 10,
     "metadata": {},
     "output_type": "execute_result"
    }
   ],
   "source": [
    "na_values(test_data)"
   ]
  },
  {
   "cell_type": "markdown",
   "id": "federal-butler",
   "metadata": {
    "papermill": {
     "duration": 0.109452,
     "end_time": "2022-01-19T03:56:44.652302",
     "exception": false,
     "start_time": "2022-01-19T03:56:44.542850",
     "status": "completed"
    },
    "tags": []
   },
   "source": [
    "#### **Data Visualizations**"
   ]
  },
  {
   "cell_type": "code",
   "execution_count": 11,
   "id": "documentary-outreach",
   "metadata": {
    "execution": {
     "iopub.execute_input": "2022-01-19T03:56:44.870146Z",
     "iopub.status.busy": "2022-01-19T03:56:44.869569Z",
     "iopub.status.idle": "2022-01-19T03:56:45.946123Z",
     "shell.execute_reply": "2022-01-19T03:56:45.945644Z",
     "shell.execute_reply.started": "2022-01-19T03:05:44.231242Z"
    },
    "papermill": {
     "duration": 1.185541,
     "end_time": "2022-01-19T03:56:45.946271",
     "exception": false,
     "start_time": "2022-01-19T03:56:44.760730",
     "status": "completed"
    },
    "tags": []
   },
   "outputs": [
    {
     "data": {
      "image/png": "[encoded data removed]",
      "text/plain": [
       "<Figure size 771.875x360 with 2 Axes>"
      ]
     },
     "metadata": {
      "needs_background": "light"
     },
     "output_type": "display_data"
    }
   ],
   "source": [
    "ax = sns.displot(train_data,x = \"Age\", bins=40, hue = \"Survived\", col = \"Sex\", multiple = \"stack\")"
   ]
  },
  {
   "cell_type": "code",
   "execution_count": 12,
   "id": "israeli-intranet",
   "metadata": {
    "execution": {
     "iopub.execute_input": "2022-01-19T03:56:46.167156Z",
     "iopub.status.busy": "2022-01-19T03:56:46.166609Z",
     "iopub.status.idle": "2022-01-19T03:56:46.488491Z",
     "shell.execute_reply": "2022-01-19T03:56:46.487950Z",
     "shell.execute_reply.started": "2022-01-19T03:05:45.282905Z"
    },
    "papermill": {
     "duration": 0.433737,
     "end_time": "2022-01-19T03:56:46.488622",
     "exception": false,
     "start_time": "2022-01-19T03:56:46.054885",
     "status": "completed"
    },
    "tags": []
   },
   "outputs": [
    {
     "data": {
      "text/html": [
       "        <script type=\"text/javascript\">\n",
       "        window.PlotlyConfig = {MathJaxConfig: 'local'};\n",
       "        if (window.MathJax) {MathJax.Hub.Config({SVG: {font: \"STIX-Web\"}});}\n",
       "        if (typeof require !== 'undefined') {\n",
       "        require.undef(\"plotly\");\n",
       "        requirejs.config({\n",
       "            paths: {\n",
       "                'plotly': ['https://cdn.plot.ly/plotly-latest.min']\n",
       "            }\n",
       "        });\n",
       "        require(['plotly'], function(Plotly) {\n",
       "            window._Plotly = Plotly;\n",
       "        });\n",
       "        }\n",
       "        </script>\n",
       "        "
      ]
     },
     "metadata": {},
     "output_type": "display_data"
    },
    {
     "data": {
      "text/html": [
       "<div>                            <div id=\"5bba2c14-f6f0-48f3-af6d-4a6c20674878\" class=\"plotly-graph-div\" style=\"height:525px; width:100%;\"></div>            <script type=\"text/javascript\">                require([\"plotly\"], function(Plotly) {                    window.PLOTLYENV=window.PLOTLYENV || {};                                    if (document.getElementById(\"5bba2c14-f6f0-48f3-af6d-4a6c20674878\")) {                    Plotly.newPlot(                        \"5bba2c14-f6f0-48f3-af6d-4a6c20674878\",                        [{\"hovertemplate\": \"PassengerId=%{x}<br>Age=%{y}<br>Survived=%{marker.color}<extra></extra>\", \"legendgroup\": \"\", \"marker\": {\"color\": [0, 1, 1, 1, 0, 0, 0, 0, 1, 1, 1, 1, 0, 0, 0, 1, 0, 1, 0, 1, 0, 1, 1, 1, 0, 1, 0, 0, 1, 0, 0, 1, 1, 0, 0, 0, 1, 0, 0, 1, 0, 0, 0, 1, 1, 0, 0, 1, 0, 0, 0, 0, 1, 1, 0, 1, 1, 0, 1, 0, 0, 1, 0, 0, 0, 1, 1, 0, 1, 0, 0, 0, 0, 0, 1, 0, 0, 0, 1, 1, 0, 1, 1, 0, 1, 1, 0, 0, 1, 0, 0, 0, 0, 0, 0, 0, 0, 1, 1, 0, 0, 0, 0, 0, 0, 0, 1, 1, 0, 1, 0, 0, 0, 0, 0, 0, 0, 0, 0, 0, 0, 0, 0, 1, 0, 1, 0, 1, 1, 0, 0, 0, 0, 1, 0, 0, 1, 0, 0, 0, 0, 1, 1, 0, 0, 0, 1, 0, 0, 0, 0, 1, 0, 0, 0, 0, 1, 0, 0, 0, 0, 1, 0, 0, 0, 1, 1, 0, 0, 0, 0, 0, 1, 0, 0, 0, 0, 0, 0, 0, 0, 0, 0, 1, 1, 0, 1, 1, 0, 0, 1, 0, 1, 1, 1, 1, 0, 0, 1, 0, 0, 0, 0, 0, 1, 0, 0, 1, 1, 1, 0, 1, 0, 0, 0, 1, 1, 0, 1, 0, 1, 0, 0, 0, 1, 0, 1, 0, 0, 0, 1, 0, 0, 1, 0, 0, 0, 1, 0, 0, 0, 1, 0, 0, 0, 0, 0, 1, 1, 0, 0, 0, 0, 0, 0, 1, 1, 1, 1, 1, 0, 1, 0, 0, 0, 0, 0, 1, 1, 1, 0, 1, 1, 0, 1, 1, 0, 0, 0, 1, 0, 0, 0, 1, 0, 0, 1, 0, 1, 1, 1, 1, 0, 0, 0, 0, 0, 0, 1, 1, 1, 1, 0, 1, 0, 1, 1, 1, 0, 1, 1, 1, 0, 0, 0, 1, 1, 0, 1, 1, 0, 0, 1, 1, 0, 1, 0, 1, 1, 1, 1, 0, 0, 0, 1, 0, 0, 1, 1, 0, 1, 1, 0, 0, 0, 1, 1, 1, 1, 0, 0, 0, 0, 0, 0, 0, 1, 0, 1, 1, 0, 0, 0, 0, 0, 0, 1, 1, 1, 1, 1, 0, 0, 0, 0, 1, 1, 0, 0, 0, 1, 1, 0, 1, 0, 0, 0, 1, 0, 1, 1, 1, 0, 1, 1, 0, 0, 0, 0, 1, 1, 0, 0, 0, 0, 0, 0, 1, 0, 0, 0, 0, 1, 0, 1, 0, 1, 1, 0, 0, 0, 0, 0, 0, 0, 0, 1, 1, 0, 1, 1, 1, 1, 0, 0, 1, 0, 1, 0, 0, 1, 0, 0, 1, 1, 1, 1, 1, 1, 1, 0, 0, 0, 1, 0, 1, 0, 1, 1, 0, 1, 0, 0, 0, 0, 0, 0, 0, 0, 1, 0, 0, 1, 1, 0, 0, 0, 0, 0, 1, 0, 0, 0, 1, 1, 0, 1, 0, 0, 1, 0, 0, 0, 0, 0, 0, 1, 0, 0, 0, 0, 0, 0, 0, 1, 0, 1, 1, 0, 1, 1, 0, 1, 1, 0, 0, 1, 0, 1, 0, 1, 0, 0, 1, 0, 0, 1, 0, 0, 0, 1, 0, 0, 1, 0, 1, 0, 1, 0, 1, 1, 0, 0, 1, 0, 0, 1, 1, 0, 1, 1, 0, 0, 1, 1, 0, 1, 0, 1, 1, 0, 0, 0, 0, 0, 0, 0, 0, 0, 1, 1, 1, 1, 1, 0, 0, 1, 1, 0, 1, 1, 1, 0, 0, 0, 1, 0, 1, 0, 0, 0, 1, 0, 0, 0, 0, 1, 0, 0, 1, 1, 0, 0, 0, 1, 0, 0, 1, 1, 1, 0, 0, 1, 0, 0, 1, 0, 0, 1, 0, 0, 1, 1, 0, 0, 0, 0, 1, 0, 0, 1, 0, 1, 0, 0, 1, 0, 0, 0, 0, 0, 1, 0, 1, 1, 1, 0, 1, 0, 1, 0, 1, 0, 1, 0, 0, 0, 0, 0, 0, 1, 0, 0, 0, 1, 0, 0, 0, 0, 1, 1, 0, 0, 1, 0, 0, 0, 1, 0, 1, 0, 1, 0, 0, 0, 0, 0, 0, 0, 1, 1, 1, 1, 0, 0, 0, 0, 1, 0, 0, 1, 1, 0, 0, 0, 0, 1, 1, 1, 1, 1, 0, 1, 0, 0, 0, 1, 1, 0, 0, 1, 0, 0, 0, 1, 0, 1, 1, 0, 0, 1, 0, 0, 0, 0, 0, 0, 1, 0, 0, 1, 0, 1, 0, 1, 0, 0, 1, 0, 0, 1, 1, 0, 0, 1, 1, 0, 0, 0, 1, 0, 0, 1, 1, 0, 1, 0, 0, 0, 0, 0, 0, 0, 0, 1, 0, 0, 1, 0, 1, 1, 1, 0, 0, 0, 0, 1, 0, 1, 0, 0, 0, 0, 0, 0, 0, 1, 1, 0, 0, 0, 1, 1, 1, 1, 0, 0, 0, 0, 1, 0, 0, 0, 0, 0, 0, 0, 0, 0, 0, 1, 1, 0, 1, 0, 0, 0, 1, 1, 1, 1, 1, 0, 0, 0, 1, 0, 0, 1, 1, 0, 0, 1, 0, 0, 0, 0, 0, 0, 1, 0, 0, 0, 1, 0, 1, 1, 1, 1, 0, 0, 0, 1, 0, 0, 1, 1, 0, 0, 1, 0, 1, 0, 0, 1, 1, 0, 0, 0, 1, 1, 0, 0, 0, 0, 0, 0, 1, 0, 1, 0], \"coloraxis\": \"coloraxis\", \"symbol\": \"circle\"}, \"mode\": \"markers\", \"name\": \"\", \"orientation\": \"v\", \"showlegend\": false, \"type\": \"scatter\", \"x\": [1, 2, 3, 4, 5, 6, 7, 8, 9, 10, 11, 12, 13, 14, 15, 16, 17, 18, 19, 20, 21, 22, 23, 24, 25, 26, 27, 28, 29, 30, 31, 32, 33, 34, 35, 36, 37, 38, 39, 40, 41, 42, 43, 44, 45, 46, 47, 48, 49, 50, 51, 52, 53, 54, 55, 56, 57, 58, 59, 60, 61, 62, 63, 64, 65, 66, 67, 68, 69, 70, 71, 72, 73, 74, 75, 76, 77, 78, 79, 80, 81, 82, 83, 84, 85, 86, 87, 88, 89, 90, 91, 92, 93, 94, 95, 96, 97, 98, 99, 100, 101, 102, 103, 104, 105, 106, 107, 108, 109, 110, 111, 112, 113, 114, 115, 116, 117, 118, 119, 120, 121, 122, 123, 124, 125, 126, 127, 128, 129, 130, 131, 132, 133, 134, 135, 136, 137, 138, 139, 140, 141, 142, 143, 144, 145, 146, 147, 148, 149, 150, 151, 152, 153, 154, 155, 156, 157, 158, 159, 160, 161, 162, 163, 164, 165, 166, 167, 168, 169, 170, 171, 172, 173, 174, 175, 176, 177, 178, 179, 180, 181, 182, 183, 184, 185, 186, 187, 188, 189, 190, 191, 192, 193, 194, 195, 196, 197, 198, 199, 200, 201, 202, 203, 204, 205, 206, 207, 208, 209, 210, 211, 212, 213, 214, 215, 216, 217, 218, 219, 220, 221, 222, 223, 224, 225, 226, 227, 228, 229, 230, 231, 232, 233, 234, 235, 236, 237, 238, 239, 240, 241, 242, 243, 244, 245, 246, 247, 248, 249, 250, 251, 252, 253, 254, 255, 256, 257, 258, 259, 260, 261, 262, 263, 264, 265, 266, 267, 268, 269, 270, 271, 272, 273, 274, 275, 276, 277, 278, 279, 280, 281, 282, 283, 284, 285, 286, 287, 288, 289, 290, 291, 292, 293, 294, 295, 296, 297, 298, 299, 300, 301, 302, 303, 304, 305, 306, 307, 308, 309, 310, 311, 312, 313, 314, 315, 316, 317, 318, 319, 320, 321, 322, 323, 324, 325, 326, 327, 328, 329, 330, 331, 332, 333, 334, 335, 336, 337, 338, 339, 340, 341, 342, 343, 344, 345, 346, 347, 348, 349, 350, 351, 352, 353, 354, 355, 356, 357, 358, 359, 360, 361, 362, 363, 364, 365, 366, 367, 368, 369, 370, 371, 372, 373, 374, 375, 376, 377, 378, 379, 380, 381, 382, 383, 384, 385, 386, 387, 388, 389, 390, 391, 392, 393, 394, 395, 396, 397, 398, 399, 400, 401, 402, 403, 404, 405, 406, 407, 408, 409, 410, 411, 412, 413, 414, 415, 416, 417, 418, 419, 420, 421, 422, 423, 424, 425, 426, 427, 428, 429, 430, 431, 432, 433, 434, 435, 436, 437, 438, 439, 440, 441, 442, 443, 444, 445, 446, 447, 448, 449, 450, 451, 452, 453, 454, 455, 456, 457, 458, 459, 460, 461, 462, 463, 464, 465, 466, 467, 468, 469, 470, 471, 472, 473, 474, 475, 476, 477, 478, 479, 480, 481, 482, 483, 484, 485, 486, 487, 488, 489, 490, 491, 492, 493, 494, 495, 496, 497, 498, 499, 500, 501, 502, 503, 504, 505, 506, 507, 508, 509, 510, 511, 512, 513, 514, 515, 516, 517, 518, 519, 520, 521, 522, 523, 524, 525, 526, 527, 528, 529, 530, 531, 532, 533, 534, 535, 536, 537, 538, 539, 540, 541, 542, 543, 544, 545, 546, 547, 548, 549, 550, 551, 552, 553, 554, 555, 556, 557, 558, 559, 560, 561, 562, 563, 564, 565, 566, 567, 568, 569, 570, 571, 572, 573, 574, 575, 576, 577, 578, 579, 580, 581, 582, 583, 584, 585, 586, 587, 588, 589, 590, 591, 592, 593, 594, 595, 596, 597, 598, 599, 600, 601, 602, 603, 604, 605, 606, 607, 608, 609, 610, 611, 612, 613, 614, 615, 616, 617, 618, 619, 620, 621, 622, 623, 624, 625, 626, 627, 628, 629, 630, 631, 632, 633, 634, 635, 636, 637, 638, 639, 640, 641, 642, 643, 644, 645, 646, 647, 648, 649, 650, 651, 652, 653, 654, 655, 656, 657, 658, 659, 660, 661, 662, 663, 664, 665, 666, 667, 668, 669, 670, 671, 672, 673, 674, 675, 676, 677, 678, 679, 680, 681, 682, 683, 684, 685, 686, 687, 688, 689, 690, 691, 692, 693, 694, 695, 696, 697, 698, 699, 700, 701, 702, 703, 704, 705, 706, 707, 708, 709, 710, 711, 712, 713, 714, 715, 716, 717, 718, 719, 720, 721, 722, 723, 724, 725, 726, 727, 728, 729, 730, 731, 732, 733, 734, 735, 736, 737, 738, 739, 740, 741, 742, 743, 744, 745, 746, 747, 748, 749, 750, 751, 752, 753, 754, 755, 756, 757, 758, 759, 760, 761, 762, 763, 764, 765, 766, 767, 768, 769, 770, 771, 772, 773, 774, 775, 776, 777, 778, 779, 780, 781, 782, 783, 784, 785, 786, 787, 788, 789, 790, 791, 792, 793, 794, 795, 796, 797, 798, 799, 800, 801, 802, 803, 804, 805, 806, 807, 808, 809, 810, 811, 812, 813, 814, 815, 816, 817, 818, 819, 820, 821, 822, 823, 824, 825, 826, 827, 828, 829, 830, 831, 832, 833, 834, 835, 836, 837, 838, 839, 840, 841, 842, 843, 844, 845, 846, 847, 848, 849, 850, 851, 852, 853, 854, 855, 856, 857, 858, 859, 860, 861, 862, 863, 864, 865, 866, 867, 868, 869, 870, 871, 872, 873, 874, 875, 876, 877, 878, 879, 880, 881, 882, 883, 884, 885, 886, 887, 888, 889, 890, 891], \"xaxis\": \"x\", \"y\": [22.0, 38.0, 26.0, 35.0, 35.0, null, 54.0, 2.0, 27.0, 14.0, 4.0, 58.0, 20.0, 39.0, 14.0, 55.0, 2.0, null, 31.0, null, 35.0, 34.0, 15.0, 28.0, 8.0, 38.0, null, 19.0, null, null, 40.0, null, null, 66.0, 28.0, 42.0, null, 21.0, 18.0, 14.0, 40.0, 27.0, null, 3.0, 19.0, null, null, null, null, 18.0, 7.0, 21.0, 49.0, 29.0, 65.0, null, 21.0, 28.5, 5.0, 11.0, 22.0, 38.0, 45.0, 4.0, null, null, 29.0, 19.0, 17.0, 26.0, 32.0, 16.0, 21.0, 26.0, 32.0, 25.0, null, null, 0.83, 30.0, 22.0, 29.0, null, 28.0, 17.0, 33.0, 16.0, null, 23.0, 24.0, 29.0, 20.0, 46.0, 26.0, 59.0, null, 71.0, 23.0, 34.0, 34.0, 28.0, null, 21.0, 33.0, 37.0, 28.0, 21.0, null, 38.0, null, 47.0, 14.5, 22.0, 20.0, 17.0, 21.0, 70.5, 29.0, 24.0, 2.0, 21.0, null, 32.5, 32.5, 54.0, 12.0, null, 24.0, null, 45.0, 33.0, 20.0, 47.0, 29.0, 25.0, 23.0, 19.0, 37.0, 16.0, 24.0, null, 22.0, 24.0, 19.0, 18.0, 19.0, 27.0, 9.0, 36.5, 42.0, 51.0, 22.0, 55.5, 40.5, null, 51.0, 16.0, 30.0, null, null, 44.0, 40.0, 26.0, 17.0, 1.0, 9.0, null, 45.0, null, 28.0, 61.0, 4.0, 1.0, 21.0, 56.0, 18.0, null, 50.0, 30.0, 36.0, null, null, 9.0, 1.0, 4.0, null, null, 45.0, 40.0, 36.0, 32.0, 19.0, 19.0, 3.0, 44.0, 58.0, null, 42.0, null, 24.0, 28.0, null, 34.0, 45.5, 18.0, 2.0, 32.0, 26.0, 16.0, 40.0, 24.0, 35.0, 22.0, 30.0, null, 31.0, 27.0, 42.0, 32.0, 30.0, 16.0, 27.0, 51.0, null, 38.0, 22.0, 19.0, 20.5, 18.0, null, 35.0, 29.0, 59.0, 5.0, 24.0, null, 44.0, 8.0, 19.0, 33.0, null, null, 29.0, 22.0, 30.0, 44.0, 25.0, 24.0, 37.0, 54.0, null, 29.0, 62.0, 30.0, 41.0, 29.0, null, 30.0, 35.0, 50.0, null, 3.0, 52.0, 40.0, null, 36.0, 16.0, 25.0, 58.0, 35.0, null, 25.0, 41.0, 37.0, null, 63.0, 45.0, null, 7.0, 35.0, 65.0, 28.0, 16.0, 19.0, null, 33.0, 30.0, 22.0, 42.0, 22.0, 26.0, 19.0, 36.0, 24.0, 24.0, null, 23.5, 2.0, null, 50.0, null, null, 19.0, null, null, 0.92, null, 17.0, 30.0, 30.0, 24.0, 18.0, 26.0, 28.0, 43.0, 26.0, 24.0, 54.0, 31.0, 40.0, 22.0, 27.0, 30.0, 22.0, null, 36.0, 61.0, 36.0, 31.0, 16.0, null, 45.5, 38.0, 16.0, null, null, 29.0, 41.0, 45.0, 45.0, 2.0, 24.0, 28.0, 25.0, 36.0, 24.0, 40.0, null, 3.0, 42.0, 23.0, null, 15.0, 25.0, null, 28.0, 22.0, 38.0, null, null, 40.0, 29.0, 45.0, 35.0, null, 30.0, 60.0, null, null, 24.0, 25.0, 18.0, 19.0, 22.0, 3.0, null, 22.0, 27.0, 20.0, 19.0, 42.0, 1.0, 32.0, 35.0, null, 18.0, 1.0, 36.0, null, 17.0, 36.0, 21.0, 28.0, 23.0, 24.0, 22.0, 31.0, 46.0, 23.0, 28.0, 39.0, 26.0, 21.0, 28.0, 20.0, 34.0, 51.0, 3.0, 21.0, null, null, null, 33.0, null, 44.0, null, 34.0, 18.0, 30.0, 10.0, null, 21.0, 29.0, 28.0, 18.0, null, 28.0, 19.0, null, 32.0, 28.0, null, 42.0, 17.0, 50.0, 14.0, 21.0, 24.0, 64.0, 31.0, 45.0, 20.0, 25.0, 28.0, null, 4.0, 13.0, 34.0, 5.0, 52.0, 36.0, null, 30.0, 49.0, null, 29.0, 65.0, null, 50.0, null, 48.0, 34.0, 47.0, 48.0, null, 38.0, null, 56.0, null, 0.75, null, 38.0, 33.0, 23.0, 22.0, null, 34.0, 29.0, 22.0, 2.0, 9.0, null, 50.0, 63.0, 25.0, null, 35.0, 58.0, 30.0, 9.0, null, 21.0, 55.0, 71.0, 21.0, null, 54.0, null, 25.0, 24.0, 17.0, 21.0, null, 37.0, 16.0, 18.0, 33.0, null, 28.0, 26.0, 29.0, null, 36.0, 54.0, 24.0, 47.0, 34.0, null, 36.0, 32.0, 30.0, 22.0, null, 44.0, null, 40.5, 50.0, null, 39.0, 23.0, 2.0, null, 17.0, null, 30.0, 7.0, 45.0, 30.0, null, 22.0, 36.0, 9.0, 11.0, 32.0, 50.0, 64.0, 19.0, null, 33.0, 8.0, 17.0, 27.0, null, 22.0, 22.0, 62.0, 48.0, null, 39.0, 36.0, null, 40.0, 28.0, null, null, 24.0, 19.0, 29.0, null, 32.0, 62.0, 53.0, 36.0, null, 16.0, 19.0, 34.0, 39.0, null, 32.0, 25.0, 39.0, 54.0, 36.0, null, 18.0, 47.0, 60.0, 22.0, null, 35.0, 52.0, 47.0, null, 37.0, 36.0, null, 49.0, null, 49.0, 24.0, null, null, 44.0, 35.0, 36.0, 30.0, 27.0, 22.0, 40.0, 39.0, null, null, null, 35.0, 24.0, 34.0, 26.0, 4.0, 26.0, 27.0, 42.0, 20.0, 21.0, 21.0, 61.0, 57.0, 21.0, 26.0, null, 80.0, 51.0, 32.0, null, 9.0, 28.0, 32.0, 31.0, 41.0, null, 20.0, 24.0, 2.0, null, 0.75, 48.0, 19.0, 56.0, null, 23.0, null, 18.0, 21.0, null, 18.0, 24.0, null, 32.0, 23.0, 58.0, 50.0, 40.0, 47.0, 36.0, 20.0, 32.0, 25.0, null, 43.0, null, 40.0, 31.0, 70.0, 31.0, null, 18.0, 24.5, 18.0, 43.0, 36.0, null, 27.0, 20.0, 14.0, 60.0, 25.0, 14.0, 19.0, 18.0, 15.0, 31.0, 4.0, null, 25.0, 60.0, 52.0, 44.0, null, 49.0, 42.0, 18.0, 35.0, 18.0, 25.0, 26.0, 39.0, 45.0, 42.0, 22.0, null, 24.0, null, 48.0, 29.0, 52.0, 19.0, 38.0, 27.0, null, 33.0, 6.0, 17.0, 34.0, 50.0, 27.0, 20.0, 30.0, null, 25.0, 25.0, 29.0, 11.0, null, 23.0, 23.0, 28.5, 48.0, 35.0, null, null, null, 36.0, 21.0, 24.0, 31.0, 70.0, 16.0, 30.0, 19.0, 31.0, 4.0, 6.0, 33.0, 23.0, 48.0, 0.67, 28.0, 18.0, 34.0, 33.0, null, 41.0, 20.0, 36.0, 16.0, 51.0, null, 30.5, null, 32.0, 24.0, 48.0, 57.0, null, 54.0, 18.0, null, 5.0, null, 43.0, 13.0, 17.0, 29.0, null, 25.0, 25.0, 18.0, 8.0, 1.0, 46.0, null, 16.0, null, null, 25.0, 39.0, 49.0, 31.0, 30.0, 30.0, 34.0, 31.0, 11.0, 0.42, 27.0, 31.0, 39.0, 18.0, 39.0, 33.0, 26.0, 39.0, 35.0, 6.0, 30.5, null, 23.0, 31.0, 43.0, 10.0, 52.0, 27.0, 38.0, 27.0, 2.0, null, null, 1.0, null, 62.0, 15.0, 0.83, null, 23.0, 18.0, 39.0, 21.0, null, 32.0, null, 20.0, 16.0, 30.0, 34.5, 17.0, 42.0, null, 35.0, 28.0, null, 4.0, 74.0, 9.0, 16.0, 44.0, 18.0, 45.0, 51.0, 24.0, null, 41.0, 21.0, 48.0, null, 24.0, 42.0, 27.0, 31.0, null, 4.0, 26.0, 47.0, 33.0, 47.0, 28.0, 15.0, 20.0, 19.0, null, 56.0, 25.0, 33.0, 22.0, 28.0, 25.0, 39.0, 27.0, 19.0, null, 26.0, 32.0], \"yaxis\": \"y\"}],                        {\"coloraxis\": {\"colorbar\": {\"title\": {\"text\": \"Survived\"}}, \"colorscale\": [[0.0, \"#440154\"], [0.1111111111111111, \"#482878\"], [0.2222222222222222, \"#3e4989\"], [0.3333333333333333, \"#31688e\"], [0.4444444444444444, \"#26828e\"], [0.5555555555555556, \"#1f9e89\"], [0.6666666666666666, \"#35b779\"], [0.7777777777777778, \"#6ece58\"], [0.8888888888888888, \"#b5de2b\"], [1.0, \"#fde725\"]]}, \"legend\": {\"tracegroupgap\": 0}, \"template\": {\"data\": {\"scatter\": [{\"type\": \"scatter\"}]}}, \"title\": {\"text\": \"Survival by Age\"}, \"xaxis\": {\"anchor\": \"y\", \"domain\": [0.0, 1.0], \"title\": {\"text\": \"PassengerId\"}, \"type\": \"log\"}, \"yaxis\": {\"anchor\": \"x\", \"domain\": [0.0, 1.0], \"title\": {\"text\": \"Age\"}}},                        {\"responsive\": true}                    ).then(function(){\n",
       "                            \n",
       "var gd = document.getElementById('5bba2c14-f6f0-48f3-af6d-4a6c20674878');\n",
       "var x = new MutationObserver(function (mutations, observer) {{\n",
       "        var display = window.getComputedStyle(gd).display;\n",
       "        if (!display || display === 'none') {{\n",
       "            console.log([gd, 'removed!']);\n",
       "            Plotly.purge(gd);\n",
       "            observer.disconnect();\n",
       "        }}\n",
       "}});\n",
       "\n",
       "// Listen for the removal of the full notebook cells\n",
       "var notebookContainer = gd.closest('#notebook-container');\n",
       "if (notebookContainer) {{\n",
       "    x.observe(notebookContainer, {childList: true});\n",
       "}}\n",
       "\n",
       "// Listen for the clearing of the current output cell\n",
       "var outputEl = gd.closest('.output');\n",
       "if (outputEl) {{\n",
       "    x.observe(outputEl, {childList: true});\n",
       "}}\n",
       "\n",
       "                        })                };                });            </script>        </div>"
      ]
     },
     "metadata": {},
     "output_type": "display_data"
    }
   ],
   "source": [
    "for template in [\"none\"]:\n",
    "    fig = px.scatter(train_data,\n",
    "                     x=\"PassengerId\", y=\"Age\", color=\"Survived\",\n",
    "                     log_x=True, size_max=20,\n",
    "                     template=template, title=\"Survival by Age\")\n",
    "    fig.show()"
   ]
  },
  {
   "cell_type": "markdown",
   "id": "german-egypt",
   "metadata": {
    "papermill": {
     "duration": 0.109754,
     "end_time": "2022-01-19T03:56:46.708961",
     "exception": false,
     "start_time": "2022-01-19T03:56:46.599207",
     "status": "completed"
    },
    "tags": []
   },
   "source": [
    "* Infants had the highest survival rate.\n",
    "* Many people in the age range 15-35 did not survive.\n",
    "* All oldest( age = 80) passengers survived. "
   ]
  },
  {
   "cell_type": "markdown",
   "id": "trained-visit",
   "metadata": {
    "papermill": {
     "duration": 0.111622,
     "end_time": "2022-01-19T03:56:46.933312",
     "exception": false,
     "start_time": "2022-01-19T03:56:46.821690",
     "status": "completed"
    },
    "tags": []
   },
   "source": [
    "##### Pclass, Sex, Embarked and Survival"
   ]
  },
  {
   "cell_type": "code",
   "execution_count": 13,
   "id": "judicial-graduate",
   "metadata": {
    "execution": {
     "iopub.execute_input": "2022-01-19T03:56:47.210433Z",
     "iopub.status.busy": "2022-01-19T03:56:47.209783Z",
     "iopub.status.idle": "2022-01-19T03:56:48.507541Z",
     "shell.execute_reply": "2022-01-19T03:56:48.507041Z",
     "shell.execute_reply.started": "2022-01-19T03:05:45.337042Z"
    },
    "papermill": {
     "duration": 1.460789,
     "end_time": "2022-01-19T03:56:48.507676",
     "exception": false,
     "start_time": "2022-01-19T03:56:47.046887",
     "status": "completed"
    },
    "tags": []
   },
   "outputs": [
    {
     "data": {
      "image/png": "[encoded data removed]",
      "text/plain": [
       "<Figure size 1150.5x360 with 3 Axes>"
      ]
     },
     "metadata": {
      "needs_background": "light"
     },
     "output_type": "display_data"
    }
   ],
   "source": [
    "g = sns.catplot(x=\"Pclass\", y='Survived', hue=\"Sex\",\n",
    "                   col='Embarked', data=train_data,kind ='point')"
   ]
  },
  {
   "cell_type": "markdown",
   "id": "mediterranean-month",
   "metadata": {
    "papermill": {
     "duration": 0.117682,
     "end_time": "2022-01-19T03:56:48.738728",
     "exception": false,
     "start_time": "2022-01-19T03:56:48.621046",
     "status": "completed"
    },
    "tags": []
   },
   "source": [
    "* Female passengers who embarked on Southampton and travelled in third class had the lowest survival rate.\n",
    "* Male passengers who embarked on Cherbourg, France had the best survival rate. "
   ]
  },
  {
   "cell_type": "markdown",
   "id": "critical-tyler",
   "metadata": {
    "papermill": {
     "duration": 0.11347,
     "end_time": "2022-01-19T03:56:48.965596",
     "exception": false,
     "start_time": "2022-01-19T03:56:48.852126",
     "status": "completed"
    },
    "tags": []
   },
   "source": [
    "##### Sex, Fare, Embarked and Survived"
   ]
  },
  {
   "cell_type": "code",
   "execution_count": 14,
   "id": "incident-glasgow",
   "metadata": {
    "execution": {
     "iopub.execute_input": "2022-01-19T03:56:49.191737Z",
     "iopub.status.busy": "2022-01-19T03:56:49.191032Z",
     "iopub.status.idle": "2022-01-19T03:56:50.584971Z",
     "shell.execute_reply": "2022-01-19T03:56:50.585462Z",
     "shell.execute_reply.started": "2022-01-19T03:05:46.892525Z"
    },
    "papermill": {
     "duration": 1.509629,
     "end_time": "2022-01-19T03:56:50.585632",
     "exception": false,
     "start_time": "2022-01-19T03:56:49.076003",
     "status": "completed"
    },
    "tags": []
   },
   "outputs": [
    {
     "data": {
      "image/png": "[encoded data removed]",
      "text/plain": [
       "<Figure size 720x1080 with 6 Axes>"
      ]
     },
     "metadata": {
      "needs_background": "light"
     },
     "output_type": "display_data"
    }
   ],
   "source": [
    "g = sns.catplot(x=\"Sex\", y='Fare', row=\"Embarked\",\n",
    "                   col='Survived', data=train_data,kind ='bar')"
   ]
  },
  {
   "cell_type": "markdown",
   "id": "available-decade",
   "metadata": {
    "papermill": {
     "duration": 0.113711,
     "end_time": "2022-01-19T03:56:50.814741",
     "exception": false,
     "start_time": "2022-01-19T03:56:50.701030",
     "status": "completed"
    },
    "tags": []
   },
   "source": [
    "* Passengers who paid high fares had high survival rates. \n",
    "* Passengers who boarded on the port C (Cherbug) had better survival rate. "
   ]
  },
  {
   "cell_type": "markdown",
   "id": "domestic-fifteen",
   "metadata": {
    "execution": {
     "iopub.execute_input": "2022-01-17T11:44:09.71281Z",
     "iopub.status.busy": "2022-01-17T11:44:09.712453Z",
     "iopub.status.idle": "2022-01-17T11:44:09.717003Z",
     "shell.execute_reply": "2022-01-17T11:44:09.71597Z",
     "shell.execute_reply.started": "2022-01-17T11:44:09.712767Z"
    },
    "papermill": {
     "duration": 0.114027,
     "end_time": "2022-01-19T03:56:51.044884",
     "exception": false,
     "start_time": "2022-01-19T03:56:50.930857",
     "status": "completed"
    },
    "tags": []
   },
   "source": [
    "##### Age, Embarked, Pclass, Sex and Survival"
   ]
  },
  {
   "cell_type": "code",
   "execution_count": 15,
   "id": "respiratory-footage",
   "metadata": {
    "execution": {
     "iopub.execute_input": "2022-01-19T03:56:51.290855Z",
     "iopub.status.busy": "2022-01-19T03:56:51.283024Z",
     "iopub.status.idle": "2022-01-19T03:56:51.879777Z",
     "shell.execute_reply": "2022-01-19T03:56:51.880343Z",
     "shell.execute_reply.started": "2022-01-19T03:05:48.243268Z"
    },
    "papermill": {
     "duration": 0.722915,
     "end_time": "2022-01-19T03:56:51.880522",
     "exception": false,
     "start_time": "2022-01-19T03:56:51.157607",
     "status": "completed"
    },
    "tags": []
   },
   "outputs": [
    {
     "data": {
      "text/plain": [
       "<AxesSubplot:xlabel='Sex', ylabel='Age'>"
      ]
     },
     "execution_count": 15,
     "metadata": {},
     "output_type": "execute_result"
    },
    {
     "data": {
      "image/png": "[encoded data removed]",
      "text/plain": [
       "<Figure size 1080x360 with 3 Axes>"
      ]
     },
     "metadata": {
      "needs_background": "light"
     },
     "output_type": "display_data"
    }
   ],
   "source": [
    "fig = plt.figure(figsize=(15,5))\n",
    "ax1 = fig.add_subplot(131)\n",
    "ax2 = fig.add_subplot(132)\n",
    "ax3 = fig.add_subplot(133)\n",
    "\n",
    "sns.violinplot(x=\"Embarked\", y=\"Pclass\", hue=\"Survived\", data=train_data, split=True, ax=ax1)\n",
    "sns.violinplot(x=\"Pclass\", y=\"Age\", hue=\"Survived\", data=train_data, split=True, ax=ax2)\n",
    "sns.violinplot(x=\"Sex\", y=\"Age\", hue=\"Survived\", data=train_data, split=True, ax=ax3)"
   ]
  },
  {
   "cell_type": "markdown",
   "id": "gothic-titanium",
   "metadata": {
    "papermill": {
     "duration": 0.121309,
     "end_time": "2022-01-19T03:56:52.120683",
     "exception": false,
     "start_time": "2022-01-19T03:56:51.999374",
     "status": "completed"
    },
    "tags": []
   },
   "source": [
    "From Pclass violinplot, we can see that:\n",
    "\n",
    "* 1st Pclass had very few children as compared to other two classes.\n",
    "* 1st Pclass had more old people as compared to other two classes.\n",
    "* Almost all children (between age 0 to 10) of 2nd Pclass survived.\n",
    "* Most children of 3rd Pclass survived.\n",
    "* Younger people of 1st Pclass survived as compared to its older people.\n",
    "* All first class and second class passengers embarked on Southhampton or Cherbourg.\n",
    "\n",
    "From Sex violinplot, we can see that:\n",
    "\n",
    "* Most male children (between age 0 to 14) survived.\n",
    "* Females with age between 18 to 40 had better survival rate.\n",
    "* Combining both male and female, we can see that children with age between 0 to 5 had better chance of survival."
   ]
  },
  {
   "cell_type": "markdown",
   "id": "considerable-controversy",
   "metadata": {
    "papermill": {
     "duration": 0.119356,
     "end_time": "2022-01-19T03:56:52.355366",
     "exception": false,
     "start_time": "2022-01-19T03:56:52.236010",
     "status": "completed"
    },
    "tags": []
   },
   "source": [
    "#### **Correlation**\n",
    "\n",
    "We need to find **Correlation** between variables. Correlation simply refers to how close two variables are to having a linear relationship with each other.  \n",
    "\n",
    "**Remember Correlation does really mean Causation**"
   ]
  },
  {
   "cell_type": "code",
   "execution_count": 16,
   "id": "level-sucking",
   "metadata": {
    "execution": {
     "iopub.execute_input": "2022-01-19T03:56:52.598876Z",
     "iopub.status.busy": "2022-01-19T03:56:52.598132Z",
     "iopub.status.idle": "2022-01-19T03:56:52.609851Z",
     "shell.execute_reply": "2022-01-19T03:56:52.610451Z",
     "shell.execute_reply.started": "2022-01-19T03:05:48.869577Z"
    },
    "papermill": {
     "duration": 0.135213,
     "end_time": "2022-01-19T03:56:52.610622",
     "exception": false,
     "start_time": "2022-01-19T03:56:52.475409",
     "status": "completed"
    },
    "tags": []
   },
   "outputs": [
    {
     "data": {
      "text/html": [
       "<div>\n",
       "<style scoped>\n",
       "    .dataframe tbody tr th:only-of-type {\n",
       "        vertical-align: middle;\n",
       "    }\n",
       "\n",
       "    .dataframe tbody tr th {\n",
       "        vertical-align: top;\n",
       "    }\n",
       "\n",
       "    .dataframe thead th {\n",
       "        text-align: right;\n",
       "    }\n",
       "</style>\n",
       "<table border=\"1\" class=\"dataframe\">\n",
       "  <thead>\n",
       "    <tr style=\"text-align: right;\">\n",
       "      <th></th>\n",
       "      <th>PassengerId</th>\n",
       "      <th>Survived</th>\n",
       "      <th>Pclass</th>\n",
       "      <th>Age</th>\n",
       "      <th>SibSp</th>\n",
       "      <th>Parch</th>\n",
       "      <th>Fare</th>\n",
       "    </tr>\n",
       "  </thead>\n",
       "  <tbody>\n",
       "    <tr>\n",
       "      <th>PassengerId</th>\n",
       "      <td>1.000000</td>\n",
       "      <td>-0.005007</td>\n",
       "      <td>-0.035144</td>\n",
       "      <td>0.036847</td>\n",
       "      <td>-0.057527</td>\n",
       "      <td>-0.001652</td>\n",
       "      <td>0.012658</td>\n",
       "    </tr>\n",
       "    <tr>\n",
       "      <th>Survived</th>\n",
       "      <td>-0.005007</td>\n",
       "      <td>1.000000</td>\n",
       "      <td>-0.338481</td>\n",
       "      <td>-0.077221</td>\n",
       "      <td>-0.035322</td>\n",
       "      <td>0.081629</td>\n",
       "      <td>0.257307</td>\n",
       "    </tr>\n",
       "    <tr>\n",
       "      <th>Pclass</th>\n",
       "      <td>-0.035144</td>\n",
       "      <td>-0.338481</td>\n",
       "      <td>1.000000</td>\n",
       "      <td>-0.369226</td>\n",
       "      <td>0.083081</td>\n",
       "      <td>0.018443</td>\n",
       "      <td>-0.549500</td>\n",
       "    </tr>\n",
       "    <tr>\n",
       "      <th>Age</th>\n",
       "      <td>0.036847</td>\n",
       "      <td>-0.077221</td>\n",
       "      <td>-0.369226</td>\n",
       "      <td>1.000000</td>\n",
       "      <td>-0.308247</td>\n",
       "      <td>-0.189119</td>\n",
       "      <td>0.096067</td>\n",
       "    </tr>\n",
       "    <tr>\n",
       "      <th>SibSp</th>\n",
       "      <td>-0.057527</td>\n",
       "      <td>-0.035322</td>\n",
       "      <td>0.083081</td>\n",
       "      <td>-0.308247</td>\n",
       "      <td>1.000000</td>\n",
       "      <td>0.414838</td>\n",
       "      <td>0.159651</td>\n",
       "    </tr>\n",
       "    <tr>\n",
       "      <th>Parch</th>\n",
       "      <td>-0.001652</td>\n",
       "      <td>0.081629</td>\n",
       "      <td>0.018443</td>\n",
       "      <td>-0.189119</td>\n",
       "      <td>0.414838</td>\n",
       "      <td>1.000000</td>\n",
       "      <td>0.216225</td>\n",
       "    </tr>\n",
       "    <tr>\n",
       "      <th>Fare</th>\n",
       "      <td>0.012658</td>\n",
       "      <td>0.257307</td>\n",
       "      <td>-0.549500</td>\n",
       "      <td>0.096067</td>\n",
       "      <td>0.159651</td>\n",
       "      <td>0.216225</td>\n",
       "      <td>1.000000</td>\n",
       "    </tr>\n",
       "  </tbody>\n",
       "</table>\n",
       "</div>"
      ],
      "text/plain": [
       "             PassengerId  Survived    Pclass       Age     SibSp     Parch  \\\n",
       "PassengerId     1.000000 -0.005007 -0.035144  0.036847 -0.057527 -0.001652   \n",
       "Survived       -0.005007  1.000000 -0.338481 -0.077221 -0.035322  0.081629   \n",
       "Pclass         -0.035144 -0.338481  1.000000 -0.369226  0.083081  0.018443   \n",
       "Age             0.036847 -0.077221 -0.369226  1.000000 -0.308247 -0.189119   \n",
       "SibSp          -0.057527 -0.035322  0.083081 -0.308247  1.000000  0.414838   \n",
       "Parch          -0.001652  0.081629  0.018443 -0.189119  0.414838  1.000000   \n",
       "Fare            0.012658  0.257307 -0.549500  0.096067  0.159651  0.216225   \n",
       "\n",
       "                 Fare  \n",
       "PassengerId  0.012658  \n",
       "Survived     0.257307  \n",
       "Pclass      -0.549500  \n",
       "Age          0.096067  \n",
       "SibSp        0.159651  \n",
       "Parch        0.216225  \n",
       "Fare         1.000000  "
      ]
     },
     "execution_count": 16,
     "metadata": {},
     "output_type": "execute_result"
    }
   ],
   "source": [
    "train_data.corr()"
   ]
  },
  {
   "cell_type": "markdown",
   "id": "sudden-remove",
   "metadata": {
    "papermill": {
     "duration": 0.117988,
     "end_time": "2022-01-19T03:56:52.854954",
     "exception": false,
     "start_time": "2022-01-19T03:56:52.736966",
     "status": "completed"
    },
    "tags": []
   },
   "source": [
    "#### Pclass vs Survival"
   ]
  },
  {
   "cell_type": "code",
   "execution_count": 17,
   "id": "flying-dover",
   "metadata": {
    "execution": {
     "iopub.execute_input": "2022-01-19T03:56:53.102484Z",
     "iopub.status.busy": "2022-01-19T03:56:53.101647Z",
     "iopub.status.idle": "2022-01-19T03:56:53.115029Z",
     "shell.execute_reply": "2022-01-19T03:56:53.115593Z",
     "shell.execute_reply.started": "2022-01-19T03:05:48.888909Z"
    },
    "papermill": {
     "duration": 0.136396,
     "end_time": "2022-01-19T03:56:53.115900",
     "exception": false,
     "start_time": "2022-01-19T03:56:52.979504",
     "status": "completed"
    },
    "tags": []
   },
   "outputs": [
    {
     "data": {
      "text/html": [
       "<div>\n",
       "<style scoped>\n",
       "    .dataframe tbody tr th:only-of-type {\n",
       "        vertical-align: middle;\n",
       "    }\n",
       "\n",
       "    .dataframe tbody tr th {\n",
       "        vertical-align: top;\n",
       "    }\n",
       "\n",
       "    .dataframe thead th {\n",
       "        text-align: right;\n",
       "    }\n",
       "</style>\n",
       "<table border=\"1\" class=\"dataframe\">\n",
       "  <thead>\n",
       "    <tr style=\"text-align: right;\">\n",
       "      <th></th>\n",
       "      <th>Pclass</th>\n",
       "      <th>Survived</th>\n",
       "    </tr>\n",
       "  </thead>\n",
       "  <tbody>\n",
       "    <tr>\n",
       "      <th>0</th>\n",
       "      <td>1</td>\n",
       "      <td>0.629630</td>\n",
       "    </tr>\n",
       "    <tr>\n",
       "      <th>1</th>\n",
       "      <td>2</td>\n",
       "      <td>0.472826</td>\n",
       "    </tr>\n",
       "    <tr>\n",
       "      <th>2</th>\n",
       "      <td>3</td>\n",
       "      <td>0.242363</td>\n",
       "    </tr>\n",
       "  </tbody>\n",
       "</table>\n",
       "</div>"
      ],
      "text/plain": [
       "   Pclass  Survived\n",
       "0       1  0.629630\n",
       "1       2  0.472826\n",
       "2       3  0.242363"
      ]
     },
     "execution_count": 17,
     "metadata": {},
     "output_type": "execute_result"
    }
   ],
   "source": [
    "train_data[['Pclass', 'Survived']].groupby(['Pclass'], as_index=False).mean().sort_values(by='Survived', ascending=False)"
   ]
  },
  {
   "cell_type": "markdown",
   "id": "better-insulin",
   "metadata": {
    "papermill": {
     "duration": 0.120579,
     "end_time": "2022-01-19T03:56:53.364820",
     "exception": false,
     "start_time": "2022-01-19T03:56:53.244241",
     "status": "completed"
    },
    "tags": []
   },
   "source": [
    "More than 50% of passengers from first class survived.\n",
    "\n",
    "#### Sex vs Survival\n",
    "\n",
    "Let us confirm the correlation between sex and the survival rate. It is mentioned in the question that female passengers are more likely to survive than male."
   ]
  },
  {
   "cell_type": "code",
   "execution_count": 18,
   "id": "public-prospect",
   "metadata": {
    "execution": {
     "iopub.execute_input": "2022-01-19T03:56:53.612133Z",
     "iopub.status.busy": "2022-01-19T03:56:53.611058Z",
     "iopub.status.idle": "2022-01-19T03:56:53.622127Z",
     "shell.execute_reply": "2022-01-19T03:56:53.622614Z",
     "shell.execute_reply.started": "2022-01-19T03:05:48.908450Z"
    },
    "papermill": {
     "duration": 0.137162,
     "end_time": "2022-01-19T03:56:53.622872",
     "exception": false,
     "start_time": "2022-01-19T03:56:53.485710",
     "status": "completed"
    },
    "tags": []
   },
   "outputs": [
    {
     "data": {
      "text/html": [
       "<div>\n",
       "<style scoped>\n",
       "    .dataframe tbody tr th:only-of-type {\n",
       "        vertical-align: middle;\n",
       "    }\n",
       "\n",
       "    .dataframe tbody tr th {\n",
       "        vertical-align: top;\n",
       "    }\n",
       "\n",
       "    .dataframe thead th {\n",
       "        text-align: right;\n",
       "    }\n",
       "</style>\n",
       "<table border=\"1\" class=\"dataframe\">\n",
       "  <thead>\n",
       "    <tr style=\"text-align: right;\">\n",
       "      <th></th>\n",
       "      <th>Sex</th>\n",
       "      <th>Survived</th>\n",
       "    </tr>\n",
       "  </thead>\n",
       "  <tbody>\n",
       "    <tr>\n",
       "      <th>0</th>\n",
       "      <td>female</td>\n",
       "      <td>0.742038</td>\n",
       "    </tr>\n",
       "    <tr>\n",
       "      <th>1</th>\n",
       "      <td>male</td>\n",
       "      <td>0.188908</td>\n",
       "    </tr>\n",
       "  </tbody>\n",
       "</table>\n",
       "</div>"
      ],
      "text/plain": [
       "      Sex  Survived\n",
       "0  female  0.742038\n",
       "1    male  0.188908"
      ]
     },
     "execution_count": 18,
     "metadata": {},
     "output_type": "execute_result"
    }
   ],
   "source": [
    "train_data[['Sex', 'Survived']].groupby(['Sex'], as_index=False).mean().sort_values(by='Survived', ascending=False)"
   ]
  },
  {
   "cell_type": "markdown",
   "id": "systematic-photograph",
   "metadata": {
    "papermill": {
     "duration": 0.12072,
     "end_time": "2022-01-19T03:56:53.862894",
     "exception": false,
     "start_time": "2022-01-19T03:56:53.742174",
     "status": "completed"
    },
    "tags": []
   },
   "source": [
    "* The assumption is True. Looks like around 75% of female passengers survived.\n",
    "\n",
    "##### SibSp vs Survival"
   ]
  },
  {
   "cell_type": "code",
   "execution_count": 19,
   "id": "illegal-charger",
   "metadata": {
    "execution": {
     "iopub.execute_input": "2022-01-19T03:56:54.113715Z",
     "iopub.status.busy": "2022-01-19T03:56:54.112774Z",
     "iopub.status.idle": "2022-01-19T03:56:54.127539Z",
     "shell.execute_reply": "2022-01-19T03:56:54.128139Z",
     "shell.execute_reply.started": "2022-01-19T03:05:48.955184Z"
    },
    "papermill": {
     "duration": 0.142624,
     "end_time": "2022-01-19T03:56:54.128308",
     "exception": false,
     "start_time": "2022-01-19T03:56:53.985684",
     "status": "completed"
    },
    "tags": []
   },
   "outputs": [
    {
     "data": {
      "text/html": [
       "<div>\n",
       "<style scoped>\n",
       "    .dataframe tbody tr th:only-of-type {\n",
       "        vertical-align: middle;\n",
       "    }\n",
       "\n",
       "    .dataframe tbody tr th {\n",
       "        vertical-align: top;\n",
       "    }\n",
       "\n",
       "    .dataframe thead th {\n",
       "        text-align: right;\n",
       "    }\n",
       "</style>\n",
       "<table border=\"1\" class=\"dataframe\">\n",
       "  <thead>\n",
       "    <tr style=\"text-align: right;\">\n",
       "      <th></th>\n",
       "      <th>SibSp</th>\n",
       "      <th>Survived</th>\n",
       "    </tr>\n",
       "  </thead>\n",
       "  <tbody>\n",
       "    <tr>\n",
       "      <th>1</th>\n",
       "      <td>1</td>\n",
       "      <td>0.535885</td>\n",
       "    </tr>\n",
       "    <tr>\n",
       "      <th>2</th>\n",
       "      <td>2</td>\n",
       "      <td>0.464286</td>\n",
       "    </tr>\n",
       "    <tr>\n",
       "      <th>0</th>\n",
       "      <td>0</td>\n",
       "      <td>0.345395</td>\n",
       "    </tr>\n",
       "    <tr>\n",
       "      <th>3</th>\n",
       "      <td>3</td>\n",
       "      <td>0.250000</td>\n",
       "    </tr>\n",
       "    <tr>\n",
       "      <th>4</th>\n",
       "      <td>4</td>\n",
       "      <td>0.166667</td>\n",
       "    </tr>\n",
       "    <tr>\n",
       "      <th>5</th>\n",
       "      <td>5</td>\n",
       "      <td>0.000000</td>\n",
       "    </tr>\n",
       "    <tr>\n",
       "      <th>6</th>\n",
       "      <td>8</td>\n",
       "      <td>0.000000</td>\n",
       "    </tr>\n",
       "  </tbody>\n",
       "</table>\n",
       "</div>"
      ],
      "text/plain": [
       "   SibSp  Survived\n",
       "1      1  0.535885\n",
       "2      2  0.464286\n",
       "0      0  0.345395\n",
       "3      3  0.250000\n",
       "4      4  0.166667\n",
       "5      5  0.000000\n",
       "6      8  0.000000"
      ]
     },
     "execution_count": 19,
     "metadata": {},
     "output_type": "execute_result"
    }
   ],
   "source": [
    "train_data[['SibSp', 'Survived']].groupby(['SibSp'], as_index=False).mean().sort_values(by='Survived', ascending=False)"
   ]
  },
  {
   "cell_type": "markdown",
   "id": "mechanical-webmaster",
   "metadata": {
    "papermill": {
     "duration": 0.121292,
     "end_time": "2022-01-19T03:56:54.371791",
     "exception": false,
     "start_time": "2022-01-19T03:56:54.250499",
     "status": "completed"
    },
    "tags": []
   },
   "source": [
    "##### Parch vs Survival"
   ]
  },
  {
   "cell_type": "code",
   "execution_count": 20,
   "id": "congressional-sacramento",
   "metadata": {
    "execution": {
     "iopub.execute_input": "2022-01-19T03:56:54.617104Z",
     "iopub.status.busy": "2022-01-19T03:56:54.616458Z",
     "iopub.status.idle": "2022-01-19T03:56:54.629486Z",
     "shell.execute_reply": "2022-01-19T03:56:54.630141Z",
     "shell.execute_reply.started": "2022-01-19T03:05:49.402632Z"
    },
    "papermill": {
     "duration": 0.138228,
     "end_time": "2022-01-19T03:56:54.630316",
     "exception": false,
     "start_time": "2022-01-19T03:56:54.492088",
     "status": "completed"
    },
    "tags": []
   },
   "outputs": [
    {
     "data": {
      "text/html": [
       "<div>\n",
       "<style scoped>\n",
       "    .dataframe tbody tr th:only-of-type {\n",
       "        vertical-align: middle;\n",
       "    }\n",
       "\n",
       "    .dataframe tbody tr th {\n",
       "        vertical-align: top;\n",
       "    }\n",
       "\n",
       "    .dataframe thead th {\n",
       "        text-align: right;\n",
       "    }\n",
       "</style>\n",
       "<table border=\"1\" class=\"dataframe\">\n",
       "  <thead>\n",
       "    <tr style=\"text-align: right;\">\n",
       "      <th></th>\n",
       "      <th>Parch</th>\n",
       "      <th>Survived</th>\n",
       "    </tr>\n",
       "  </thead>\n",
       "  <tbody>\n",
       "    <tr>\n",
       "      <th>3</th>\n",
       "      <td>3</td>\n",
       "      <td>0.600000</td>\n",
       "    </tr>\n",
       "    <tr>\n",
       "      <th>1</th>\n",
       "      <td>1</td>\n",
       "      <td>0.550847</td>\n",
       "    </tr>\n",
       "    <tr>\n",
       "      <th>2</th>\n",
       "      <td>2</td>\n",
       "      <td>0.500000</td>\n",
       "    </tr>\n",
       "    <tr>\n",
       "      <th>0</th>\n",
       "      <td>0</td>\n",
       "      <td>0.343658</td>\n",
       "    </tr>\n",
       "    <tr>\n",
       "      <th>5</th>\n",
       "      <td>5</td>\n",
       "      <td>0.200000</td>\n",
       "    </tr>\n",
       "    <tr>\n",
       "      <th>4</th>\n",
       "      <td>4</td>\n",
       "      <td>0.000000</td>\n",
       "    </tr>\n",
       "    <tr>\n",
       "      <th>6</th>\n",
       "      <td>6</td>\n",
       "      <td>0.000000</td>\n",
       "    </tr>\n",
       "  </tbody>\n",
       "</table>\n",
       "</div>"
      ],
      "text/plain": [
       "   Parch  Survived\n",
       "3      3  0.600000\n",
       "1      1  0.550847\n",
       "2      2  0.500000\n",
       "0      0  0.343658\n",
       "5      5  0.200000\n",
       "4      4  0.000000\n",
       "6      6  0.000000"
      ]
     },
     "execution_count": 20,
     "metadata": {},
     "output_type": "execute_result"
    }
   ],
   "source": [
    "train_data[['Parch', 'Survived']].groupby(['Parch'], as_index=False).mean().sort_values(by='Survived', ascending=False)"
   ]
  },
  {
   "cell_type": "markdown",
   "id": "appreciated-domain",
   "metadata": {
    "papermill": {
     "duration": 0.118479,
     "end_time": "2022-01-19T03:56:54.870195",
     "exception": false,
     "start_time": "2022-01-19T03:56:54.751716",
     "status": "completed"
    },
    "tags": []
   },
   "source": [
    "* We could see zero correlation between some values of Parch or Sibsp.We might need to find some way to combine them into a single feature. "
   ]
  },
  {
   "cell_type": "markdown",
   "id": "selected-distance",
   "metadata": {
    "papermill": {
     "duration": 0.121518,
     "end_time": "2022-01-19T03:56:55.118422",
     "exception": false,
     "start_time": "2022-01-19T03:56:54.996904",
     "status": "completed"
    },
    "tags": []
   },
   "source": [
    "### **Feature Engineering**"
   ]
  },
  {
   "cell_type": "markdown",
   "id": "fancy-logistics",
   "metadata": {
    "papermill": {
     "duration": 0.118163,
     "end_time": "2022-01-19T03:56:55.358057",
     "exception": false,
     "start_time": "2022-01-19T03:56:55.239894",
     "status": "completed"
    },
    "tags": []
   },
   "source": [
    "##### Cabin\n",
    "\n",
    "We can extract some important details related to passenger seating from cabin. So, let us extract the cabin's first letter."
   ]
  },
  {
   "cell_type": "code",
   "execution_count": 21,
   "id": "resistant-indication",
   "metadata": {
    "execution": {
     "iopub.execute_input": "2022-01-19T03:56:55.600402Z",
     "iopub.status.busy": "2022-01-19T03:56:55.599779Z",
     "iopub.status.idle": "2022-01-19T03:56:55.613131Z",
     "shell.execute_reply": "2022-01-19T03:56:55.613904Z",
     "shell.execute_reply.started": "2022-01-19T03:05:50.367573Z"
    },
    "papermill": {
     "duration": 0.137246,
     "end_time": "2022-01-19T03:56:55.614146",
     "exception": false,
     "start_time": "2022-01-19T03:56:55.476900",
     "status": "completed"
    },
    "tags": []
   },
   "outputs": [
    {
     "name": "stdout",
     "output_type": "stream",
     "text": [
      "['C' 'E' 'G' 'D' 'A' 'B' 'F' 'T']\n",
      "count     204\n",
      "unique      8\n",
      "top         C\n",
      "freq       59\n",
      "Name: Cabin, dtype: object\n"
     ]
    }
   ],
   "source": [
    "print(train_data[train_data['Cabin'].notnull()].Cabin.str.extract('^([A-Za-z])', expand=False).unique())\n",
    "print(train_data[train_data['Cabin'].notnull()].Cabin.str.extract('^([A-Za-z])', expand=False).describe())"
   ]
  },
  {
   "cell_type": "markdown",
   "id": "saved-local",
   "metadata": {
    "papermill": {
     "duration": 0.124304,
     "end_time": "2022-01-19T03:56:55.863453",
     "exception": false,
     "start_time": "2022-01-19T03:56:55.739149",
     "status": "completed"
    },
    "tags": []
   },
   "source": [
    "* Looks like most of the passengers (59) were in cabin series that starts from 'C'.\n",
    "* There were 8 unique cabin series."
   ]
  },
  {
   "cell_type": "code",
   "execution_count": 22,
   "id": "direct-destruction",
   "metadata": {
    "execution": {
     "iopub.execute_input": "2022-01-19T03:56:56.107593Z",
     "iopub.status.busy": "2022-01-19T03:56:56.106945Z",
     "iopub.status.idle": "2022-01-19T03:56:56.111746Z",
     "shell.execute_reply": "2022-01-19T03:56:56.112217Z",
     "shell.execute_reply.started": "2022-01-19T03:05:50.850820Z"
    },
    "papermill": {
     "duration": 0.126996,
     "end_time": "2022-01-19T03:56:56.112396",
     "exception": false,
     "start_time": "2022-01-19T03:56:55.985400",
     "status": "completed"
    },
    "tags": []
   },
   "outputs": [],
   "source": [
    "def cabin(train, test):\n",
    "    for i in [train, test]:\n",
    "        i['Cabin_Letter'] = i['Cabin'].apply(lambda x: str(x)[0])\n",
    "        del i['Cabin']\n",
    "    return train, test"
   ]
  },
  {
   "cell_type": "code",
   "execution_count": 23,
   "id": "equipped-wells",
   "metadata": {
    "execution": {
     "iopub.execute_input": "2022-01-19T03:56:56.363187Z",
     "iopub.status.busy": "2022-01-19T03:56:56.362535Z",
     "iopub.status.idle": "2022-01-19T03:56:56.366301Z",
     "shell.execute_reply": "2022-01-19T03:56:56.366842Z",
     "shell.execute_reply.started": "2022-01-19T03:05:51.106033Z"
    },
    "papermill": {
     "duration": 0.132812,
     "end_time": "2022-01-19T03:56:56.367015",
     "exception": false,
     "start_time": "2022-01-19T03:56:56.234203",
     "status": "completed"
    },
    "tags": []
   },
   "outputs": [],
   "source": [
    "train_data, test_data = cabin(train_data, test_data)"
   ]
  },
  {
   "cell_type": "code",
   "execution_count": 24,
   "id": "statutory-camel",
   "metadata": {
    "execution": {
     "iopub.execute_input": "2022-01-19T03:56:56.612153Z",
     "iopub.status.busy": "2022-01-19T03:56:56.611520Z",
     "iopub.status.idle": "2022-01-19T03:56:56.628297Z",
     "shell.execute_reply": "2022-01-19T03:56:56.628857Z",
     "shell.execute_reply.started": "2022-01-19T03:05:51.346415Z"
    },
    "papermill": {
     "duration": 0.141381,
     "end_time": "2022-01-19T03:56:56.629020",
     "exception": false,
     "start_time": "2022-01-19T03:56:56.487639",
     "status": "completed"
    },
    "tags": []
   },
   "outputs": [
    {
     "data": {
      "text/html": [
       "<div>\n",
       "<style scoped>\n",
       "    .dataframe tbody tr th:only-of-type {\n",
       "        vertical-align: middle;\n",
       "    }\n",
       "\n",
       "    .dataframe tbody tr th {\n",
       "        vertical-align: top;\n",
       "    }\n",
       "\n",
       "    .dataframe thead th {\n",
       "        text-align: right;\n",
       "    }\n",
       "</style>\n",
       "<table border=\"1\" class=\"dataframe\">\n",
       "  <thead>\n",
       "    <tr style=\"text-align: right;\">\n",
       "      <th></th>\n",
       "      <th>PassengerId</th>\n",
       "      <th>Survived</th>\n",
       "      <th>Pclass</th>\n",
       "      <th>Name</th>\n",
       "      <th>Sex</th>\n",
       "      <th>Age</th>\n",
       "      <th>SibSp</th>\n",
       "      <th>Parch</th>\n",
       "      <th>Ticket</th>\n",
       "      <th>Fare</th>\n",
       "      <th>Embarked</th>\n",
       "      <th>Cabin_Letter</th>\n",
       "    </tr>\n",
       "  </thead>\n",
       "  <tbody>\n",
       "    <tr>\n",
       "      <th>0</th>\n",
       "      <td>1</td>\n",
       "      <td>0</td>\n",
       "      <td>3</td>\n",
       "      <td>Braund, Mr. Owen Harris</td>\n",
       "      <td>male</td>\n",
       "      <td>22.0</td>\n",
       "      <td>1</td>\n",
       "      <td>0</td>\n",
       "      <td>A/5 21171</td>\n",
       "      <td>7.2500</td>\n",
       "      <td>S</td>\n",
       "      <td>n</td>\n",
       "    </tr>\n",
       "    <tr>\n",
       "      <th>1</th>\n",
       "      <td>2</td>\n",
       "      <td>1</td>\n",
       "      <td>1</td>\n",
       "      <td>Cumings, Mrs. John Bradley (Florence Briggs Th...</td>\n",
       "      <td>female</td>\n",
       "      <td>38.0</td>\n",
       "      <td>1</td>\n",
       "      <td>0</td>\n",
       "      <td>PC 17599</td>\n",
       "      <td>71.2833</td>\n",
       "      <td>C</td>\n",
       "      <td>C</td>\n",
       "    </tr>\n",
       "    <tr>\n",
       "      <th>2</th>\n",
       "      <td>3</td>\n",
       "      <td>1</td>\n",
       "      <td>3</td>\n",
       "      <td>Heikkinen, Miss. Laina</td>\n",
       "      <td>female</td>\n",
       "      <td>26.0</td>\n",
       "      <td>0</td>\n",
       "      <td>0</td>\n",
       "      <td>STON/O2. 3101282</td>\n",
       "      <td>7.9250</td>\n",
       "      <td>S</td>\n",
       "      <td>n</td>\n",
       "    </tr>\n",
       "    <tr>\n",
       "      <th>3</th>\n",
       "      <td>4</td>\n",
       "      <td>1</td>\n",
       "      <td>1</td>\n",
       "      <td>Futrelle, Mrs. Jacques Heath (Lily May Peel)</td>\n",
       "      <td>female</td>\n",
       "      <td>35.0</td>\n",
       "      <td>1</td>\n",
       "      <td>0</td>\n",
       "      <td>113803</td>\n",
       "      <td>53.1000</td>\n",
       "      <td>S</td>\n",
       "      <td>C</td>\n",
       "    </tr>\n",
       "    <tr>\n",
       "      <th>4</th>\n",
       "      <td>5</td>\n",
       "      <td>0</td>\n",
       "      <td>3</td>\n",
       "      <td>Allen, Mr. William Henry</td>\n",
       "      <td>male</td>\n",
       "      <td>35.0</td>\n",
       "      <td>0</td>\n",
       "      <td>0</td>\n",
       "      <td>373450</td>\n",
       "      <td>8.0500</td>\n",
       "      <td>S</td>\n",
       "      <td>n</td>\n",
       "    </tr>\n",
       "  </tbody>\n",
       "</table>\n",
       "</div>"
      ],
      "text/plain": [
       "   PassengerId  Survived  Pclass  \\\n",
       "0            1         0       3   \n",
       "1            2         1       1   \n",
       "2            3         1       3   \n",
       "3            4         1       1   \n",
       "4            5         0       3   \n",
       "\n",
       "                                                Name     Sex   Age  SibSp  \\\n",
       "0                            Braund, Mr. Owen Harris    male  22.0      1   \n",
       "1  Cumings, Mrs. John Bradley (Florence Briggs Th...  female  38.0      1   \n",
       "2                             Heikkinen, Miss. Laina  female  26.0      0   \n",
       "3       Futrelle, Mrs. Jacques Heath (Lily May Peel)  female  35.0      1   \n",
       "4                           Allen, Mr. William Henry    male  35.0      0   \n",
       "\n",
       "   Parch            Ticket     Fare Embarked Cabin_Letter  \n",
       "0      0         A/5 21171   7.2500        S            n  \n",
       "1      0          PC 17599  71.2833        C            C  \n",
       "2      0  STON/O2. 3101282   7.9250        S            n  \n",
       "3      0            113803  53.1000        S            C  \n",
       "4      0            373450   8.0500        S            n  "
      ]
     },
     "execution_count": 24,
     "metadata": {},
     "output_type": "execute_result"
    }
   ],
   "source": [
    "train_data.head()"
   ]
  },
  {
   "cell_type": "markdown",
   "id": "private-korean",
   "metadata": {
    "papermill": {
     "duration": 0.121635,
     "end_time": "2022-01-19T03:56:56.875247",
     "exception": false,
     "start_time": "2022-01-19T03:56:56.753612",
     "status": "completed"
    },
    "tags": []
   },
   "source": [
    "##### **Name**"
   ]
  },
  {
   "cell_type": "code",
   "execution_count": 25,
   "id": "worldwide-suite",
   "metadata": {
    "execution": {
     "iopub.execute_input": "2022-01-19T03:56:57.129536Z",
     "iopub.status.busy": "2022-01-19T03:56:57.128886Z",
     "iopub.status.idle": "2022-01-19T03:56:57.138130Z",
     "shell.execute_reply": "2022-01-19T03:56:57.138659Z",
     "shell.execute_reply.started": "2022-01-19T03:05:51.810110Z"
    },
    "papermill": {
     "duration": 0.137249,
     "end_time": "2022-01-19T03:56:57.138832",
     "exception": false,
     "start_time": "2022-01-19T03:56:57.001583",
     "status": "completed"
    },
    "tags": []
   },
   "outputs": [],
   "source": [
    "train_data['Title'] = train_data.Name.str.extract(' ([A-Za-z]+)\\.', expand=False)\n",
    "test_data['Title'] = test_data.Name.str.extract(' ([A-Za-z]+)\\.', expand=False)"
   ]
  },
  {
   "cell_type": "code",
   "execution_count": 26,
   "id": "advisory-branch",
   "metadata": {
    "execution": {
     "iopub.execute_input": "2022-01-19T03:56:57.384308Z",
     "iopub.status.busy": "2022-01-19T03:56:57.383622Z",
     "iopub.status.idle": "2022-01-19T03:56:57.409752Z",
     "shell.execute_reply": "2022-01-19T03:56:57.410364Z",
     "shell.execute_reply.started": "2022-01-19T03:05:52.051058Z"
    },
    "papermill": {
     "duration": 0.149779,
     "end_time": "2022-01-19T03:56:57.410542",
     "exception": false,
     "start_time": "2022-01-19T03:56:57.260763",
     "status": "completed"
    },
    "tags": []
   },
   "outputs": [
    {
     "data": {
      "text/html": [
       "<div>\n",
       "<style scoped>\n",
       "    .dataframe tbody tr th:only-of-type {\n",
       "        vertical-align: middle;\n",
       "    }\n",
       "\n",
       "    .dataframe tbody tr th {\n",
       "        vertical-align: top;\n",
       "    }\n",
       "\n",
       "    .dataframe thead th {\n",
       "        text-align: right;\n",
       "    }\n",
       "</style>\n",
       "<table border=\"1\" class=\"dataframe\">\n",
       "  <thead>\n",
       "    <tr style=\"text-align: right;\">\n",
       "      <th>Sex</th>\n",
       "      <th>female</th>\n",
       "      <th>male</th>\n",
       "    </tr>\n",
       "    <tr>\n",
       "      <th>Title</th>\n",
       "      <th></th>\n",
       "      <th></th>\n",
       "    </tr>\n",
       "  </thead>\n",
       "  <tbody>\n",
       "    <tr>\n",
       "      <th>Capt</th>\n",
       "      <td>0</td>\n",
       "      <td>1</td>\n",
       "    </tr>\n",
       "    <tr>\n",
       "      <th>Col</th>\n",
       "      <td>0</td>\n",
       "      <td>2</td>\n",
       "    </tr>\n",
       "    <tr>\n",
       "      <th>Countess</th>\n",
       "      <td>1</td>\n",
       "      <td>0</td>\n",
       "    </tr>\n",
       "    <tr>\n",
       "      <th>Don</th>\n",
       "      <td>0</td>\n",
       "      <td>1</td>\n",
       "    </tr>\n",
       "    <tr>\n",
       "      <th>Dr</th>\n",
       "      <td>1</td>\n",
       "      <td>6</td>\n",
       "    </tr>\n",
       "    <tr>\n",
       "      <th>Jonkheer</th>\n",
       "      <td>0</td>\n",
       "      <td>1</td>\n",
       "    </tr>\n",
       "    <tr>\n",
       "      <th>Lady</th>\n",
       "      <td>1</td>\n",
       "      <td>0</td>\n",
       "    </tr>\n",
       "    <tr>\n",
       "      <th>Major</th>\n",
       "      <td>0</td>\n",
       "      <td>2</td>\n",
       "    </tr>\n",
       "    <tr>\n",
       "      <th>Master</th>\n",
       "      <td>0</td>\n",
       "      <td>40</td>\n",
       "    </tr>\n",
       "    <tr>\n",
       "      <th>Miss</th>\n",
       "      <td>182</td>\n",
       "      <td>0</td>\n",
       "    </tr>\n",
       "    <tr>\n",
       "      <th>Mlle</th>\n",
       "      <td>2</td>\n",
       "      <td>0</td>\n",
       "    </tr>\n",
       "    <tr>\n",
       "      <th>Mme</th>\n",
       "      <td>1</td>\n",
       "      <td>0</td>\n",
       "    </tr>\n",
       "    <tr>\n",
       "      <th>Mr</th>\n",
       "      <td>0</td>\n",
       "      <td>517</td>\n",
       "    </tr>\n",
       "    <tr>\n",
       "      <th>Mrs</th>\n",
       "      <td>125</td>\n",
       "      <td>0</td>\n",
       "    </tr>\n",
       "    <tr>\n",
       "      <th>Ms</th>\n",
       "      <td>1</td>\n",
       "      <td>0</td>\n",
       "    </tr>\n",
       "    <tr>\n",
       "      <th>Rev</th>\n",
       "      <td>0</td>\n",
       "      <td>6</td>\n",
       "    </tr>\n",
       "    <tr>\n",
       "      <th>Sir</th>\n",
       "      <td>0</td>\n",
       "      <td>1</td>\n",
       "    </tr>\n",
       "  </tbody>\n",
       "</table>\n",
       "</div>"
      ],
      "text/plain": [
       "Sex       female  male\n",
       "Title                 \n",
       "Capt           0     1\n",
       "Col            0     2\n",
       "Countess       1     0\n",
       "Don            0     1\n",
       "Dr             1     6\n",
       "Jonkheer       0     1\n",
       "Lady           1     0\n",
       "Major          0     2\n",
       "Master         0    40\n",
       "Miss         182     0\n",
       "Mlle           2     0\n",
       "Mme            1     0\n",
       "Mr             0   517\n",
       "Mrs          125     0\n",
       "Ms             1     0\n",
       "Rev            0     6\n",
       "Sir            0     1"
      ]
     },
     "execution_count": 26,
     "metadata": {},
     "output_type": "execute_result"
    }
   ],
   "source": [
    "pd.crosstab(train_data['Title'], train_data['Sex'])"
   ]
  },
  {
   "cell_type": "code",
   "execution_count": 27,
   "id": "broadband-proceeding",
   "metadata": {
    "execution": {
     "iopub.execute_input": "2022-01-19T03:56:57.660702Z",
     "iopub.status.busy": "2022-01-19T03:56:57.659038Z",
     "iopub.status.idle": "2022-01-19T03:56:57.679072Z",
     "shell.execute_reply": "2022-01-19T03:56:57.679623Z",
     "shell.execute_reply.started": "2022-01-19T03:05:52.326890Z"
    },
    "papermill": {
     "duration": 0.14763,
     "end_time": "2022-01-19T03:56:57.679797",
     "exception": false,
     "start_time": "2022-01-19T03:56:57.532167",
     "status": "completed"
    },
    "tags": []
   },
   "outputs": [
    {
     "data": {
      "text/html": [
       "<div>\n",
       "<style scoped>\n",
       "    .dataframe tbody tr th:only-of-type {\n",
       "        vertical-align: middle;\n",
       "    }\n",
       "\n",
       "    .dataframe tbody tr th {\n",
       "        vertical-align: top;\n",
       "    }\n",
       "\n",
       "    .dataframe thead th {\n",
       "        text-align: right;\n",
       "    }\n",
       "</style>\n",
       "<table border=\"1\" class=\"dataframe\">\n",
       "  <thead>\n",
       "    <tr style=\"text-align: right;\">\n",
       "      <th>Sex</th>\n",
       "      <th>female</th>\n",
       "      <th>male</th>\n",
       "    </tr>\n",
       "    <tr>\n",
       "      <th>Title</th>\n",
       "      <th></th>\n",
       "      <th></th>\n",
       "    </tr>\n",
       "  </thead>\n",
       "  <tbody>\n",
       "    <tr>\n",
       "      <th>Col</th>\n",
       "      <td>0</td>\n",
       "      <td>2</td>\n",
       "    </tr>\n",
       "    <tr>\n",
       "      <th>Dona</th>\n",
       "      <td>1</td>\n",
       "      <td>0</td>\n",
       "    </tr>\n",
       "    <tr>\n",
       "      <th>Dr</th>\n",
       "      <td>0</td>\n",
       "      <td>1</td>\n",
       "    </tr>\n",
       "    <tr>\n",
       "      <th>Master</th>\n",
       "      <td>0</td>\n",
       "      <td>21</td>\n",
       "    </tr>\n",
       "    <tr>\n",
       "      <th>Miss</th>\n",
       "      <td>78</td>\n",
       "      <td>0</td>\n",
       "    </tr>\n",
       "    <tr>\n",
       "      <th>Mr</th>\n",
       "      <td>0</td>\n",
       "      <td>240</td>\n",
       "    </tr>\n",
       "    <tr>\n",
       "      <th>Mrs</th>\n",
       "      <td>72</td>\n",
       "      <td>0</td>\n",
       "    </tr>\n",
       "    <tr>\n",
       "      <th>Ms</th>\n",
       "      <td>1</td>\n",
       "      <td>0</td>\n",
       "    </tr>\n",
       "    <tr>\n",
       "      <th>Rev</th>\n",
       "      <td>0</td>\n",
       "      <td>2</td>\n",
       "    </tr>\n",
       "  </tbody>\n",
       "</table>\n",
       "</div>"
      ],
      "text/plain": [
       "Sex     female  male\n",
       "Title               \n",
       "Col          0     2\n",
       "Dona         1     0\n",
       "Dr           0     1\n",
       "Master       0    21\n",
       "Miss        78     0\n",
       "Mr           0   240\n",
       "Mrs         72     0\n",
       "Ms           1     0\n",
       "Rev          0     2"
      ]
     },
     "execution_count": 27,
     "metadata": {},
     "output_type": "execute_result"
    }
   ],
   "source": [
    "pd.crosstab(test_data['Title'], test_data['Sex'])"
   ]
  },
  {
   "cell_type": "code",
   "execution_count": 28,
   "id": "directed-fleet",
   "metadata": {
    "execution": {
     "iopub.execute_input": "2022-01-19T03:56:57.927839Z",
     "iopub.status.busy": "2022-01-19T03:56:57.927184Z",
     "iopub.status.idle": "2022-01-19T03:56:57.932109Z",
     "shell.execute_reply": "2022-01-19T03:56:57.932608Z",
     "shell.execute_reply.started": "2022-01-19T03:05:52.578425Z"
    },
    "papermill": {
     "duration": 0.131715,
     "end_time": "2022-01-19T03:56:57.932826",
     "exception": false,
     "start_time": "2022-01-19T03:56:57.801111",
     "status": "completed"
    },
    "tags": []
   },
   "outputs": [],
   "source": [
    "# Grouping some of the rarely occuring Titles\n",
    "def name_group(x):\n",
    "    if x in [\"Mr\", \"Sir\" ]:\n",
    "        return 'Mr'\n",
    "    if x in [\"Mrs\", \"Mme\"]:\n",
    "        return 'Mrs'\n",
    "    if x in [\"Mlle\", \"Ms\", \"Miss\"]:\n",
    "        return 'Miss'\n",
    "    if x in [\"Master\"]:\n",
    "        return 'Master'\n",
    "    else:\n",
    "        return 'Rare'"
   ]
  },
  {
   "cell_type": "code",
   "execution_count": 29,
   "id": "julian-nevada",
   "metadata": {
    "execution": {
     "iopub.execute_input": "2022-01-19T03:56:58.188057Z",
     "iopub.status.busy": "2022-01-19T03:56:58.187461Z",
     "iopub.status.idle": "2022-01-19T03:56:58.189716Z",
     "shell.execute_reply": "2022-01-19T03:56:58.190125Z",
     "shell.execute_reply.started": "2022-01-19T03:05:52.802102Z"
    },
    "papermill": {
     "duration": 0.13249,
     "end_time": "2022-01-19T03:56:58.190305",
     "exception": false,
     "start_time": "2022-01-19T03:56:58.057815",
     "status": "completed"
    },
    "tags": []
   },
   "outputs": [],
   "source": [
    "train_data['Title'] = train_data['Title'].apply(name_group)\n",
    "test_data['Title'] = test_data['Title'].apply(name_group)"
   ]
  },
  {
   "cell_type": "code",
   "execution_count": 30,
   "id": "solar-instrumentation",
   "metadata": {
    "execution": {
     "iopub.execute_input": "2022-01-19T03:56:58.434082Z",
     "iopub.status.busy": "2022-01-19T03:56:58.432984Z",
     "iopub.status.idle": "2022-01-19T03:56:58.437489Z",
     "shell.execute_reply": "2022-01-19T03:56:58.438077Z",
     "shell.execute_reply.started": "2022-01-19T03:05:53.038577Z"
    },
    "papermill": {
     "duration": 0.129016,
     "end_time": "2022-01-19T03:56:58.438267",
     "exception": false,
     "start_time": "2022-01-19T03:56:58.309251",
     "status": "completed"
    },
    "tags": []
   },
   "outputs": [
    {
     "name": "stdout",
     "output_type": "stream",
     "text": [
      "['Mr' 'Mrs' 'Miss' 'Master' 'Rare']\n",
      "['Mr' 'Mrs' 'Miss' 'Master' 'Rare']\n"
     ]
    }
   ],
   "source": [
    "print(train_data['Title'].unique())\n",
    "print(test_data['Title'].unique())"
   ]
  },
  {
   "cell_type": "markdown",
   "id": "sustainable-dynamics",
   "metadata": {
    "papermill": {
     "duration": 0.122279,
     "end_time": "2022-01-19T03:56:58.679307",
     "exception": false,
     "start_time": "2022-01-19T03:56:58.557028",
     "status": "completed"
    },
    "tags": []
   },
   "source": [
    "We see some correlation between the name length and the survival."
   ]
  },
  {
   "cell_type": "code",
   "execution_count": 31,
   "id": "imposed-campaign",
   "metadata": {
    "execution": {
     "iopub.execute_input": "2022-01-19T03:56:58.936249Z",
     "iopub.status.busy": "2022-01-19T03:56:58.935552Z",
     "iopub.status.idle": "2022-01-19T03:56:58.938568Z",
     "shell.execute_reply": "2022-01-19T03:56:58.938036Z",
     "shell.execute_reply.started": "2022-01-19T03:05:53.563105Z"
    },
    "papermill": {
     "duration": 0.137644,
     "end_time": "2022-01-19T03:56:58.938715",
     "exception": false,
     "start_time": "2022-01-19T03:56:58.801071",
     "status": "completed"
    },
    "tags": []
   },
   "outputs": [],
   "source": [
    "def names(train, test):\n",
    "    for i in [train, test]:\n",
    "        i['Name_Len'] = i['Name'].apply(lambda x: len(x))\n",
    "        del i['Name']\n",
    "    return train, test"
   ]
  },
  {
   "cell_type": "code",
   "execution_count": 32,
   "id": "legislative-albania",
   "metadata": {
    "execution": {
     "iopub.execute_input": "2022-01-19T03:56:59.199910Z",
     "iopub.status.busy": "2022-01-19T03:56:59.199255Z",
     "iopub.status.idle": "2022-01-19T03:56:59.201409Z",
     "shell.execute_reply": "2022-01-19T03:56:59.201983Z",
     "shell.execute_reply.started": "2022-01-19T03:05:53.802005Z"
    },
    "papermill": {
     "duration": 0.138849,
     "end_time": "2022-01-19T03:56:59.202176",
     "exception": false,
     "start_time": "2022-01-19T03:56:59.063327",
     "status": "completed"
    },
    "tags": []
   },
   "outputs": [],
   "source": [
    "train_data, test_data = names(train_data, test_data)"
   ]
  },
  {
   "cell_type": "code",
   "execution_count": 33,
   "id": "regulation-yesterday",
   "metadata": {
    "execution": {
     "iopub.execute_input": "2022-01-19T03:56:59.450826Z",
     "iopub.status.busy": "2022-01-19T03:56:59.450208Z",
     "iopub.status.idle": "2022-01-19T03:56:59.467635Z",
     "shell.execute_reply": "2022-01-19T03:56:59.468189Z",
     "shell.execute_reply.started": "2022-01-19T03:05:54.074466Z"
    },
    "papermill": {
     "duration": 0.143517,
     "end_time": "2022-01-19T03:56:59.468394",
     "exception": false,
     "start_time": "2022-01-19T03:56:59.324877",
     "status": "completed"
    },
    "tags": []
   },
   "outputs": [
    {
     "data": {
      "text/html": [
       "<div>\n",
       "<style scoped>\n",
       "    .dataframe tbody tr th:only-of-type {\n",
       "        vertical-align: middle;\n",
       "    }\n",
       "\n",
       "    .dataframe tbody tr th {\n",
       "        vertical-align: top;\n",
       "    }\n",
       "\n",
       "    .dataframe thead th {\n",
       "        text-align: right;\n",
       "    }\n",
       "</style>\n",
       "<table border=\"1\" class=\"dataframe\">\n",
       "  <thead>\n",
       "    <tr style=\"text-align: right;\">\n",
       "      <th></th>\n",
       "      <th>PassengerId</th>\n",
       "      <th>Survived</th>\n",
       "      <th>Pclass</th>\n",
       "      <th>Sex</th>\n",
       "      <th>Age</th>\n",
       "      <th>SibSp</th>\n",
       "      <th>Parch</th>\n",
       "      <th>Ticket</th>\n",
       "      <th>Fare</th>\n",
       "      <th>Embarked</th>\n",
       "      <th>Cabin_Letter</th>\n",
       "      <th>Title</th>\n",
       "      <th>Name_Len</th>\n",
       "    </tr>\n",
       "  </thead>\n",
       "  <tbody>\n",
       "    <tr>\n",
       "      <th>0</th>\n",
       "      <td>1</td>\n",
       "      <td>0</td>\n",
       "      <td>3</td>\n",
       "      <td>male</td>\n",
       "      <td>22.0</td>\n",
       "      <td>1</td>\n",
       "      <td>0</td>\n",
       "      <td>A/5 21171</td>\n",
       "      <td>7.2500</td>\n",
       "      <td>S</td>\n",
       "      <td>n</td>\n",
       "      <td>Mr</td>\n",
       "      <td>23</td>\n",
       "    </tr>\n",
       "    <tr>\n",
       "      <th>1</th>\n",
       "      <td>2</td>\n",
       "      <td>1</td>\n",
       "      <td>1</td>\n",
       "      <td>female</td>\n",
       "      <td>38.0</td>\n",
       "      <td>1</td>\n",
       "      <td>0</td>\n",
       "      <td>PC 17599</td>\n",
       "      <td>71.2833</td>\n",
       "      <td>C</td>\n",
       "      <td>C</td>\n",
       "      <td>Mrs</td>\n",
       "      <td>51</td>\n",
       "    </tr>\n",
       "    <tr>\n",
       "      <th>2</th>\n",
       "      <td>3</td>\n",
       "      <td>1</td>\n",
       "      <td>3</td>\n",
       "      <td>female</td>\n",
       "      <td>26.0</td>\n",
       "      <td>0</td>\n",
       "      <td>0</td>\n",
       "      <td>STON/O2. 3101282</td>\n",
       "      <td>7.9250</td>\n",
       "      <td>S</td>\n",
       "      <td>n</td>\n",
       "      <td>Miss</td>\n",
       "      <td>22</td>\n",
       "    </tr>\n",
       "    <tr>\n",
       "      <th>3</th>\n",
       "      <td>4</td>\n",
       "      <td>1</td>\n",
       "      <td>1</td>\n",
       "      <td>female</td>\n",
       "      <td>35.0</td>\n",
       "      <td>1</td>\n",
       "      <td>0</td>\n",
       "      <td>113803</td>\n",
       "      <td>53.1000</td>\n",
       "      <td>S</td>\n",
       "      <td>C</td>\n",
       "      <td>Mrs</td>\n",
       "      <td>44</td>\n",
       "    </tr>\n",
       "    <tr>\n",
       "      <th>4</th>\n",
       "      <td>5</td>\n",
       "      <td>0</td>\n",
       "      <td>3</td>\n",
       "      <td>male</td>\n",
       "      <td>35.0</td>\n",
       "      <td>0</td>\n",
       "      <td>0</td>\n",
       "      <td>373450</td>\n",
       "      <td>8.0500</td>\n",
       "      <td>S</td>\n",
       "      <td>n</td>\n",
       "      <td>Mr</td>\n",
       "      <td>24</td>\n",
       "    </tr>\n",
       "  </tbody>\n",
       "</table>\n",
       "</div>"
      ],
      "text/plain": [
       "   PassengerId  Survived  Pclass     Sex   Age  SibSp  Parch  \\\n",
       "0            1         0       3    male  22.0      1      0   \n",
       "1            2         1       1  female  38.0      1      0   \n",
       "2            3         1       3  female  26.0      0      0   \n",
       "3            4         1       1  female  35.0      1      0   \n",
       "4            5         0       3    male  35.0      0      0   \n",
       "\n",
       "             Ticket     Fare Embarked Cabin_Letter Title  Name_Len  \n",
       "0         A/5 21171   7.2500        S            n    Mr        23  \n",
       "1          PC 17599  71.2833        C            C   Mrs        51  \n",
       "2  STON/O2. 3101282   7.9250        S            n  Miss        22  \n",
       "3            113803  53.1000        S            C   Mrs        44  \n",
       "4            373450   8.0500        S            n    Mr        24  "
      ]
     },
     "execution_count": 33,
     "metadata": {},
     "output_type": "execute_result"
    }
   ],
   "source": [
    "train_data.head()"
   ]
  },
  {
   "cell_type": "markdown",
   "id": "relative-louis",
   "metadata": {
    "papermill": {
     "duration": 0.123463,
     "end_time": "2022-01-19T03:56:59.717477",
     "exception": false,
     "start_time": "2022-01-19T03:56:59.594014",
     "status": "completed"
    },
    "tags": []
   },
   "source": [
    "##### **Ticket**\n",
    "\n",
    "* Ticket might help us with some details regarding seating of the passengers.\n",
    "* Ticket length will provide information regarding the type of ticket distributed."
   ]
  },
  {
   "cell_type": "code",
   "execution_count": 34,
   "id": "informal-trick",
   "metadata": {
    "execution": {
     "iopub.execute_input": "2022-01-19T03:56:59.973270Z",
     "iopub.status.busy": "2022-01-19T03:56:59.972586Z",
     "iopub.status.idle": "2022-01-19T03:56:59.978399Z",
     "shell.execute_reply": "2022-01-19T03:56:59.978942Z",
     "shell.execute_reply.started": "2022-01-19T03:05:54.554468Z"
    },
    "papermill": {
     "duration": 0.137821,
     "end_time": "2022-01-19T03:56:59.979131",
     "exception": false,
     "start_time": "2022-01-19T03:56:59.841310",
     "status": "completed"
    },
    "tags": []
   },
   "outputs": [],
   "source": [
    "def ticket_grouped(train, test):\n",
    "    for i in [train, test]:\n",
    "        i['Ticket_Lett'] = i['Ticket'].apply(lambda x: str(x)[0])\n",
    "        i['Ticket_Lett'] = i['Ticket_Lett'].apply(lambda x: str(x))\n",
    "        i['Ticket_Len'] = i['Ticket'].apply(lambda x: len(x))\n",
    "        del i['Ticket']\n",
    "    return train, test"
   ]
  },
  {
   "cell_type": "code",
   "execution_count": 35,
   "id": "dense-license",
   "metadata": {
    "execution": {
     "iopub.execute_input": "2022-01-19T03:57:00.237453Z",
     "iopub.status.busy": "2022-01-19T03:57:00.236774Z",
     "iopub.status.idle": "2022-01-19T03:57:00.248415Z",
     "shell.execute_reply": "2022-01-19T03:57:00.248922Z",
     "shell.execute_reply.started": "2022-01-19T03:05:54.794934Z"
    },
    "papermill": {
     "duration": 0.140446,
     "end_time": "2022-01-19T03:57:00.249114",
     "exception": false,
     "start_time": "2022-01-19T03:57:00.108668",
     "status": "completed"
    },
    "tags": []
   },
   "outputs": [],
   "source": [
    "train_data, test_data = ticket_grouped(train_data, test_data)"
   ]
  },
  {
   "cell_type": "code",
   "execution_count": 36,
   "id": "endless-arrangement",
   "metadata": {
    "execution": {
     "iopub.execute_input": "2022-01-19T03:57:00.502620Z",
     "iopub.status.busy": "2022-01-19T03:57:00.501765Z",
     "iopub.status.idle": "2022-01-19T03:57:00.520461Z",
     "shell.execute_reply": "2022-01-19T03:57:00.520998Z",
     "shell.execute_reply.started": "2022-01-19T03:05:55.090744Z"
    },
    "papermill": {
     "duration": 0.147195,
     "end_time": "2022-01-19T03:57:00.521188",
     "exception": false,
     "start_time": "2022-01-19T03:57:00.373993",
     "status": "completed"
    },
    "tags": []
   },
   "outputs": [
    {
     "data": {
      "text/html": [
       "<div>\n",
       "<style scoped>\n",
       "    .dataframe tbody tr th:only-of-type {\n",
       "        vertical-align: middle;\n",
       "    }\n",
       "\n",
       "    .dataframe tbody tr th {\n",
       "        vertical-align: top;\n",
       "    }\n",
       "\n",
       "    .dataframe thead th {\n",
       "        text-align: right;\n",
       "    }\n",
       "</style>\n",
       "<table border=\"1\" class=\"dataframe\">\n",
       "  <thead>\n",
       "    <tr style=\"text-align: right;\">\n",
       "      <th></th>\n",
       "      <th>PassengerId</th>\n",
       "      <th>Survived</th>\n",
       "      <th>Pclass</th>\n",
       "      <th>Sex</th>\n",
       "      <th>Age</th>\n",
       "      <th>SibSp</th>\n",
       "      <th>Parch</th>\n",
       "      <th>Fare</th>\n",
       "      <th>Embarked</th>\n",
       "      <th>Cabin_Letter</th>\n",
       "      <th>Title</th>\n",
       "      <th>Name_Len</th>\n",
       "      <th>Ticket_Lett</th>\n",
       "      <th>Ticket_Len</th>\n",
       "    </tr>\n",
       "  </thead>\n",
       "  <tbody>\n",
       "    <tr>\n",
       "      <th>0</th>\n",
       "      <td>1</td>\n",
       "      <td>0</td>\n",
       "      <td>3</td>\n",
       "      <td>male</td>\n",
       "      <td>22.0</td>\n",
       "      <td>1</td>\n",
       "      <td>0</td>\n",
       "      <td>7.2500</td>\n",
       "      <td>S</td>\n",
       "      <td>n</td>\n",
       "      <td>Mr</td>\n",
       "      <td>23</td>\n",
       "      <td>A</td>\n",
       "      <td>9</td>\n",
       "    </tr>\n",
       "    <tr>\n",
       "      <th>1</th>\n",
       "      <td>2</td>\n",
       "      <td>1</td>\n",
       "      <td>1</td>\n",
       "      <td>female</td>\n",
       "      <td>38.0</td>\n",
       "      <td>1</td>\n",
       "      <td>0</td>\n",
       "      <td>71.2833</td>\n",
       "      <td>C</td>\n",
       "      <td>C</td>\n",
       "      <td>Mrs</td>\n",
       "      <td>51</td>\n",
       "      <td>P</td>\n",
       "      <td>8</td>\n",
       "    </tr>\n",
       "    <tr>\n",
       "      <th>2</th>\n",
       "      <td>3</td>\n",
       "      <td>1</td>\n",
       "      <td>3</td>\n",
       "      <td>female</td>\n",
       "      <td>26.0</td>\n",
       "      <td>0</td>\n",
       "      <td>0</td>\n",
       "      <td>7.9250</td>\n",
       "      <td>S</td>\n",
       "      <td>n</td>\n",
       "      <td>Miss</td>\n",
       "      <td>22</td>\n",
       "      <td>S</td>\n",
       "      <td>16</td>\n",
       "    </tr>\n",
       "    <tr>\n",
       "      <th>3</th>\n",
       "      <td>4</td>\n",
       "      <td>1</td>\n",
       "      <td>1</td>\n",
       "      <td>female</td>\n",
       "      <td>35.0</td>\n",
       "      <td>1</td>\n",
       "      <td>0</td>\n",
       "      <td>53.1000</td>\n",
       "      <td>S</td>\n",
       "      <td>C</td>\n",
       "      <td>Mrs</td>\n",
       "      <td>44</td>\n",
       "      <td>1</td>\n",
       "      <td>6</td>\n",
       "    </tr>\n",
       "    <tr>\n",
       "      <th>4</th>\n",
       "      <td>5</td>\n",
       "      <td>0</td>\n",
       "      <td>3</td>\n",
       "      <td>male</td>\n",
       "      <td>35.0</td>\n",
       "      <td>0</td>\n",
       "      <td>0</td>\n",
       "      <td>8.0500</td>\n",
       "      <td>S</td>\n",
       "      <td>n</td>\n",
       "      <td>Mr</td>\n",
       "      <td>24</td>\n",
       "      <td>3</td>\n",
       "      <td>6</td>\n",
       "    </tr>\n",
       "  </tbody>\n",
       "</table>\n",
       "</div>"
      ],
      "text/plain": [
       "   PassengerId  Survived  Pclass     Sex   Age  SibSp  Parch     Fare  \\\n",
       "0            1         0       3    male  22.0      1      0   7.2500   \n",
       "1            2         1       1  female  38.0      1      0  71.2833   \n",
       "2            3         1       3  female  26.0      0      0   7.9250   \n",
       "3            4         1       1  female  35.0      1      0  53.1000   \n",
       "4            5         0       3    male  35.0      0      0   8.0500   \n",
       "\n",
       "  Embarked Cabin_Letter Title  Name_Len Ticket_Lett  Ticket_Len  \n",
       "0        S            n    Mr        23           A           9  \n",
       "1        C            C   Mrs        51           P           8  \n",
       "2        S            n  Miss        22           S          16  \n",
       "3        S            C   Mrs        44           1           6  \n",
       "4        S            n    Mr        24           3           6  "
      ]
     },
     "execution_count": 36,
     "metadata": {},
     "output_type": "execute_result"
    }
   ],
   "source": [
    "train_data.head()"
   ]
  },
  {
   "cell_type": "markdown",
   "id": "choice-opera",
   "metadata": {
    "papermill": {
     "duration": 0.125136,
     "end_time": "2022-01-19T03:57:00.774218",
     "exception": false,
     "start_time": "2022-01-19T03:57:00.649082",
     "status": "completed"
    },
    "tags": []
   },
   "source": [
    "##### **Sibsp and Parch**\n",
    "\n",
    "When we have two seemingly weak predictors, one thing we can do is combine them to get a stronger predictor. \n",
    "\n",
    "* We can create a new feature \"Family Size\" to account for the Family size.\n",
    "* It can be a categorical variable and also help differentiate solo travellers. "
   ]
  },
  {
   "cell_type": "code",
   "execution_count": 37,
   "id": "spectacular-vocabulary",
   "metadata": {
    "execution": {
     "iopub.execute_input": "2022-01-19T03:57:01.026993Z",
     "iopub.status.busy": "2022-01-19T03:57:01.026390Z",
     "iopub.status.idle": "2022-01-19T03:57:01.031287Z",
     "shell.execute_reply": "2022-01-19T03:57:01.031773Z",
     "shell.execute_reply.started": "2022-01-19T03:05:55.572378Z"
    },
    "papermill": {
     "duration": 0.131716,
     "end_time": "2022-01-19T03:57:01.031937",
     "exception": false,
     "start_time": "2022-01-19T03:57:00.900221",
     "status": "completed"
    },
    "tags": []
   },
   "outputs": [],
   "source": [
    "def fam_size(train, test):\n",
    "    for i in [train, test]:\n",
    "        i['Family_Size'] = np.where((i['SibSp']+i['Parch']) == 0 , 'Solo',\n",
    "                           np.where((i['SibSp']+i['Parch']) <= 3,'Nuclear', 'Big'))\n",
    "        del i['SibSp']\n",
    "        del i['Parch']\n",
    "    return train, test"
   ]
  },
  {
   "cell_type": "code",
   "execution_count": 38,
   "id": "younger-complement",
   "metadata": {
    "execution": {
     "iopub.execute_input": "2022-01-19T03:57:01.279704Z",
     "iopub.status.busy": "2022-01-19T03:57:01.279056Z",
     "iopub.status.idle": "2022-01-19T03:57:01.288591Z",
     "shell.execute_reply": "2022-01-19T03:57:01.289073Z",
     "shell.execute_reply.started": "2022-01-19T03:05:56.067333Z"
    },
    "papermill": {
     "duration": 0.135504,
     "end_time": "2022-01-19T03:57:01.289250",
     "exception": false,
     "start_time": "2022-01-19T03:57:01.153746",
     "status": "completed"
    },
    "tags": []
   },
   "outputs": [],
   "source": [
    "train_data, test_data = fam_size(train_data, test_data)"
   ]
  },
  {
   "cell_type": "code",
   "execution_count": 39,
   "id": "coupled-albert",
   "metadata": {
    "execution": {
     "iopub.execute_input": "2022-01-19T03:57:01.537238Z",
     "iopub.status.busy": "2022-01-19T03:57:01.536590Z",
     "iopub.status.idle": "2022-01-19T03:57:01.551826Z",
     "shell.execute_reply": "2022-01-19T03:57:01.552346Z",
     "shell.execute_reply.started": "2022-01-19T03:05:56.354104Z"
    },
    "papermill": {
     "duration": 0.141601,
     "end_time": "2022-01-19T03:57:01.552508",
     "exception": false,
     "start_time": "2022-01-19T03:57:01.410907",
     "status": "completed"
    },
    "tags": []
   },
   "outputs": [
    {
     "data": {
      "text/html": [
       "<div>\n",
       "<style scoped>\n",
       "    .dataframe tbody tr th:only-of-type {\n",
       "        vertical-align: middle;\n",
       "    }\n",
       "\n",
       "    .dataframe tbody tr th {\n",
       "        vertical-align: top;\n",
       "    }\n",
       "\n",
       "    .dataframe thead th {\n",
       "        text-align: right;\n",
       "    }\n",
       "</style>\n",
       "<table border=\"1\" class=\"dataframe\">\n",
       "  <thead>\n",
       "    <tr style=\"text-align: right;\">\n",
       "      <th></th>\n",
       "      <th>Family_Size</th>\n",
       "      <th>Survived</th>\n",
       "    </tr>\n",
       "  </thead>\n",
       "  <tbody>\n",
       "    <tr>\n",
       "      <th>1</th>\n",
       "      <td>Nuclear</td>\n",
       "      <td>0.578767</td>\n",
       "    </tr>\n",
       "    <tr>\n",
       "      <th>2</th>\n",
       "      <td>Solo</td>\n",
       "      <td>0.303538</td>\n",
       "    </tr>\n",
       "    <tr>\n",
       "      <th>0</th>\n",
       "      <td>Big</td>\n",
       "      <td>0.161290</td>\n",
       "    </tr>\n",
       "  </tbody>\n",
       "</table>\n",
       "</div>"
      ],
      "text/plain": [
       "  Family_Size  Survived\n",
       "1     Nuclear  0.578767\n",
       "2        Solo  0.303538\n",
       "0         Big  0.161290"
      ]
     },
     "execution_count": 39,
     "metadata": {},
     "output_type": "execute_result"
    }
   ],
   "source": [
    "train_data[['Family_Size', 'Survived']].groupby(['Family_Size'], as_index=False).mean().sort_values(by='Survived', ascending=False)"
   ]
  },
  {
   "cell_type": "markdown",
   "id": "south-family",
   "metadata": {
    "papermill": {
     "duration": 0.122403,
     "end_time": "2022-01-19T03:57:01.799842",
     "exception": false,
     "start_time": "2022-01-19T03:57:01.677439",
     "status": "completed"
    },
    "tags": []
   },
   "source": [
    "* Big families are the least likelist to survive."
   ]
  },
  {
   "cell_type": "code",
   "execution_count": 40,
   "id": "genuine-vacation",
   "metadata": {
    "execution": {
     "iopub.execute_input": "2022-01-19T03:57:02.064395Z",
     "iopub.status.busy": "2022-01-19T03:57:02.057581Z",
     "iopub.status.idle": "2022-01-19T03:57:02.067238Z",
     "shell.execute_reply": "2022-01-19T03:57:02.067731Z",
     "shell.execute_reply.started": "2022-01-19T03:05:56.866301Z"
    },
    "papermill": {
     "duration": 0.145162,
     "end_time": "2022-01-19T03:57:02.067899",
     "exception": false,
     "start_time": "2022-01-19T03:57:01.922737",
     "status": "completed"
    },
    "tags": []
   },
   "outputs": [
    {
     "data": {
      "text/html": [
       "<div>\n",
       "<style scoped>\n",
       "    .dataframe tbody tr th:only-of-type {\n",
       "        vertical-align: middle;\n",
       "    }\n",
       "\n",
       "    .dataframe tbody tr th {\n",
       "        vertical-align: top;\n",
       "    }\n",
       "\n",
       "    .dataframe thead th {\n",
       "        text-align: right;\n",
       "    }\n",
       "</style>\n",
       "<table border=\"1\" class=\"dataframe\">\n",
       "  <thead>\n",
       "    <tr style=\"text-align: right;\">\n",
       "      <th></th>\n",
       "      <th>PassengerId</th>\n",
       "      <th>Survived</th>\n",
       "      <th>Pclass</th>\n",
       "      <th>Sex</th>\n",
       "      <th>Age</th>\n",
       "      <th>Fare</th>\n",
       "      <th>Embarked</th>\n",
       "      <th>Cabin_Letter</th>\n",
       "      <th>Title</th>\n",
       "      <th>Name_Len</th>\n",
       "      <th>Ticket_Lett</th>\n",
       "      <th>Ticket_Len</th>\n",
       "      <th>Family_Size</th>\n",
       "    </tr>\n",
       "  </thead>\n",
       "  <tbody>\n",
       "    <tr>\n",
       "      <th>0</th>\n",
       "      <td>1</td>\n",
       "      <td>0</td>\n",
       "      <td>3</td>\n",
       "      <td>male</td>\n",
       "      <td>22.0</td>\n",
       "      <td>7.2500</td>\n",
       "      <td>S</td>\n",
       "      <td>n</td>\n",
       "      <td>Mr</td>\n",
       "      <td>23</td>\n",
       "      <td>A</td>\n",
       "      <td>9</td>\n",
       "      <td>Nuclear</td>\n",
       "    </tr>\n",
       "    <tr>\n",
       "      <th>1</th>\n",
       "      <td>2</td>\n",
       "      <td>1</td>\n",
       "      <td>1</td>\n",
       "      <td>female</td>\n",
       "      <td>38.0</td>\n",
       "      <td>71.2833</td>\n",
       "      <td>C</td>\n",
       "      <td>C</td>\n",
       "      <td>Mrs</td>\n",
       "      <td>51</td>\n",
       "      <td>P</td>\n",
       "      <td>8</td>\n",
       "      <td>Nuclear</td>\n",
       "    </tr>\n",
       "    <tr>\n",
       "      <th>2</th>\n",
       "      <td>3</td>\n",
       "      <td>1</td>\n",
       "      <td>3</td>\n",
       "      <td>female</td>\n",
       "      <td>26.0</td>\n",
       "      <td>7.9250</td>\n",
       "      <td>S</td>\n",
       "      <td>n</td>\n",
       "      <td>Miss</td>\n",
       "      <td>22</td>\n",
       "      <td>S</td>\n",
       "      <td>16</td>\n",
       "      <td>Solo</td>\n",
       "    </tr>\n",
       "    <tr>\n",
       "      <th>3</th>\n",
       "      <td>4</td>\n",
       "      <td>1</td>\n",
       "      <td>1</td>\n",
       "      <td>female</td>\n",
       "      <td>35.0</td>\n",
       "      <td>53.1000</td>\n",
       "      <td>S</td>\n",
       "      <td>C</td>\n",
       "      <td>Mrs</td>\n",
       "      <td>44</td>\n",
       "      <td>1</td>\n",
       "      <td>6</td>\n",
       "      <td>Nuclear</td>\n",
       "    </tr>\n",
       "    <tr>\n",
       "      <th>4</th>\n",
       "      <td>5</td>\n",
       "      <td>0</td>\n",
       "      <td>3</td>\n",
       "      <td>male</td>\n",
       "      <td>35.0</td>\n",
       "      <td>8.0500</td>\n",
       "      <td>S</td>\n",
       "      <td>n</td>\n",
       "      <td>Mr</td>\n",
       "      <td>24</td>\n",
       "      <td>3</td>\n",
       "      <td>6</td>\n",
       "      <td>Solo</td>\n",
       "    </tr>\n",
       "  </tbody>\n",
       "</table>\n",
       "</div>"
      ],
      "text/plain": [
       "   PassengerId  Survived  Pclass     Sex   Age     Fare Embarked Cabin_Letter  \\\n",
       "0            1         0       3    male  22.0   7.2500        S            n   \n",
       "1            2         1       1  female  38.0  71.2833        C            C   \n",
       "2            3         1       3  female  26.0   7.9250        S            n   \n",
       "3            4         1       1  female  35.0  53.1000        S            C   \n",
       "4            5         0       3    male  35.0   8.0500        S            n   \n",
       "\n",
       "  Title  Name_Len Ticket_Lett  Ticket_Len Family_Size  \n",
       "0    Mr        23           A           9     Nuclear  \n",
       "1   Mrs        51           P           8     Nuclear  \n",
       "2  Miss        22           S          16        Solo  \n",
       "3   Mrs        44           1           6     Nuclear  \n",
       "4    Mr        24           3           6        Solo  "
      ]
     },
     "execution_count": 40,
     "metadata": {},
     "output_type": "execute_result"
    }
   ],
   "source": [
    "train_data.head()"
   ]
  },
  {
   "cell_type": "markdown",
   "id": "selected-computer",
   "metadata": {
    "papermill": {
     "duration": 0.122846,
     "end_time": "2022-01-19T03:57:02.313485",
     "exception": false,
     "start_time": "2022-01-19T03:57:02.190639",
     "status": "completed"
    },
    "tags": []
   },
   "source": [
    "##### **Embarked**\n",
    "\n",
    "We have one missing value in Embarked, so fixing it with the mode."
   ]
  },
  {
   "cell_type": "code",
   "execution_count": 41,
   "id": "athletic-hundred",
   "metadata": {
    "execution": {
     "iopub.execute_input": "2022-01-19T03:57:02.559160Z",
     "iopub.status.busy": "2022-01-19T03:57:02.558506Z",
     "iopub.status.idle": "2022-01-19T03:57:02.563804Z",
     "shell.execute_reply": "2022-01-19T03:57:02.564279Z",
     "shell.execute_reply.started": "2022-01-19T03:05:57.383158Z"
    },
    "papermill": {
     "duration": 0.128661,
     "end_time": "2022-01-19T03:57:02.564423",
     "exception": false,
     "start_time": "2022-01-19T03:57:02.435762",
     "status": "completed"
    },
    "tags": []
   },
   "outputs": [
    {
     "data": {
      "text/plain": [
       "'S'"
      ]
     },
     "execution_count": 41,
     "metadata": {},
     "output_type": "execute_result"
    }
   ],
   "source": [
    "freq_port = train_data.Embarked.dropna().mode()[0]\n",
    "freq_port"
   ]
  },
  {
   "cell_type": "code",
   "execution_count": 42,
   "id": "published-shuttle",
   "metadata": {
    "execution": {
     "iopub.execute_input": "2022-01-19T03:57:02.835353Z",
     "iopub.status.busy": "2022-01-19T03:57:02.834405Z",
     "iopub.status.idle": "2022-01-19T03:57:02.839303Z",
     "shell.execute_reply": "2022-01-19T03:57:02.839860Z",
     "shell.execute_reply.started": "2022-01-19T03:05:57.634091Z"
    },
    "papermill": {
     "duration": 0.136586,
     "end_time": "2022-01-19T03:57:02.840014",
     "exception": false,
     "start_time": "2022-01-19T03:57:02.703428",
     "status": "completed"
    },
    "tags": []
   },
   "outputs": [],
   "source": [
    "train_data['Embarked'] = train_data['Embarked'].fillna(freq_port)"
   ]
  },
  {
   "cell_type": "code",
   "execution_count": 43,
   "id": "specified-fountain",
   "metadata": {
    "execution": {
     "iopub.execute_input": "2022-01-19T03:57:03.092205Z",
     "iopub.status.busy": "2022-01-19T03:57:03.091224Z",
     "iopub.status.idle": "2022-01-19T03:57:03.106602Z",
     "shell.execute_reply": "2022-01-19T03:57:03.107160Z",
     "shell.execute_reply.started": "2022-01-19T03:05:57.953989Z"
    },
    "papermill": {
     "duration": 0.143776,
     "end_time": "2022-01-19T03:57:03.107342",
     "exception": false,
     "start_time": "2022-01-19T03:57:02.963566",
     "status": "completed"
    },
    "tags": []
   },
   "outputs": [
    {
     "data": {
      "text/html": [
       "<div>\n",
       "<style scoped>\n",
       "    .dataframe tbody tr th:only-of-type {\n",
       "        vertical-align: middle;\n",
       "    }\n",
       "\n",
       "    .dataframe tbody tr th {\n",
       "        vertical-align: top;\n",
       "    }\n",
       "\n",
       "    .dataframe thead th {\n",
       "        text-align: right;\n",
       "    }\n",
       "</style>\n",
       "<table border=\"1\" class=\"dataframe\">\n",
       "  <thead>\n",
       "    <tr style=\"text-align: right;\">\n",
       "      <th></th>\n",
       "      <th>Embarked</th>\n",
       "      <th>Survived</th>\n",
       "    </tr>\n",
       "  </thead>\n",
       "  <tbody>\n",
       "    <tr>\n",
       "      <th>0</th>\n",
       "      <td>C</td>\n",
       "      <td>0.553571</td>\n",
       "    </tr>\n",
       "    <tr>\n",
       "      <th>1</th>\n",
       "      <td>Q</td>\n",
       "      <td>0.389610</td>\n",
       "    </tr>\n",
       "    <tr>\n",
       "      <th>2</th>\n",
       "      <td>S</td>\n",
       "      <td>0.339009</td>\n",
       "    </tr>\n",
       "  </tbody>\n",
       "</table>\n",
       "</div>"
      ],
      "text/plain": [
       "  Embarked  Survived\n",
       "0        C  0.553571\n",
       "1        Q  0.389610\n",
       "2        S  0.339009"
      ]
     },
     "execution_count": 43,
     "metadata": {},
     "output_type": "execute_result"
    }
   ],
   "source": [
    "train_data[['Embarked', 'Survived']].groupby(['Embarked'], as_index=False).mean().sort_values(by='Survived', ascending=False)"
   ]
  },
  {
   "cell_type": "code",
   "execution_count": 44,
   "id": "behavioral-orlando",
   "metadata": {
    "execution": {
     "iopub.execute_input": "2022-01-19T03:57:03.360773Z",
     "iopub.status.busy": "2022-01-19T03:57:03.359752Z",
     "iopub.status.idle": "2022-01-19T03:57:03.365945Z",
     "shell.execute_reply": "2022-01-19T03:57:03.366524Z",
     "shell.execute_reply.started": "2022-01-19T03:05:58.183399Z"
    },
    "papermill": {
     "duration": 0.136655,
     "end_time": "2022-01-19T03:57:03.366682",
     "exception": false,
     "start_time": "2022-01-19T03:57:03.230027",
     "status": "completed"
    },
    "tags": []
   },
   "outputs": [
    {
     "data": {
      "text/plain": [
       "0"
      ]
     },
     "execution_count": 44,
     "metadata": {},
     "output_type": "execute_result"
    }
   ],
   "source": [
    "train_data['Embarked'].isnull().sum()"
   ]
  },
  {
   "cell_type": "markdown",
   "id": "joint-freeware",
   "metadata": {
    "papermill": {
     "duration": 0.128299,
     "end_time": "2022-01-19T03:57:03.620656",
     "exception": false,
     "start_time": "2022-01-19T03:57:03.492357",
     "status": "completed"
    },
    "tags": []
   },
   "source": [
    "##### **Fare**\n",
    "\n",
    "We have one Fare value missing in the test data. We can replace it with the mean value from the train dataset."
   ]
  },
  {
   "cell_type": "code",
   "execution_count": 45,
   "id": "falling-berry",
   "metadata": {
    "execution": {
     "iopub.execute_input": "2022-01-19T03:57:03.878295Z",
     "iopub.status.busy": "2022-01-19T03:57:03.877671Z",
     "iopub.status.idle": "2022-01-19T03:57:03.880146Z",
     "shell.execute_reply": "2022-01-19T03:57:03.880704Z",
     "shell.execute_reply.started": "2022-01-19T03:05:58.658998Z"
    },
    "papermill": {
     "duration": 0.134046,
     "end_time": "2022-01-19T03:57:03.880860",
     "exception": false,
     "start_time": "2022-01-19T03:57:03.746814",
     "status": "completed"
    },
    "tags": []
   },
   "outputs": [],
   "source": [
    "test_data['Fare'].fillna(train_data['Fare'].mean(), inplace = True)"
   ]
  },
  {
   "cell_type": "code",
   "execution_count": 46,
   "id": "excess-particle",
   "metadata": {
    "execution": {
     "iopub.execute_input": "2022-01-19T03:57:04.171224Z",
     "iopub.status.busy": "2022-01-19T03:57:04.170586Z",
     "iopub.status.idle": "2022-01-19T03:57:04.175644Z",
     "shell.execute_reply": "2022-01-19T03:57:04.176168Z",
     "shell.execute_reply.started": "2022-01-19T03:05:58.906248Z"
    },
    "papermill": {
     "duration": 0.129875,
     "end_time": "2022-01-19T03:57:04.176323",
     "exception": false,
     "start_time": "2022-01-19T03:57:04.046448",
     "status": "completed"
    },
    "tags": []
   },
   "outputs": [
    {
     "data": {
      "text/plain": [
       "0"
      ]
     },
     "execution_count": 46,
     "metadata": {},
     "output_type": "execute_result"
    }
   ],
   "source": [
    "test_data['Fare'].isnull().sum()"
   ]
  },
  {
   "cell_type": "markdown",
   "id": "horizontal-cincinnati",
   "metadata": {
    "papermill": {
     "duration": 0.123601,
     "end_time": "2022-01-19T03:57:04.423914",
     "exception": false,
     "start_time": "2022-01-19T03:57:04.300313",
     "status": "completed"
    },
    "tags": []
   },
   "source": [
    "**Age**\n",
    "\n",
    "* We impute the null values of the Age column by filling in the mean value of the passenger’s corresponding title and class."
   ]
  },
  {
   "cell_type": "code",
   "execution_count": 47,
   "id": "monetary-knock",
   "metadata": {
    "execution": {
     "iopub.execute_input": "2022-01-19T03:57:04.674959Z",
     "iopub.status.busy": "2022-01-19T03:57:04.674424Z",
     "iopub.status.idle": "2022-01-19T03:57:04.680509Z",
     "shell.execute_reply": "2022-01-19T03:57:04.681071Z",
     "shell.execute_reply.started": "2022-01-19T03:05:59.370127Z"
    },
    "papermill": {
     "duration": 0.134075,
     "end_time": "2022-01-19T03:57:04.681242",
     "exception": false,
     "start_time": "2022-01-19T03:57:04.547167",
     "status": "completed"
    },
    "tags": []
   },
   "outputs": [],
   "source": [
    "train_data['Age_mean'] = train_data.groupby(['Title', 'Pclass'])['Age'].transform('mean')"
   ]
  },
  {
   "cell_type": "code",
   "execution_count": 48,
   "id": "thermal-period",
   "metadata": {
    "execution": {
     "iopub.execute_input": "2022-01-19T03:57:04.932080Z",
     "iopub.status.busy": "2022-01-19T03:57:04.931487Z",
     "iopub.status.idle": "2022-01-19T03:57:04.949746Z",
     "shell.execute_reply": "2022-01-19T03:57:04.950312Z",
     "shell.execute_reply.started": "2022-01-19T03:05:59.642998Z"
    },
    "papermill": {
     "duration": 0.146158,
     "end_time": "2022-01-19T03:57:04.950475",
     "exception": false,
     "start_time": "2022-01-19T03:57:04.804317",
     "status": "completed"
    },
    "tags": []
   },
   "outputs": [
    {
     "data": {
      "text/html": [
       "<div>\n",
       "<style scoped>\n",
       "    .dataframe tbody tr th:only-of-type {\n",
       "        vertical-align: middle;\n",
       "    }\n",
       "\n",
       "    .dataframe tbody tr th {\n",
       "        vertical-align: top;\n",
       "    }\n",
       "\n",
       "    .dataframe thead th {\n",
       "        text-align: right;\n",
       "    }\n",
       "</style>\n",
       "<table border=\"1\" class=\"dataframe\">\n",
       "  <thead>\n",
       "    <tr style=\"text-align: right;\">\n",
       "      <th></th>\n",
       "      <th>Title</th>\n",
       "      <th>Pclass</th>\n",
       "      <th>Age_mean</th>\n",
       "      <th>Survived</th>\n",
       "    </tr>\n",
       "  </thead>\n",
       "  <tbody>\n",
       "    <tr>\n",
       "      <th>0</th>\n",
       "      <td>Master</td>\n",
       "      <td>1</td>\n",
       "      <td>5.306667</td>\n",
       "      <td>1.000000</td>\n",
       "    </tr>\n",
       "    <tr>\n",
       "      <th>1</th>\n",
       "      <td>Master</td>\n",
       "      <td>2</td>\n",
       "      <td>2.258889</td>\n",
       "      <td>1.000000</td>\n",
       "    </tr>\n",
       "    <tr>\n",
       "      <th>9</th>\n",
       "      <td>Mrs</td>\n",
       "      <td>1</td>\n",
       "      <td>40.400000</td>\n",
       "      <td>0.976744</td>\n",
       "    </tr>\n",
       "    <tr>\n",
       "      <th>3</th>\n",
       "      <td>Miss</td>\n",
       "      <td>1</td>\n",
       "      <td>29.744681</td>\n",
       "      <td>0.958333</td>\n",
       "    </tr>\n",
       "    <tr>\n",
       "      <th>4</th>\n",
       "      <td>Miss</td>\n",
       "      <td>2</td>\n",
       "      <td>22.560606</td>\n",
       "      <td>0.942857</td>\n",
       "    </tr>\n",
       "    <tr>\n",
       "      <th>10</th>\n",
       "      <td>Mrs</td>\n",
       "      <td>2</td>\n",
       "      <td>33.682927</td>\n",
       "      <td>0.902439</td>\n",
       "    </tr>\n",
       "    <tr>\n",
       "      <th>5</th>\n",
       "      <td>Miss</td>\n",
       "      <td>3</td>\n",
       "      <td>16.123188</td>\n",
       "      <td>0.500000</td>\n",
       "    </tr>\n",
       "    <tr>\n",
       "      <th>11</th>\n",
       "      <td>Mrs</td>\n",
       "      <td>3</td>\n",
       "      <td>33.515152</td>\n",
       "      <td>0.500000</td>\n",
       "    </tr>\n",
       "    <tr>\n",
       "      <th>12</th>\n",
       "      <td>Rare</td>\n",
       "      <td>1</td>\n",
       "      <td>47.461538</td>\n",
       "      <td>0.500000</td>\n",
       "    </tr>\n",
       "    <tr>\n",
       "      <th>2</th>\n",
       "      <td>Master</td>\n",
       "      <td>3</td>\n",
       "      <td>5.350833</td>\n",
       "      <td>0.392857</td>\n",
       "    </tr>\n",
       "    <tr>\n",
       "      <th>6</th>\n",
       "      <td>Mr</td>\n",
       "      <td>1</td>\n",
       "      <td>41.664773</td>\n",
       "      <td>0.351852</td>\n",
       "    </tr>\n",
       "    <tr>\n",
       "      <th>8</th>\n",
       "      <td>Mr</td>\n",
       "      <td>3</td>\n",
       "      <td>28.724891</td>\n",
       "      <td>0.112853</td>\n",
       "    </tr>\n",
       "    <tr>\n",
       "      <th>7</th>\n",
       "      <td>Mr</td>\n",
       "      <td>2</td>\n",
       "      <td>32.768293</td>\n",
       "      <td>0.087912</td>\n",
       "    </tr>\n",
       "    <tr>\n",
       "      <th>13</th>\n",
       "      <td>Rare</td>\n",
       "      <td>2</td>\n",
       "      <td>42.000000</td>\n",
       "      <td>0.000000</td>\n",
       "    </tr>\n",
       "  </tbody>\n",
       "</table>\n",
       "</div>"
      ],
      "text/plain": [
       "     Title  Pclass   Age_mean  Survived\n",
       "0   Master       1   5.306667  1.000000\n",
       "1   Master       2   2.258889  1.000000\n",
       "9      Mrs       1  40.400000  0.976744\n",
       "3     Miss       1  29.744681  0.958333\n",
       "4     Miss       2  22.560606  0.942857\n",
       "10     Mrs       2  33.682927  0.902439\n",
       "5     Miss       3  16.123188  0.500000\n",
       "11     Mrs       3  33.515152  0.500000\n",
       "12    Rare       1  47.461538  0.500000\n",
       "2   Master       3   5.350833  0.392857\n",
       "6       Mr       1  41.664773  0.351852\n",
       "8       Mr       3  28.724891  0.112853\n",
       "7       Mr       2  32.768293  0.087912\n",
       "13    Rare       2  42.000000  0.000000"
      ]
     },
     "execution_count": 48,
     "metadata": {},
     "output_type": "execute_result"
    }
   ],
   "source": [
    "train_data[['Title','Pclass','Age_mean', 'Survived']].groupby(['Title', 'Pclass'], as_index=False).mean().sort_values(by='Survived', ascending=False)"
   ]
  },
  {
   "cell_type": "markdown",
   "id": "extraordinary-great",
   "metadata": {
    "papermill": {
     "duration": 0.125389,
     "end_time": "2022-01-19T03:57:05.201368",
     "exception": false,
     "start_time": "2022-01-19T03:57:05.075979",
     "status": "completed"
    },
    "tags": []
   },
   "source": [
    "We can now replace the missing values of Age with the mean value in the training data."
   ]
  },
  {
   "cell_type": "code",
   "execution_count": 49,
   "id": "immune-alias",
   "metadata": {
    "execution": {
     "iopub.execute_input": "2022-01-19T03:57:05.454288Z",
     "iopub.status.busy": "2022-01-19T03:57:05.453596Z",
     "iopub.status.idle": "2022-01-19T03:57:05.457764Z",
     "shell.execute_reply": "2022-01-19T03:57:05.458298Z",
     "shell.execute_reply.started": "2022-01-19T03:06:00.154455Z"
    },
    "papermill": {
     "duration": 0.129305,
     "end_time": "2022-01-19T03:57:05.458461",
     "exception": false,
     "start_time": "2022-01-19T03:57:05.329156",
     "status": "completed"
    },
    "tags": []
   },
   "outputs": [],
   "source": [
    "train_data['Age'] = train_data['Age'].fillna(train_data['Age_mean'])"
   ]
  },
  {
   "cell_type": "markdown",
   "id": "lesser-filter",
   "metadata": {
    "papermill": {
     "duration": 0.123946,
     "end_time": "2022-01-19T03:57:05.701877",
     "exception": false,
     "start_time": "2022-01-19T03:57:05.577931",
     "status": "completed"
    },
    "tags": []
   },
   "source": [
    "Merging the Test data with Train data using Left join, that means, if the keys(Title and Pclass) are not present in test data, it is filled with NaN's rather than removing the records. "
   ]
  },
  {
   "cell_type": "code",
   "execution_count": 50,
   "id": "resident-creature",
   "metadata": {
    "execution": {
     "iopub.execute_input": "2022-01-19T03:57:05.958029Z",
     "iopub.status.busy": "2022-01-19T03:57:05.957356Z",
     "iopub.status.idle": "2022-01-19T03:57:06.058738Z",
     "shell.execute_reply": "2022-01-19T03:57:06.059599Z",
     "shell.execute_reply.started": "2022-01-19T03:06:00.731288Z"
    },
    "papermill": {
     "duration": 0.230081,
     "end_time": "2022-01-19T03:57:06.059837",
     "exception": false,
     "start_time": "2022-01-19T03:57:05.829756",
     "status": "completed"
    },
    "tags": []
   },
   "outputs": [],
   "source": [
    "Merge_Test_Train = test_data.merge(train_data, on=['Title', 'Pclass'], how='left').drop_duplicates(['PassengerId_x'])"
   ]
  },
  {
   "cell_type": "code",
   "execution_count": 51,
   "id": "sweet-hybrid",
   "metadata": {
    "execution": {
     "iopub.execute_input": "2022-01-19T03:57:06.336815Z",
     "iopub.status.busy": "2022-01-19T03:57:06.336057Z",
     "iopub.status.idle": "2022-01-19T03:57:06.338784Z",
     "shell.execute_reply": "2022-01-19T03:57:06.339464Z",
     "shell.execute_reply.started": "2022-01-19T03:06:00.947008Z"
    },
    "papermill": {
     "duration": 0.140948,
     "end_time": "2022-01-19T03:57:06.339626",
     "exception": false,
     "start_time": "2022-01-19T03:57:06.198678",
     "status": "completed"
    },
    "tags": []
   },
   "outputs": [],
   "source": [
    "test_data['Age'] = np.where(test_data['Age'].isnull(), Merge_Test_Train['Age_mean'], test_data['Age'])"
   ]
  },
  {
   "cell_type": "markdown",
   "id": "corporate-procurement",
   "metadata": {
    "papermill": {
     "duration": 0.127133,
     "end_time": "2022-01-19T03:57:06.592848",
     "exception": false,
     "start_time": "2022-01-19T03:57:06.465715",
     "status": "completed"
    },
    "tags": []
   },
   "source": [
    "##### **Dropping some Features**"
   ]
  },
  {
   "cell_type": "code",
   "execution_count": 52,
   "id": "impaired-meter",
   "metadata": {
    "execution": {
     "iopub.execute_input": "2022-01-19T03:57:06.853179Z",
     "iopub.status.busy": "2022-01-19T03:57:06.852231Z",
     "iopub.status.idle": "2022-01-19T03:57:06.854622Z",
     "shell.execute_reply": "2022-01-19T03:57:06.855191Z",
     "shell.execute_reply.started": "2022-01-19T03:06:01.521918Z"
    },
    "papermill": {
     "duration": 0.134668,
     "end_time": "2022-01-19T03:57:06.855348",
     "exception": false,
     "start_time": "2022-01-19T03:57:06.720680",
     "status": "completed"
    },
    "tags": []
   },
   "outputs": [],
   "source": [
    "train = train_data.drop(['PassengerId', 'Age_mean'], axis=1)"
   ]
  },
  {
   "cell_type": "code",
   "execution_count": 53,
   "id": "accurate-picking",
   "metadata": {
    "execution": {
     "iopub.execute_input": "2022-01-19T03:57:07.110474Z",
     "iopub.status.busy": "2022-01-19T03:57:07.109481Z",
     "iopub.status.idle": "2022-01-19T03:57:07.126465Z",
     "shell.execute_reply": "2022-01-19T03:57:07.127014Z",
     "shell.execute_reply.started": "2022-01-19T03:06:01.826307Z"
    },
    "papermill": {
     "duration": 0.146148,
     "end_time": "2022-01-19T03:57:07.127210",
     "exception": false,
     "start_time": "2022-01-19T03:57:06.981062",
     "status": "completed"
    },
    "tags": []
   },
   "outputs": [
    {
     "data": {
      "text/html": [
       "<div>\n",
       "<style scoped>\n",
       "    .dataframe tbody tr th:only-of-type {\n",
       "        vertical-align: middle;\n",
       "    }\n",
       "\n",
       "    .dataframe tbody tr th {\n",
       "        vertical-align: top;\n",
       "    }\n",
       "\n",
       "    .dataframe thead th {\n",
       "        text-align: right;\n",
       "    }\n",
       "</style>\n",
       "<table border=\"1\" class=\"dataframe\">\n",
       "  <thead>\n",
       "    <tr style=\"text-align: right;\">\n",
       "      <th></th>\n",
       "      <th>Survived</th>\n",
       "      <th>Pclass</th>\n",
       "      <th>Sex</th>\n",
       "      <th>Age</th>\n",
       "      <th>Fare</th>\n",
       "      <th>Embarked</th>\n",
       "      <th>Cabin_Letter</th>\n",
       "      <th>Title</th>\n",
       "      <th>Name_Len</th>\n",
       "      <th>Ticket_Lett</th>\n",
       "      <th>Ticket_Len</th>\n",
       "      <th>Family_Size</th>\n",
       "    </tr>\n",
       "  </thead>\n",
       "  <tbody>\n",
       "    <tr>\n",
       "      <th>0</th>\n",
       "      <td>0</td>\n",
       "      <td>3</td>\n",
       "      <td>male</td>\n",
       "      <td>22.0</td>\n",
       "      <td>7.2500</td>\n",
       "      <td>S</td>\n",
       "      <td>n</td>\n",
       "      <td>Mr</td>\n",
       "      <td>23</td>\n",
       "      <td>A</td>\n",
       "      <td>9</td>\n",
       "      <td>Nuclear</td>\n",
       "    </tr>\n",
       "    <tr>\n",
       "      <th>1</th>\n",
       "      <td>1</td>\n",
       "      <td>1</td>\n",
       "      <td>female</td>\n",
       "      <td>38.0</td>\n",
       "      <td>71.2833</td>\n",
       "      <td>C</td>\n",
       "      <td>C</td>\n",
       "      <td>Mrs</td>\n",
       "      <td>51</td>\n",
       "      <td>P</td>\n",
       "      <td>8</td>\n",
       "      <td>Nuclear</td>\n",
       "    </tr>\n",
       "    <tr>\n",
       "      <th>2</th>\n",
       "      <td>1</td>\n",
       "      <td>3</td>\n",
       "      <td>female</td>\n",
       "      <td>26.0</td>\n",
       "      <td>7.9250</td>\n",
       "      <td>S</td>\n",
       "      <td>n</td>\n",
       "      <td>Miss</td>\n",
       "      <td>22</td>\n",
       "      <td>S</td>\n",
       "      <td>16</td>\n",
       "      <td>Solo</td>\n",
       "    </tr>\n",
       "    <tr>\n",
       "      <th>3</th>\n",
       "      <td>1</td>\n",
       "      <td>1</td>\n",
       "      <td>female</td>\n",
       "      <td>35.0</td>\n",
       "      <td>53.1000</td>\n",
       "      <td>S</td>\n",
       "      <td>C</td>\n",
       "      <td>Mrs</td>\n",
       "      <td>44</td>\n",
       "      <td>1</td>\n",
       "      <td>6</td>\n",
       "      <td>Nuclear</td>\n",
       "    </tr>\n",
       "    <tr>\n",
       "      <th>4</th>\n",
       "      <td>0</td>\n",
       "      <td>3</td>\n",
       "      <td>male</td>\n",
       "      <td>35.0</td>\n",
       "      <td>8.0500</td>\n",
       "      <td>S</td>\n",
       "      <td>n</td>\n",
       "      <td>Mr</td>\n",
       "      <td>24</td>\n",
       "      <td>3</td>\n",
       "      <td>6</td>\n",
       "      <td>Solo</td>\n",
       "    </tr>\n",
       "  </tbody>\n",
       "</table>\n",
       "</div>"
      ],
      "text/plain": [
       "   Survived  Pclass     Sex   Age     Fare Embarked Cabin_Letter Title  \\\n",
       "0         0       3    male  22.0   7.2500        S            n    Mr   \n",
       "1         1       1  female  38.0  71.2833        C            C   Mrs   \n",
       "2         1       3  female  26.0   7.9250        S            n  Miss   \n",
       "3         1       1  female  35.0  53.1000        S            C   Mrs   \n",
       "4         0       3    male  35.0   8.0500        S            n    Mr   \n",
       "\n",
       "   Name_Len Ticket_Lett  Ticket_Len Family_Size  \n",
       "0        23           A           9     Nuclear  \n",
       "1        51           P           8     Nuclear  \n",
       "2        22           S          16        Solo  \n",
       "3        44           1           6     Nuclear  \n",
       "4        24           3           6        Solo  "
      ]
     },
     "execution_count": 53,
     "metadata": {},
     "output_type": "execute_result"
    }
   ],
   "source": [
    "train.head()"
   ]
  },
  {
   "cell_type": "markdown",
   "id": "requested-biotechnology",
   "metadata": {
    "papermill": {
     "duration": 0.12921,
     "end_time": "2022-01-19T03:57:07.383013",
     "exception": false,
     "start_time": "2022-01-19T03:57:07.253803",
     "status": "completed"
    },
    "tags": []
   },
   "source": [
    "##### **Categorical Feature Encoding**"
   ]
  },
  {
   "cell_type": "code",
   "execution_count": 54,
   "id": "naked-possession",
   "metadata": {
    "execution": {
     "iopub.execute_input": "2022-01-19T03:57:07.642958Z",
     "iopub.status.busy": "2022-01-19T03:57:07.642424Z",
     "iopub.status.idle": "2022-01-19T03:57:07.645060Z",
     "shell.execute_reply": "2022-01-19T03:57:07.644499Z",
     "shell.execute_reply.started": "2022-01-19T03:06:02.322988Z"
    },
    "papermill": {
     "duration": 0.134373,
     "end_time": "2022-01-19T03:57:07.645220",
     "exception": false,
     "start_time": "2022-01-19T03:57:07.510847",
     "status": "completed"
    },
    "tags": []
   },
   "outputs": [],
   "source": [
    "cat_features_list = ['Pclass','Sex','Embarked', 'Ticket_Lett', 'Cabin_Letter','Title', 'Family_Size']"
   ]
  },
  {
   "cell_type": "code",
   "execution_count": 55,
   "id": "expected-radius",
   "metadata": {
    "execution": {
     "iopub.execute_input": "2022-01-19T03:57:07.896644Z",
     "iopub.status.busy": "2022-01-19T03:57:07.895988Z",
     "iopub.status.idle": "2022-01-19T03:57:07.903077Z",
     "shell.execute_reply": "2022-01-19T03:57:07.903652Z",
     "shell.execute_reply.started": "2022-01-19T03:06:02.579536Z"
    },
    "papermill": {
     "duration": 0.134364,
     "end_time": "2022-01-19T03:57:07.903814",
     "exception": false,
     "start_time": "2022-01-19T03:57:07.769450",
     "status": "completed"
    },
    "tags": []
   },
   "outputs": [],
   "source": [
    "def dummies(train, test, columns = cat_features_list):\n",
    "    for column in columns:\n",
    "        train[column] = train[column].apply(lambda x: str(x))\n",
    "        test[column] = test[column].apply(lambda x: str(x))\n",
    "        good_cols = [column+'_'+i for i in train[column].unique() if i in test[column].unique()]\n",
    "        train = pd.concat((train, pd.get_dummies(train[column], prefix = column)[good_cols]), axis = 1)\n",
    "        test = pd.concat((test, pd.get_dummies(test[column], prefix = column)[good_cols]), axis = 1)\n",
    "        del train[column]\n",
    "        del test[column]\n",
    "    return train, test"
   ]
  },
  {
   "cell_type": "code",
   "execution_count": 56,
   "id": "charged-dairy",
   "metadata": {
    "execution": {
     "iopub.execute_input": "2022-01-19T03:57:08.162263Z",
     "iopub.status.busy": "2022-01-19T03:57:08.161619Z",
     "iopub.status.idle": "2022-01-19T03:57:08.163611Z",
     "shell.execute_reply": "2022-01-19T03:57:08.164146Z",
     "shell.execute_reply.started": "2022-01-19T03:06:02.835132Z"
    },
    "papermill": {
     "duration": 0.133244,
     "end_time": "2022-01-19T03:57:08.164314",
     "exception": false,
     "start_time": "2022-01-19T03:57:08.031070",
     "status": "completed"
    },
    "tags": []
   },
   "outputs": [],
   "source": [
    "#train, test = dummies(train, test_data, cat_features_list)"
   ]
  },
  {
   "cell_type": "code",
   "execution_count": 57,
   "id": "central-andorra",
   "metadata": {
    "execution": {
     "iopub.execute_input": "2022-01-19T03:57:08.419450Z",
     "iopub.status.busy": "2022-01-19T03:57:08.418772Z",
     "iopub.status.idle": "2022-01-19T03:57:08.435235Z",
     "shell.execute_reply": "2022-01-19T03:57:08.435812Z",
     "shell.execute_reply.started": "2022-01-19T03:06:03.122292Z"
    },
    "papermill": {
     "duration": 0.147021,
     "end_time": "2022-01-19T03:57:08.435988",
     "exception": false,
     "start_time": "2022-01-19T03:57:08.288967",
     "status": "completed"
    },
    "tags": []
   },
   "outputs": [
    {
     "data": {
      "text/html": [
       "<div>\n",
       "<style scoped>\n",
       "    .dataframe tbody tr th:only-of-type {\n",
       "        vertical-align: middle;\n",
       "    }\n",
       "\n",
       "    .dataframe tbody tr th {\n",
       "        vertical-align: top;\n",
       "    }\n",
       "\n",
       "    .dataframe thead th {\n",
       "        text-align: right;\n",
       "    }\n",
       "</style>\n",
       "<table border=\"1\" class=\"dataframe\">\n",
       "  <thead>\n",
       "    <tr style=\"text-align: right;\">\n",
       "      <th></th>\n",
       "      <th>Survived</th>\n",
       "      <th>Pclass</th>\n",
       "      <th>Sex</th>\n",
       "      <th>Age</th>\n",
       "      <th>Fare</th>\n",
       "      <th>Embarked</th>\n",
       "      <th>Cabin_Letter</th>\n",
       "      <th>Title</th>\n",
       "      <th>Name_Len</th>\n",
       "      <th>Ticket_Lett</th>\n",
       "      <th>Ticket_Len</th>\n",
       "      <th>Family_Size</th>\n",
       "    </tr>\n",
       "  </thead>\n",
       "  <tbody>\n",
       "    <tr>\n",
       "      <th>0</th>\n",
       "      <td>0</td>\n",
       "      <td>3</td>\n",
       "      <td>male</td>\n",
       "      <td>22.0</td>\n",
       "      <td>7.2500</td>\n",
       "      <td>S</td>\n",
       "      <td>n</td>\n",
       "      <td>Mr</td>\n",
       "      <td>23</td>\n",
       "      <td>A</td>\n",
       "      <td>9</td>\n",
       "      <td>Nuclear</td>\n",
       "    </tr>\n",
       "    <tr>\n",
       "      <th>1</th>\n",
       "      <td>1</td>\n",
       "      <td>1</td>\n",
       "      <td>female</td>\n",
       "      <td>38.0</td>\n",
       "      <td>71.2833</td>\n",
       "      <td>C</td>\n",
       "      <td>C</td>\n",
       "      <td>Mrs</td>\n",
       "      <td>51</td>\n",
       "      <td>P</td>\n",
       "      <td>8</td>\n",
       "      <td>Nuclear</td>\n",
       "    </tr>\n",
       "    <tr>\n",
       "      <th>2</th>\n",
       "      <td>1</td>\n",
       "      <td>3</td>\n",
       "      <td>female</td>\n",
       "      <td>26.0</td>\n",
       "      <td>7.9250</td>\n",
       "      <td>S</td>\n",
       "      <td>n</td>\n",
       "      <td>Miss</td>\n",
       "      <td>22</td>\n",
       "      <td>S</td>\n",
       "      <td>16</td>\n",
       "      <td>Solo</td>\n",
       "    </tr>\n",
       "    <tr>\n",
       "      <th>3</th>\n",
       "      <td>1</td>\n",
       "      <td>1</td>\n",
       "      <td>female</td>\n",
       "      <td>35.0</td>\n",
       "      <td>53.1000</td>\n",
       "      <td>S</td>\n",
       "      <td>C</td>\n",
       "      <td>Mrs</td>\n",
       "      <td>44</td>\n",
       "      <td>1</td>\n",
       "      <td>6</td>\n",
       "      <td>Nuclear</td>\n",
       "    </tr>\n",
       "    <tr>\n",
       "      <th>4</th>\n",
       "      <td>0</td>\n",
       "      <td>3</td>\n",
       "      <td>male</td>\n",
       "      <td>35.0</td>\n",
       "      <td>8.0500</td>\n",
       "      <td>S</td>\n",
       "      <td>n</td>\n",
       "      <td>Mr</td>\n",
       "      <td>24</td>\n",
       "      <td>3</td>\n",
       "      <td>6</td>\n",
       "      <td>Solo</td>\n",
       "    </tr>\n",
       "  </tbody>\n",
       "</table>\n",
       "</div>"
      ],
      "text/plain": [
       "   Survived  Pclass     Sex   Age     Fare Embarked Cabin_Letter Title  \\\n",
       "0         0       3    male  22.0   7.2500        S            n    Mr   \n",
       "1         1       1  female  38.0  71.2833        C            C   Mrs   \n",
       "2         1       3  female  26.0   7.9250        S            n  Miss   \n",
       "3         1       1  female  35.0  53.1000        S            C   Mrs   \n",
       "4         0       3    male  35.0   8.0500        S            n    Mr   \n",
       "\n",
       "   Name_Len Ticket_Lett  Ticket_Len Family_Size  \n",
       "0        23           A           9     Nuclear  \n",
       "1        51           P           8     Nuclear  \n",
       "2        22           S          16        Solo  \n",
       "3        44           1           6     Nuclear  \n",
       "4        24           3           6        Solo  "
      ]
     },
     "execution_count": 57,
     "metadata": {},
     "output_type": "execute_result"
    }
   ],
   "source": [
    "train.head()"
   ]
  },
  {
   "cell_type": "code",
   "execution_count": 58,
   "id": "working-bennett",
   "metadata": {
    "execution": {
     "iopub.execute_input": "2022-01-19T03:57:08.697195Z",
     "iopub.status.busy": "2022-01-19T03:57:08.696556Z",
     "iopub.status.idle": "2022-01-19T03:57:08.699412Z",
     "shell.execute_reply": "2022-01-19T03:57:08.699966Z",
     "shell.execute_reply.started": "2022-01-19T03:06:03.362937Z"
    },
    "papermill": {
     "duration": 0.137483,
     "end_time": "2022-01-19T03:57:08.700139",
     "exception": false,
     "start_time": "2022-01-19T03:57:08.562656",
     "status": "completed"
    },
    "tags": []
   },
   "outputs": [],
   "source": [
    "#train[cat_features_list] = OrdinalEncoder().fit_transform(train[cat_features_list])\n",
    "#test[cat_features_list] = OrdinalEncoder().fit_transform(test[cat_features_list])"
   ]
  },
  {
   "cell_type": "markdown",
   "id": "future-wonder",
   "metadata": {
    "papermill": {
     "duration": 0.125675,
     "end_time": "2022-01-19T03:57:08.952465",
     "exception": false,
     "start_time": "2022-01-19T03:57:08.826790",
     "status": "completed"
    },
    "tags": []
   },
   "source": [
    "##### **Mean Encoding**"
   ]
  },
  {
   "cell_type": "code",
   "execution_count": 59,
   "id": "structural-middle",
   "metadata": {
    "execution": {
     "iopub.execute_input": "2022-01-19T03:57:09.210044Z",
     "iopub.status.busy": "2022-01-19T03:57:09.209378Z",
     "iopub.status.idle": "2022-01-19T03:57:09.288737Z",
     "shell.execute_reply": "2022-01-19T03:57:09.289282Z",
     "shell.execute_reply.started": "2022-01-19T03:06:03.939865Z"
    },
    "papermill": {
     "duration": 0.208804,
     "end_time": "2022-01-19T03:57:09.289457",
     "exception": false,
     "start_time": "2022-01-19T03:57:09.080653",
     "status": "completed"
    },
    "tags": []
   },
   "outputs": [],
   "source": [
    "from sklearn.model_selection import StratifiedKFold\n",
    "from itertools import product\n",
    "\n",
    "class MeanEncoder:\n",
    "    \n",
    "    def __init__(self, categorical_features, n_splits=5, target_type='classification', prior_weight_func=None):\n",
    "        \"\"\"\n",
    "        categorical_features: list of str, the name of the categorical columns to encode\n",
    "        n_splits: the number of splits used in mean encoding\n",
    "        target_type: str, 'regression' or 'classification'\n",
    "        prior_weight_func: a function that takes in the number of observations, and outputs prior weight\n",
    "        when a dict is passed, the default exponential decay function will be used:\n",
    "        k: the number of observations needed for the posterior to be weighted equally as the prior\n",
    "        f: larger f --> smaller slope        \n",
    "        \"\"\"\n",
    "        self.categorical_features = categorical_features\n",
    "        self.n_splits = n_splits\n",
    "        self.learned_stats = {}\n",
    "        \n",
    "        if target_type == 'classification':\n",
    "            self.target_type = target_type\n",
    "            self.target_values = []\n",
    "        else:\n",
    "            self.target_type = 'regression'\n",
    "            self.target_values = None\n",
    "            \n",
    "        if isinstance(prior_weight_func, dict):\n",
    "            self.prior_weight_func = eval('lambda x: 1 / (1 + np.exp((x - k) / f))', dict(prior_weight_func, np=np))\n",
    "        elif callable(prior_weight_func):\n",
    "            self.prior_weight_func = prior_weight_func\n",
    "        else:\n",
    "            self.prior_weight_func = lambda x: 1 / (1 + np.exp((x - 2) / 1))\n",
    "            \n",
    "    \n",
    "    @staticmethod\n",
    "    def mean_encode_subroutine(X_train, y_train, X_test, variable, target, prior_weight_func):\n",
    "        X_train = X_train[[variable]].copy()\n",
    "        X_test = X_test[[variable]].copy()\n",
    "        \n",
    "        if target is not None:\n",
    "            nf_name = '{}_pred_{}'.format(variable, target)\n",
    "            X_train['pred_temp'] = (y_train == target).astype(int)  # classification\n",
    "        else:\n",
    "            nf_name = '{}_pred'.format(variable)\n",
    "            X_train['pred_temp'] = y_train  # regression\n",
    "        prior = X_train['pred_temp'].mean()\n",
    "        \n",
    "        col_avg_y = X_train.groupby(by=variable, axis=0)['pred_temp'].agg([('mean', 'mean'), ('beta', 'size')])\n",
    "        col_avg_y['beta'] = prior_weight_func(col_avg_y['beta'])\n",
    "        col_avg_y[nf_name] = col_avg_y['beta'] * prior + (1 - col_avg_y['beta']) * col_avg_y['mean']\n",
    "        col_avg_y.drop(['beta', 'mean'], axis=1, inplace=True)\n",
    "        \n",
    "        nf_train = X_train.join(col_avg_y, on=variable)[nf_name].values\n",
    "        nf_test = X_test.join(col_avg_y, on=variable).fillna(prior, inplace=False)[nf_name].values\n",
    "\n",
    "        return nf_train, nf_test, prior, col_avg_y\n",
    "    \n",
    "    def fit_transform(self, X, y):\n",
    "        \"\"\"\n",
    "        :X: pandas DataFrame, n_samples * n_features\n",
    "        :y: pandas Series or numpy array, n_samples\n",
    "        :X_new: the transformed pandas DataFrame containing mean-encoded categorical features\n",
    "        \"\"\"\n",
    "        X_new = X.copy()\n",
    "        if self.target_type == 'classification':\n",
    "            skf = StratifiedKFold(self.n_splits)\n",
    "        else:\n",
    "            skf = KFold(self.n_splits)\n",
    "        \n",
    "        if self.target_type == 'classification':\n",
    "            self.target_values = sorted(set(y))\n",
    "            self.learned_stats = {'{}_pred_{}'.format(variable, target): [] for variable, target in\n",
    "                                  product(self.categorical_features, self.target_values)}\n",
    "            for variable, target in product(self.categorical_features, self.target_values):\n",
    "                nf_name = '{}_pred_{}'.format(variable, target)\n",
    "                X_new.loc[:, nf_name] = np.nan\n",
    "                for large_ind, small_ind in skf.split(y, y):\n",
    "                    nf_large, nf_small, prior, col_avg_y = MeanEncoder.mean_encode_subroutine(\n",
    "                        X_new.iloc[large_ind], y[large_ind], X_new.iloc[small_ind], variable, target, self.prior_weight_func)\n",
    "                    X_new.iloc[small_ind, -1] = nf_small\n",
    "                    self.learned_stats[nf_name].append((prior, col_avg_y))\n",
    "        else:\n",
    "            self.learned_stats = {'{}_pred'.format(variable): [] for variable in self.categorical_features}\n",
    "            for variable in self.categorical_features:\n",
    "                nf_name = '{}_pred'.format(variable)\n",
    "                X_new.loc[:, nf_name] = np.nan\n",
    "                for large_ind, small_ind in skf.split(y, y):\n",
    "                    nf_large, nf_small, prior, col_avg_y = MeanEncoder.mean_encode_subroutine(\n",
    "                        X_new.iloc[large_ind], y[large_ind], X_new.iloc[small_ind], variable, None, self.prior_weight_func)\n",
    "                    X_new.iloc[small_ind, -1] = nf_small\n",
    "                    self.learned_stats[nf_name].append((prior, col_avg_y))\n",
    "        return X_new\n",
    "            \n",
    "    \n",
    "    def transform(self, X):\n",
    "        \"\"\"\n",
    "        :X: pandas DataFrame, n_samples * n_features\n",
    "        :X_new: the transformed pandas DataFrame containing mean-encoded categorical features\n",
    "        \"\"\"\n",
    "        X_new = X.copy()\n",
    "        \n",
    "        if self.target_type == 'classification':\n",
    "            for variable, target in product(self.categorical_features, self.target_values):\n",
    "                nf_name = '{}_pred_{}'.format(variable, target)\n",
    "                X_new[nf_name] = 0\n",
    "                for prior, col_avg_y in self.learned_stats[nf_name]:\n",
    "                    X_new[nf_name] += X_new[[variable]].join(col_avg_y, on=variable).fillna(prior, inplace=False)[nf_name]\n",
    "                X_new[nf_name] /= self.n_splits\n",
    "        else:\n",
    "            for variable in self.categorical_features:\n",
    "                nf_name = '{}_pred'.format(variable)\n",
    "                X_new[nf_name] = 0\n",
    "                for prior, col_avg_y in self.learned_stats[nf_name]:\n",
    "                    X_new[nf_name] += X_new[[variable]].join(col_avg_y, on=variable).fillna(prior, inplace=False)[\n",
    "                        nf_name]\n",
    "                X_new[nf_name] /= self.n_splits\n",
    "\n",
    "        return X_new\n",
    "            "
   ]
  },
  {
   "cell_type": "code",
   "execution_count": 60,
   "id": "damaged-edwards",
   "metadata": {
    "execution": {
     "iopub.execute_input": "2022-01-19T03:57:09.542333Z",
     "iopub.status.busy": "2022-01-19T03:57:09.541774Z",
     "iopub.status.idle": "2022-01-19T03:57:09.545672Z",
     "shell.execute_reply": "2022-01-19T03:57:09.546209Z",
     "shell.execute_reply.started": "2022-01-19T03:06:04.186710Z"
    },
    "papermill": {
     "duration": 0.131194,
     "end_time": "2022-01-19T03:57:09.546351",
     "exception": false,
     "start_time": "2022-01-19T03:57:09.415157",
     "status": "completed"
    },
    "tags": []
   },
   "outputs": [],
   "source": [
    "enc=MeanEncoder(['Pclass', 'Sex', 'Embarked', 'Ticket_Lett','Cabin_Letter','Title', 'Family_Size'])"
   ]
  },
  {
   "cell_type": "code",
   "execution_count": 61,
   "id": "characteristic-cabin",
   "metadata": {
    "execution": {
     "iopub.execute_input": "2022-01-19T03:57:09.802503Z",
     "iopub.status.busy": "2022-01-19T03:57:09.801838Z",
     "iopub.status.idle": "2022-01-19T03:57:10.652553Z",
     "shell.execute_reply": "2022-01-19T03:57:10.652032Z",
     "shell.execute_reply.started": "2022-01-19T03:06:04.714889Z"
    },
    "papermill": {
     "duration": 0.980905,
     "end_time": "2022-01-19T03:57:10.652725",
     "exception": false,
     "start_time": "2022-01-19T03:57:09.671820",
     "status": "completed"
    },
    "tags": []
   },
   "outputs": [
    {
     "data": {
      "text/html": [
       "<div>\n",
       "<style scoped>\n",
       "    .dataframe tbody tr th:only-of-type {\n",
       "        vertical-align: middle;\n",
       "    }\n",
       "\n",
       "    .dataframe tbody tr th {\n",
       "        vertical-align: top;\n",
       "    }\n",
       "\n",
       "    .dataframe thead th {\n",
       "        text-align: right;\n",
       "    }\n",
       "</style>\n",
       "<table border=\"1\" class=\"dataframe\">\n",
       "  <thead>\n",
       "    <tr style=\"text-align: right;\">\n",
       "      <th></th>\n",
       "      <th>Pclass</th>\n",
       "      <th>Sex</th>\n",
       "      <th>Age</th>\n",
       "      <th>Fare</th>\n",
       "      <th>Embarked</th>\n",
       "      <th>Cabin_Letter</th>\n",
       "      <th>Title</th>\n",
       "      <th>Name_Len</th>\n",
       "      <th>Ticket_Lett</th>\n",
       "      <th>Ticket_Len</th>\n",
       "      <th>...</th>\n",
       "      <th>Embarked_pred_0</th>\n",
       "      <th>Embarked_pred_1</th>\n",
       "      <th>Ticket_Lett_pred_0</th>\n",
       "      <th>Ticket_Lett_pred_1</th>\n",
       "      <th>Cabin_Letter_pred_0</th>\n",
       "      <th>Cabin_Letter_pred_1</th>\n",
       "      <th>Title_pred_0</th>\n",
       "      <th>Title_pred_1</th>\n",
       "      <th>Family_Size_pred_0</th>\n",
       "      <th>Family_Size_pred_1</th>\n",
       "    </tr>\n",
       "  </thead>\n",
       "  <tbody>\n",
       "    <tr>\n",
       "      <th>0</th>\n",
       "      <td>3</td>\n",
       "      <td>male</td>\n",
       "      <td>22.000000</td>\n",
       "      <td>7.2500</td>\n",
       "      <td>S</td>\n",
       "      <td>n</td>\n",
       "      <td>Mr</td>\n",
       "      <td>23</td>\n",
       "      <td>A</td>\n",
       "      <td>9</td>\n",
       "      <td>...</td>\n",
       "      <td>0.663443</td>\n",
       "      <td>0.336557</td>\n",
       "      <td>0.904762</td>\n",
       "      <td>0.095238</td>\n",
       "      <td>0.707721</td>\n",
       "      <td>0.292279</td>\n",
       "      <td>0.834515</td>\n",
       "      <td>0.165485</td>\n",
       "      <td>0.392070</td>\n",
       "      <td>0.607930</td>\n",
       "    </tr>\n",
       "    <tr>\n",
       "      <th>1</th>\n",
       "      <td>1</td>\n",
       "      <td>female</td>\n",
       "      <td>38.000000</td>\n",
       "      <td>71.2833</td>\n",
       "      <td>C</td>\n",
       "      <td>C</td>\n",
       "      <td>Mrs</td>\n",
       "      <td>51</td>\n",
       "      <td>P</td>\n",
       "      <td>8</td>\n",
       "      <td>...</td>\n",
       "      <td>0.410448</td>\n",
       "      <td>0.589552</td>\n",
       "      <td>0.313725</td>\n",
       "      <td>0.686275</td>\n",
       "      <td>0.408163</td>\n",
       "      <td>0.591837</td>\n",
       "      <td>0.193878</td>\n",
       "      <td>0.806122</td>\n",
       "      <td>0.392070</td>\n",
       "      <td>0.607930</td>\n",
       "    </tr>\n",
       "    <tr>\n",
       "      <th>2</th>\n",
       "      <td>3</td>\n",
       "      <td>female</td>\n",
       "      <td>26.000000</td>\n",
       "      <td>7.9250</td>\n",
       "      <td>S</td>\n",
       "      <td>n</td>\n",
       "      <td>Miss</td>\n",
       "      <td>22</td>\n",
       "      <td>S</td>\n",
       "      <td>16</td>\n",
       "      <td>...</td>\n",
       "      <td>0.663443</td>\n",
       "      <td>0.336557</td>\n",
       "      <td>0.666667</td>\n",
       "      <td>0.333333</td>\n",
       "      <td>0.707721</td>\n",
       "      <td>0.292279</td>\n",
       "      <td>0.310345</td>\n",
       "      <td>0.689655</td>\n",
       "      <td>0.709751</td>\n",
       "      <td>0.290249</td>\n",
       "    </tr>\n",
       "    <tr>\n",
       "      <th>3</th>\n",
       "      <td>1</td>\n",
       "      <td>female</td>\n",
       "      <td>35.000000</td>\n",
       "      <td>53.1000</td>\n",
       "      <td>S</td>\n",
       "      <td>C</td>\n",
       "      <td>Mrs</td>\n",
       "      <td>44</td>\n",
       "      <td>1</td>\n",
       "      <td>6</td>\n",
       "      <td>...</td>\n",
       "      <td>0.663443</td>\n",
       "      <td>0.336557</td>\n",
       "      <td>0.360000</td>\n",
       "      <td>0.640000</td>\n",
       "      <td>0.408163</td>\n",
       "      <td>0.591837</td>\n",
       "      <td>0.193878</td>\n",
       "      <td>0.806122</td>\n",
       "      <td>0.392070</td>\n",
       "      <td>0.607930</td>\n",
       "    </tr>\n",
       "    <tr>\n",
       "      <th>4</th>\n",
       "      <td>3</td>\n",
       "      <td>male</td>\n",
       "      <td>35.000000</td>\n",
       "      <td>8.0500</td>\n",
       "      <td>S</td>\n",
       "      <td>n</td>\n",
       "      <td>Mr</td>\n",
       "      <td>24</td>\n",
       "      <td>3</td>\n",
       "      <td>6</td>\n",
       "      <td>...</td>\n",
       "      <td>0.663443</td>\n",
       "      <td>0.336557</td>\n",
       "      <td>0.788793</td>\n",
       "      <td>0.211207</td>\n",
       "      <td>0.707721</td>\n",
       "      <td>0.292279</td>\n",
       "      <td>0.834515</td>\n",
       "      <td>0.165485</td>\n",
       "      <td>0.709751</td>\n",
       "      <td>0.290249</td>\n",
       "    </tr>\n",
       "    <tr>\n",
       "      <th>...</th>\n",
       "      <td>...</td>\n",
       "      <td>...</td>\n",
       "      <td>...</td>\n",
       "      <td>...</td>\n",
       "      <td>...</td>\n",
       "      <td>...</td>\n",
       "      <td>...</td>\n",
       "      <td>...</td>\n",
       "      <td>...</td>\n",
       "      <td>...</td>\n",
       "      <td>...</td>\n",
       "      <td>...</td>\n",
       "      <td>...</td>\n",
       "      <td>...</td>\n",
       "      <td>...</td>\n",
       "      <td>...</td>\n",
       "      <td>...</td>\n",
       "      <td>...</td>\n",
       "      <td>...</td>\n",
       "      <td>...</td>\n",
       "      <td>...</td>\n",
       "    </tr>\n",
       "    <tr>\n",
       "      <th>886</th>\n",
       "      <td>2</td>\n",
       "      <td>male</td>\n",
       "      <td>27.000000</td>\n",
       "      <td>13.0000</td>\n",
       "      <td>S</td>\n",
       "      <td>n</td>\n",
       "      <td>Rare</td>\n",
       "      <td>21</td>\n",
       "      <td>2</td>\n",
       "      <td>6</td>\n",
       "      <td>...</td>\n",
       "      <td>0.664062</td>\n",
       "      <td>0.335938</td>\n",
       "      <td>0.528571</td>\n",
       "      <td>0.471429</td>\n",
       "      <td>0.693841</td>\n",
       "      <td>0.306159</td>\n",
       "      <td>0.666667</td>\n",
       "      <td>0.333333</td>\n",
       "      <td>0.690307</td>\n",
       "      <td>0.309693</td>\n",
       "    </tr>\n",
       "    <tr>\n",
       "      <th>887</th>\n",
       "      <td>1</td>\n",
       "      <td>female</td>\n",
       "      <td>19.000000</td>\n",
       "      <td>30.0000</td>\n",
       "      <td>S</td>\n",
       "      <td>B</td>\n",
       "      <td>Miss</td>\n",
       "      <td>28</td>\n",
       "      <td>1</td>\n",
       "      <td>6</td>\n",
       "      <td>...</td>\n",
       "      <td>0.664062</td>\n",
       "      <td>0.335938</td>\n",
       "      <td>0.389381</td>\n",
       "      <td>0.610619</td>\n",
       "      <td>0.250000</td>\n",
       "      <td>0.750000</td>\n",
       "      <td>0.288462</td>\n",
       "      <td>0.711538</td>\n",
       "      <td>0.690307</td>\n",
       "      <td>0.309693</td>\n",
       "    </tr>\n",
       "    <tr>\n",
       "      <th>888</th>\n",
       "      <td>3</td>\n",
       "      <td>female</td>\n",
       "      <td>16.123188</td>\n",
       "      <td>23.4500</td>\n",
       "      <td>S</td>\n",
       "      <td>n</td>\n",
       "      <td>Miss</td>\n",
       "      <td>40</td>\n",
       "      <td>W</td>\n",
       "      <td>10</td>\n",
       "      <td>...</td>\n",
       "      <td>0.664062</td>\n",
       "      <td>0.335938</td>\n",
       "      <td>0.777631</td>\n",
       "      <td>0.222369</td>\n",
       "      <td>0.693841</td>\n",
       "      <td>0.306159</td>\n",
       "      <td>0.288462</td>\n",
       "      <td>0.711538</td>\n",
       "      <td>0.441667</td>\n",
       "      <td>0.558333</td>\n",
       "    </tr>\n",
       "    <tr>\n",
       "      <th>889</th>\n",
       "      <td>1</td>\n",
       "      <td>male</td>\n",
       "      <td>26.000000</td>\n",
       "      <td>30.0000</td>\n",
       "      <td>C</td>\n",
       "      <td>C</td>\n",
       "      <td>Mr</td>\n",
       "      <td>21</td>\n",
       "      <td>1</td>\n",
       "      <td>6</td>\n",
       "      <td>...</td>\n",
       "      <td>0.463235</td>\n",
       "      <td>0.536765</td>\n",
       "      <td>0.389381</td>\n",
       "      <td>0.610619</td>\n",
       "      <td>0.450980</td>\n",
       "      <td>0.549020</td>\n",
       "      <td>0.837709</td>\n",
       "      <td>0.162291</td>\n",
       "      <td>0.690307</td>\n",
       "      <td>0.309693</td>\n",
       "    </tr>\n",
       "    <tr>\n",
       "      <th>890</th>\n",
       "      <td>3</td>\n",
       "      <td>male</td>\n",
       "      <td>32.000000</td>\n",
       "      <td>7.7500</td>\n",
       "      <td>Q</td>\n",
       "      <td>n</td>\n",
       "      <td>Mr</td>\n",
       "      <td>19</td>\n",
       "      <td>3</td>\n",
       "      <td>6</td>\n",
       "      <td>...</td>\n",
       "      <td>0.569231</td>\n",
       "      <td>0.430769</td>\n",
       "      <td>0.759336</td>\n",
       "      <td>0.240664</td>\n",
       "      <td>0.693841</td>\n",
       "      <td>0.306159</td>\n",
       "      <td>0.837709</td>\n",
       "      <td>0.162291</td>\n",
       "      <td>0.690307</td>\n",
       "      <td>0.309693</td>\n",
       "    </tr>\n",
       "  </tbody>\n",
       "</table>\n",
       "<p>891 rows × 25 columns</p>\n",
       "</div>"
      ],
      "text/plain": [
       "     Pclass     Sex        Age     Fare Embarked Cabin_Letter Title  Name_Len  \\\n",
       "0         3    male  22.000000   7.2500        S            n    Mr        23   \n",
       "1         1  female  38.000000  71.2833        C            C   Mrs        51   \n",
       "2         3  female  26.000000   7.9250        S            n  Miss        22   \n",
       "3         1  female  35.000000  53.1000        S            C   Mrs        44   \n",
       "4         3    male  35.000000   8.0500        S            n    Mr        24   \n",
       "..      ...     ...        ...      ...      ...          ...   ...       ...   \n",
       "886       2    male  27.000000  13.0000        S            n  Rare        21   \n",
       "887       1  female  19.000000  30.0000        S            B  Miss        28   \n",
       "888       3  female  16.123188  23.4500        S            n  Miss        40   \n",
       "889       1    male  26.000000  30.0000        C            C    Mr        21   \n",
       "890       3    male  32.000000   7.7500        Q            n    Mr        19   \n",
       "\n",
       "    Ticket_Lett  Ticket_Len  ... Embarked_pred_0  Embarked_pred_1  \\\n",
       "0             A           9  ...        0.663443         0.336557   \n",
       "1             P           8  ...        0.410448         0.589552   \n",
       "2             S          16  ...        0.663443         0.336557   \n",
       "3             1           6  ...        0.663443         0.336557   \n",
       "4             3           6  ...        0.663443         0.336557   \n",
       "..          ...         ...  ...             ...              ...   \n",
       "886           2           6  ...        0.664062         0.335938   \n",
       "887           1           6  ...        0.664062         0.335938   \n",
       "888           W          10  ...        0.664062         0.335938   \n",
       "889           1           6  ...        0.463235         0.536765   \n",
       "890           3           6  ...        0.569231         0.430769   \n",
       "\n",
       "     Ticket_Lett_pred_0  Ticket_Lett_pred_1  Cabin_Letter_pred_0  \\\n",
       "0              0.904762            0.095238             0.707721   \n",
       "1              0.313725            0.686275             0.408163   \n",
       "2              0.666667            0.333333             0.707721   \n",
       "3              0.360000            0.640000             0.408163   \n",
       "4              0.788793            0.211207             0.707721   \n",
       "..                  ...                 ...                  ...   \n",
       "886            0.528571            0.471429             0.693841   \n",
       "887            0.389381            0.610619             0.250000   \n",
       "888            0.777631            0.222369             0.693841   \n",
       "889            0.389381            0.610619             0.450980   \n",
       "890            0.759336            0.240664             0.693841   \n",
       "\n",
       "     Cabin_Letter_pred_1  Title_pred_0  Title_pred_1  Family_Size_pred_0  \\\n",
       "0               0.292279      0.834515      0.165485            0.392070   \n",
       "1               0.591837      0.193878      0.806122            0.392070   \n",
       "2               0.292279      0.310345      0.689655            0.709751   \n",
       "3               0.591837      0.193878      0.806122            0.392070   \n",
       "4               0.292279      0.834515      0.165485            0.709751   \n",
       "..                   ...           ...           ...                 ...   \n",
       "886             0.306159      0.666667      0.333333            0.690307   \n",
       "887             0.750000      0.288462      0.711538            0.690307   \n",
       "888             0.306159      0.288462      0.711538            0.441667   \n",
       "889             0.549020      0.837709      0.162291            0.690307   \n",
       "890             0.306159      0.837709      0.162291            0.690307   \n",
       "\n",
       "     Family_Size_pred_1  \n",
       "0              0.607930  \n",
       "1              0.607930  \n",
       "2              0.290249  \n",
       "3              0.607930  \n",
       "4              0.290249  \n",
       "..                  ...  \n",
       "886            0.309693  \n",
       "887            0.309693  \n",
       "888            0.558333  \n",
       "889            0.309693  \n",
       "890            0.309693  \n",
       "\n",
       "[891 rows x 25 columns]"
      ]
     },
     "execution_count": 61,
     "metadata": {},
     "output_type": "execute_result"
    }
   ],
   "source": [
    "temp=enc.fit_transform(train.iloc[:,1:],train.iloc[:,0])\n",
    "temp"
   ]
  },
  {
   "cell_type": "code",
   "execution_count": 62,
   "id": "subjective-google",
   "metadata": {
    "execution": {
     "iopub.execute_input": "2022-01-19T03:57:10.918881Z",
     "iopub.status.busy": "2022-01-19T03:57:10.917953Z",
     "iopub.status.idle": "2022-01-19T03:57:10.921832Z",
     "shell.execute_reply": "2022-01-19T03:57:10.921384Z",
     "shell.execute_reply.started": "2022-01-19T03:06:05.712773Z"
    },
    "papermill": {
     "duration": 0.138775,
     "end_time": "2022-01-19T03:57:10.921955",
     "exception": false,
     "start_time": "2022-01-19T03:57:10.783180",
     "status": "completed"
    },
    "tags": []
   },
   "outputs": [
    {
     "data": {
      "text/plain": [
       "Index(['Pclass', 'Sex', 'Age', 'Fare', 'Embarked', 'Cabin_Letter', 'Title',\n",
       "       'Name_Len', 'Ticket_Lett', 'Ticket_Len', 'Family_Size', 'Pclass_pred_0',\n",
       "       'Pclass_pred_1', 'Sex_pred_0', 'Sex_pred_1', 'Embarked_pred_0',\n",
       "       'Embarked_pred_1', 'Ticket_Lett_pred_0', 'Ticket_Lett_pred_1',\n",
       "       'Cabin_Letter_pred_0', 'Cabin_Letter_pred_1', 'Title_pred_0',\n",
       "       'Title_pred_1', 'Family_Size_pred_0', 'Family_Size_pred_1'],\n",
       "      dtype='object')"
      ]
     },
     "execution_count": 62,
     "metadata": {},
     "output_type": "execute_result"
    }
   ],
   "source": [
    "temp.columns"
   ]
  },
  {
   "cell_type": "code",
   "execution_count": 63,
   "id": "unlike-denver",
   "metadata": {
    "execution": {
     "iopub.execute_input": "2022-01-19T03:57:11.187522Z",
     "iopub.status.busy": "2022-01-19T03:57:11.186712Z",
     "iopub.status.idle": "2022-01-19T03:57:11.189504Z",
     "shell.execute_reply": "2022-01-19T03:57:11.189041Z",
     "shell.execute_reply.started": "2022-01-19T03:06:07.019031Z"
    },
    "papermill": {
     "duration": 0.136689,
     "end_time": "2022-01-19T03:57:11.189627",
     "exception": false,
     "start_time": "2022-01-19T03:57:11.052938",
     "status": "completed"
    },
    "tags": []
   },
   "outputs": [],
   "source": [
    "columns=['Age', 'Fare', 'Name_Len','Ticket_Len','Pclass_pred_1','Sex_pred_1','Embarked_pred_1',\n",
    "         'Ticket_Lett_pred_1','Cabin_Letter_pred_1','Title_pred_1','Family_Size_pred_1']"
   ]
  },
  {
   "cell_type": "code",
   "execution_count": 64,
   "id": "international-publisher",
   "metadata": {
    "execution": {
     "iopub.execute_input": "2022-01-19T03:57:11.452913Z",
     "iopub.status.busy": "2022-01-19T03:57:11.452255Z",
     "iopub.status.idle": "2022-01-19T03:57:11.637078Z",
     "shell.execute_reply": "2022-01-19T03:57:11.636478Z",
     "shell.execute_reply.started": "2022-01-19T03:06:08.259229Z"
    },
    "papermill": {
     "duration": 0.318052,
     "end_time": "2022-01-19T03:57:11.637266",
     "exception": false,
     "start_time": "2022-01-19T03:57:11.319214",
     "status": "completed"
    },
    "tags": []
   },
   "outputs": [],
   "source": [
    "train_encoded=temp[columns]\n",
    "test_encoded=enc.transform(test_data)[columns]"
   ]
  },
  {
   "cell_type": "markdown",
   "id": "alpine-ready",
   "metadata": {
    "papermill": {
     "duration": 0.128048,
     "end_time": "2022-01-19T03:57:11.892947",
     "exception": false,
     "start_time": "2022-01-19T03:57:11.764899",
     "status": "completed"
    },
    "tags": []
   },
   "source": [
    "##### **Standardizing Age and Fare**"
   ]
  },
  {
   "cell_type": "code",
   "execution_count": 65,
   "id": "unlimited-launch",
   "metadata": {
    "execution": {
     "iopub.execute_input": "2022-01-19T03:57:12.156161Z",
     "iopub.status.busy": "2022-01-19T03:57:12.155251Z",
     "iopub.status.idle": "2022-01-19T03:57:12.159399Z",
     "shell.execute_reply": "2022-01-19T03:57:12.159979Z",
     "shell.execute_reply.started": "2022-01-19T03:06:13.506706Z"
    },
    "papermill": {
     "duration": 0.136269,
     "end_time": "2022-01-19T03:57:12.160172",
     "exception": false,
     "start_time": "2022-01-19T03:57:12.023903",
     "status": "completed"
    },
    "tags": []
   },
   "outputs": [],
   "source": [
    "num_features_list = ['Age', 'Fare', 'Name_Len', 'Ticket_Len']"
   ]
  },
  {
   "cell_type": "code",
   "execution_count": 66,
   "id": "organic-diamond",
   "metadata": {
    "execution": {
     "iopub.execute_input": "2022-01-19T03:57:12.420002Z",
     "iopub.status.busy": "2022-01-19T03:57:12.419016Z",
     "iopub.status.idle": "2022-01-19T03:57:12.442323Z",
     "shell.execute_reply": "2022-01-19T03:57:12.441735Z",
     "shell.execute_reply.started": "2022-01-19T03:06:29.005691Z"
    },
    "papermill": {
     "duration": 0.153929,
     "end_time": "2022-01-19T03:57:12.442468",
     "exception": false,
     "start_time": "2022-01-19T03:57:12.288539",
     "status": "completed"
    },
    "tags": []
   },
   "outputs": [
    {
     "name": "stderr",
     "output_type": "stream",
     "text": [
      "/opt/conda/lib/python3.7/site-packages/ipykernel_launcher.py:3: SettingWithCopyWarning:\n",
      "\n",
      "\n",
      "A value is trying to be set on a copy of a slice from a DataFrame.\n",
      "Try using .loc[row_indexer,col_indexer] = value instead\n",
      "\n",
      "See the caveats in the documentation: https://pandas.pydata.org/pandas-docs/stable/user_guide/indexing.html#returning-a-view-versus-a-copy\n",
      "\n",
      "/opt/conda/lib/python3.7/site-packages/pandas/core/indexing.py:1738: SettingWithCopyWarning:\n",
      "\n",
      "\n",
      "A value is trying to be set on a copy of a slice from a DataFrame.\n",
      "Try using .loc[row_indexer,col_indexer] = value instead\n",
      "\n",
      "See the caveats in the documentation: https://pandas.pydata.org/pandas-docs/stable/user_guide/indexing.html#returning-a-view-versus-a-copy\n",
      "\n"
     ]
    }
   ],
   "source": [
    "scaler = StandardScaler()\n",
    "scaler.fit(train[num_features_list])\n",
    "train_encoded[num_features_list] = scaler.transform(train[num_features_list])\n",
    "scaler.fit(test_data[num_features_list])\n",
    "test_encoded[num_features_list] = scaler.transform(test_data[num_features_list])"
   ]
  },
  {
   "cell_type": "code",
   "execution_count": 67,
   "id": "contrary-billy",
   "metadata": {
    "execution": {
     "iopub.execute_input": "2022-01-19T03:57:12.697272Z",
     "iopub.status.busy": "2022-01-19T03:57:12.696384Z",
     "iopub.status.idle": "2022-01-19T03:57:12.712890Z",
     "shell.execute_reply": "2022-01-19T03:57:12.713448Z",
     "shell.execute_reply.started": "2022-01-19T03:06:39.411907Z"
    },
    "papermill": {
     "duration": 0.147714,
     "end_time": "2022-01-19T03:57:12.713620",
     "exception": false,
     "start_time": "2022-01-19T03:57:12.565906",
     "status": "completed"
    },
    "tags": []
   },
   "outputs": [
    {
     "data": {
      "text/html": [
       "<div>\n",
       "<style scoped>\n",
       "    .dataframe tbody tr th:only-of-type {\n",
       "        vertical-align: middle;\n",
       "    }\n",
       "\n",
       "    .dataframe tbody tr th {\n",
       "        vertical-align: top;\n",
       "    }\n",
       "\n",
       "    .dataframe thead th {\n",
       "        text-align: right;\n",
       "    }\n",
       "</style>\n",
       "<table border=\"1\" class=\"dataframe\">\n",
       "  <thead>\n",
       "    <tr style=\"text-align: right;\">\n",
       "      <th></th>\n",
       "      <th>Age</th>\n",
       "      <th>Fare</th>\n",
       "      <th>Name_Len</th>\n",
       "      <th>Ticket_Len</th>\n",
       "      <th>Pclass_pred_1</th>\n",
       "      <th>Sex_pred_1</th>\n",
       "      <th>Embarked_pred_1</th>\n",
       "      <th>Ticket_Lett_pred_1</th>\n",
       "      <th>Cabin_Letter_pred_1</th>\n",
       "      <th>Title_pred_1</th>\n",
       "      <th>Family_Size_pred_1</th>\n",
       "    </tr>\n",
       "  </thead>\n",
       "  <tbody>\n",
       "    <tr>\n",
       "      <th>0</th>\n",
       "      <td>-0.548516</td>\n",
       "      <td>-0.502445</td>\n",
       "      <td>-0.427451</td>\n",
       "      <td>0.819672</td>\n",
       "      <td>0.221053</td>\n",
       "      <td>0.195279</td>\n",
       "      <td>0.336557</td>\n",
       "      <td>0.095238</td>\n",
       "      <td>0.292279</td>\n",
       "      <td>0.165485</td>\n",
       "      <td>0.607930</td>\n",
       "    </tr>\n",
       "    <tr>\n",
       "      <th>1</th>\n",
       "      <td>0.633190</td>\n",
       "      <td>0.786845</td>\n",
       "      <td>2.590962</td>\n",
       "      <td>0.455237</td>\n",
       "      <td>0.659341</td>\n",
       "      <td>0.739837</td>\n",
       "      <td>0.589552</td>\n",
       "      <td>0.686275</td>\n",
       "      <td>0.591837</td>\n",
       "      <td>0.806122</td>\n",
       "      <td>0.607930</td>\n",
       "    </tr>\n",
       "    <tr>\n",
       "      <th>2</th>\n",
       "      <td>-0.253090</td>\n",
       "      <td>-0.488854</td>\n",
       "      <td>-0.535252</td>\n",
       "      <td>3.370717</td>\n",
       "      <td>0.221053</td>\n",
       "      <td>0.739837</td>\n",
       "      <td>0.336557</td>\n",
       "      <td>0.333333</td>\n",
       "      <td>0.292279</td>\n",
       "      <td>0.689655</td>\n",
       "      <td>0.290249</td>\n",
       "    </tr>\n",
       "    <tr>\n",
       "      <th>3</th>\n",
       "      <td>0.411620</td>\n",
       "      <td>0.420730</td>\n",
       "      <td>1.836359</td>\n",
       "      <td>-0.273633</td>\n",
       "      <td>0.659341</td>\n",
       "      <td>0.739837</td>\n",
       "      <td>0.336557</td>\n",
       "      <td>0.640000</td>\n",
       "      <td>0.591837</td>\n",
       "      <td>0.806122</td>\n",
       "      <td>0.607930</td>\n",
       "    </tr>\n",
       "    <tr>\n",
       "      <th>4</th>\n",
       "      <td>0.411620</td>\n",
       "      <td>-0.486337</td>\n",
       "      <td>-0.319651</td>\n",
       "      <td>-0.273633</td>\n",
       "      <td>0.221053</td>\n",
       "      <td>0.195279</td>\n",
       "      <td>0.336557</td>\n",
       "      <td>0.211207</td>\n",
       "      <td>0.292279</td>\n",
       "      <td>0.165485</td>\n",
       "      <td>0.290249</td>\n",
       "    </tr>\n",
       "  </tbody>\n",
       "</table>\n",
       "</div>"
      ],
      "text/plain": [
       "        Age      Fare  Name_Len  Ticket_Len  Pclass_pred_1  Sex_pred_1  \\\n",
       "0 -0.548516 -0.502445 -0.427451    0.819672       0.221053    0.195279   \n",
       "1  0.633190  0.786845  2.590962    0.455237       0.659341    0.739837   \n",
       "2 -0.253090 -0.488854 -0.535252    3.370717       0.221053    0.739837   \n",
       "3  0.411620  0.420730  1.836359   -0.273633       0.659341    0.739837   \n",
       "4  0.411620 -0.486337 -0.319651   -0.273633       0.221053    0.195279   \n",
       "\n",
       "   Embarked_pred_1  Ticket_Lett_pred_1  Cabin_Letter_pred_1  Title_pred_1  \\\n",
       "0         0.336557            0.095238             0.292279      0.165485   \n",
       "1         0.589552            0.686275             0.591837      0.806122   \n",
       "2         0.336557            0.333333             0.292279      0.689655   \n",
       "3         0.336557            0.640000             0.591837      0.806122   \n",
       "4         0.336557            0.211207             0.292279      0.165485   \n",
       "\n",
       "   Family_Size_pred_1  \n",
       "0            0.607930  \n",
       "1            0.607930  \n",
       "2            0.290249  \n",
       "3            0.607930  \n",
       "4            0.290249  "
      ]
     },
     "execution_count": 67,
     "metadata": {},
     "output_type": "execute_result"
    }
   ],
   "source": [
    "train_encoded.head()"
   ]
  },
  {
   "cell_type": "code",
   "execution_count": 68,
   "id": "treated-links",
   "metadata": {
    "execution": {
     "iopub.execute_input": "2022-01-19T03:57:12.973559Z",
     "iopub.status.busy": "2022-01-19T03:57:12.972584Z",
     "iopub.status.idle": "2022-01-19T03:57:12.989492Z",
     "shell.execute_reply": "2022-01-19T03:57:12.990033Z",
     "shell.execute_reply.started": "2022-01-19T03:06:48.454237Z"
    },
    "papermill": {
     "duration": 0.147999,
     "end_time": "2022-01-19T03:57:12.990218",
     "exception": false,
     "start_time": "2022-01-19T03:57:12.842219",
     "status": "completed"
    },
    "tags": []
   },
   "outputs": [
    {
     "data": {
      "text/html": [
       "<div>\n",
       "<style scoped>\n",
       "    .dataframe tbody tr th:only-of-type {\n",
       "        vertical-align: middle;\n",
       "    }\n",
       "\n",
       "    .dataframe tbody tr th {\n",
       "        vertical-align: top;\n",
       "    }\n",
       "\n",
       "    .dataframe thead th {\n",
       "        text-align: right;\n",
       "    }\n",
       "</style>\n",
       "<table border=\"1\" class=\"dataframe\">\n",
       "  <thead>\n",
       "    <tr style=\"text-align: right;\">\n",
       "      <th></th>\n",
       "      <th>Age</th>\n",
       "      <th>Fare</th>\n",
       "      <th>Name_Len</th>\n",
       "      <th>Ticket_Len</th>\n",
       "      <th>Pclass_pred_1</th>\n",
       "      <th>Sex_pred_1</th>\n",
       "      <th>Embarked_pred_1</th>\n",
       "      <th>Ticket_Lett_pred_1</th>\n",
       "      <th>Cabin_Letter_pred_1</th>\n",
       "      <th>Title_pred_1</th>\n",
       "      <th>Family_Size_pred_1</th>\n",
       "    </tr>\n",
       "  </thead>\n",
       "  <tbody>\n",
       "    <tr>\n",
       "      <th>0</th>\n",
       "      <td>0.364008</td>\n",
       "      <td>-0.498258</td>\n",
       "      <td>-1.153019</td>\n",
       "      <td>-0.310710</td>\n",
       "      <td>0.242241</td>\n",
       "      <td>0.188858</td>\n",
       "      <td>0.388752</td>\n",
       "      <td>0.239062</td>\n",
       "      <td>0.299838</td>\n",
       "      <td>0.158176</td>\n",
       "      <td>0.303623</td>\n",
       "    </tr>\n",
       "    <tr>\n",
       "      <th>1</th>\n",
       "      <td>1.308328</td>\n",
       "      <td>-0.513125</td>\n",
       "      <td>0.453521</td>\n",
       "      <td>-0.310710</td>\n",
       "      <td>0.242241</td>\n",
       "      <td>0.741997</td>\n",
       "      <td>0.338998</td>\n",
       "      <td>0.239062</td>\n",
       "      <td>0.299838</td>\n",
       "      <td>0.793371</td>\n",
       "      <td>0.578983</td>\n",
       "    </tr>\n",
       "    <tr>\n",
       "      <th>2</th>\n",
       "      <td>2.441511</td>\n",
       "      <td>-0.464940</td>\n",
       "      <td>-0.249340</td>\n",
       "      <td>-0.310710</td>\n",
       "      <td>0.473218</td>\n",
       "      <td>0.188858</td>\n",
       "      <td>0.388752</td>\n",
       "      <td>0.464763</td>\n",
       "      <td>0.299838</td>\n",
       "      <td>0.158176</td>\n",
       "      <td>0.303623</td>\n",
       "    </tr>\n",
       "    <tr>\n",
       "      <th>3</th>\n",
       "      <td>-0.202583</td>\n",
       "      <td>-0.483317</td>\n",
       "      <td>-1.153019</td>\n",
       "      <td>-0.310710</td>\n",
       "      <td>0.242241</td>\n",
       "      <td>0.188858</td>\n",
       "      <td>0.338998</td>\n",
       "      <td>0.239062</td>\n",
       "      <td>0.299838</td>\n",
       "      <td>0.158176</td>\n",
       "      <td>0.303623</td>\n",
       "    </tr>\n",
       "    <tr>\n",
       "      <th>4</th>\n",
       "      <td>-0.580311</td>\n",
       "      <td>-0.418323</td>\n",
       "      <td>1.658426</td>\n",
       "      <td>0.044145</td>\n",
       "      <td>0.242241</td>\n",
       "      <td>0.741997</td>\n",
       "      <td>0.338998</td>\n",
       "      <td>0.239062</td>\n",
       "      <td>0.299838</td>\n",
       "      <td>0.793371</td>\n",
       "      <td>0.578983</td>\n",
       "    </tr>\n",
       "  </tbody>\n",
       "</table>\n",
       "</div>"
      ],
      "text/plain": [
       "        Age      Fare  Name_Len  Ticket_Len  Pclass_pred_1  Sex_pred_1  \\\n",
       "0  0.364008 -0.498258 -1.153019   -0.310710       0.242241    0.188858   \n",
       "1  1.308328 -0.513125  0.453521   -0.310710       0.242241    0.741997   \n",
       "2  2.441511 -0.464940 -0.249340   -0.310710       0.473218    0.188858   \n",
       "3 -0.202583 -0.483317 -1.153019   -0.310710       0.242241    0.188858   \n",
       "4 -0.580311 -0.418323  1.658426    0.044145       0.242241    0.741997   \n",
       "\n",
       "   Embarked_pred_1  Ticket_Lett_pred_1  Cabin_Letter_pred_1  Title_pred_1  \\\n",
       "0         0.388752            0.239062             0.299838      0.158176   \n",
       "1         0.338998            0.239062             0.299838      0.793371   \n",
       "2         0.388752            0.464763             0.299838      0.158176   \n",
       "3         0.338998            0.239062             0.299838      0.158176   \n",
       "4         0.338998            0.239062             0.299838      0.793371   \n",
       "\n",
       "   Family_Size_pred_1  \n",
       "0            0.303623  \n",
       "1            0.578983  \n",
       "2            0.303623  \n",
       "3            0.303623  \n",
       "4            0.578983  "
      ]
     },
     "execution_count": 68,
     "metadata": {},
     "output_type": "execute_result"
    }
   ],
   "source": [
    "test_encoded.head()"
   ]
  },
  {
   "cell_type": "markdown",
   "id": "equipped-plant",
   "metadata": {
    "papermill": {
     "duration": 0.129011,
     "end_time": "2022-01-19T03:57:13.249820",
     "exception": false,
     "start_time": "2022-01-19T03:57:13.120809",
     "status": "completed"
    },
    "tags": []
   },
   "source": [
    "##### Declare feature and Target variable"
   ]
  },
  {
   "cell_type": "code",
   "execution_count": 69,
   "id": "complete-tribune",
   "metadata": {
    "execution": {
     "iopub.execute_input": "2022-01-19T03:57:13.513075Z",
     "iopub.status.busy": "2022-01-19T03:57:13.512459Z",
     "iopub.status.idle": "2022-01-19T03:57:13.514685Z",
     "shell.execute_reply": "2022-01-19T03:57:13.515140Z",
     "shell.execute_reply.started": "2022-01-19T03:07:37.136631Z"
    },
    "papermill": {
     "duration": 0.135836,
     "end_time": "2022-01-19T03:57:13.515322",
     "exception": false,
     "start_time": "2022-01-19T03:57:13.379486",
     "status": "completed"
    },
    "tags": []
   },
   "outputs": [],
   "source": [
    "X = train_encoded\n",
    "y = train_data[\"Survived\"]"
   ]
  },
  {
   "cell_type": "markdown",
   "id": "auburn-drilling",
   "metadata": {
    "papermill": {
     "duration": 0.152078,
     "end_time": "2022-01-19T03:57:13.809559",
     "exception": false,
     "start_time": "2022-01-19T03:57:13.657481",
     "status": "completed"
    },
    "tags": []
   },
   "source": [
    "##### Split data into Train and Validation set"
   ]
  },
  {
   "cell_type": "code",
   "execution_count": 70,
   "id": "traditional-ordinary",
   "metadata": {
    "execution": {
     "iopub.execute_input": "2022-01-19T03:57:14.079895Z",
     "iopub.status.busy": "2022-01-19T03:57:14.079193Z",
     "iopub.status.idle": "2022-01-19T03:57:14.082713Z",
     "shell.execute_reply": "2022-01-19T03:57:14.083447Z",
     "shell.execute_reply.started": "2022-01-19T03:07:51.544473Z"
    },
    "papermill": {
     "duration": 0.142609,
     "end_time": "2022-01-19T03:57:14.083649",
     "exception": false,
     "start_time": "2022-01-19T03:57:13.941040",
     "status": "completed"
    },
    "tags": []
   },
   "outputs": [],
   "source": [
    "from sklearn.model_selection import train_test_split\n",
    "X_train, X_val, y_train, y_val = train_test_split(X, y, test_size=0.2, random_state=0)"
   ]
  },
  {
   "cell_type": "markdown",
   "id": "helpful-median",
   "metadata": {
    "papermill": {
     "duration": 0.128696,
     "end_time": "2022-01-19T03:57:14.344753",
     "exception": false,
     "start_time": "2022-01-19T03:57:14.216057",
     "status": "completed"
    },
    "tags": []
   },
   "source": [
    "#### **Modelling**\n",
    "\n",
    "### **1. CatBoost with Randomized search**\n",
    "\n",
    "CatBoost is an open source algorithm based on gradient boosted decision trees. It supports numerical, categorical and text features."
   ]
  },
  {
   "cell_type": "code",
   "execution_count": 71,
   "id": "meaningful-greek",
   "metadata": {
    "execution": {
     "iopub.execute_input": "2022-01-19T03:57:14.606325Z",
     "iopub.status.busy": "2022-01-19T03:57:14.605358Z",
     "iopub.status.idle": "2022-01-19T03:57:14.726420Z",
     "shell.execute_reply": "2022-01-19T03:57:14.725845Z",
     "shell.execute_reply.started": "2022-01-19T03:07:53.739869Z"
    },
    "papermill": {
     "duration": 0.251593,
     "end_time": "2022-01-19T03:57:14.726563",
     "exception": false,
     "start_time": "2022-01-19T03:57:14.474970",
     "status": "completed"
    },
    "tags": []
   },
   "outputs": [],
   "source": [
    "from catboost import CatBoostClassifier\n",
    "CBC = CatBoostClassifier(silent = True)"
   ]
  },
  {
   "cell_type": "code",
   "execution_count": 72,
   "id": "stupid-asset",
   "metadata": {
    "execution": {
     "iopub.execute_input": "2022-01-19T03:57:14.993729Z",
     "iopub.status.busy": "2022-01-19T03:57:14.992755Z",
     "iopub.status.idle": "2022-01-19T03:57:14.998379Z",
     "shell.execute_reply": "2022-01-19T03:57:14.998825Z",
     "shell.execute_reply.started": "2022-01-19T03:07:57.035666Z"
    },
    "papermill": {
     "duration": 0.140474,
     "end_time": "2022-01-19T03:57:14.999024",
     "exception": false,
     "start_time": "2022-01-19T03:57:14.858550",
     "status": "completed"
    },
    "tags": []
   },
   "outputs": [],
   "source": [
    "parameters = {'n_estimators': range (50, 1000, 50),\n",
    "             'max_depth': range (1, 15),\n",
    "             'learning_rate': [x / 1000.0 for x in range(1, 11, 1)],\n",
    "             'auto_class_weights': ['None','Balanced'] }"
   ]
  },
  {
   "cell_type": "code",
   "execution_count": 73,
   "id": "wired-biotechnology",
   "metadata": {
    "execution": {
     "iopub.execute_input": "2022-01-19T03:57:15.261518Z",
     "iopub.status.busy": "2022-01-19T03:57:15.260913Z",
     "iopub.status.idle": "2022-01-19T04:03:56.039064Z",
     "shell.execute_reply": "2022-01-19T04:03:56.039610Z",
     "shell.execute_reply.started": "2022-01-19T03:08:01.431934Z"
    },
    "papermill": {
     "duration": 400.910314,
     "end_time": "2022-01-19T04:03:56.039792",
     "exception": false,
     "start_time": "2022-01-19T03:57:15.129478",
     "status": "completed"
    },
    "tags": []
   },
   "outputs": [
    {
     "name": "stdout",
     "output_type": "stream",
     "text": [
      "Fitting 5 folds for each of 10 candidates, totalling 50 fits\n"
     ]
    },
    {
     "data": {
      "text/plain": [
       "RandomizedSearchCV(cv=5,\n",
       "                   estimator=<catboost.core.CatBoostClassifier object at 0x7fbb865a1990>,\n",
       "                   param_distributions={'auto_class_weights': ['None',\n",
       "                                                               'Balanced'],\n",
       "                                        'learning_rate': [0.001, 0.002, 0.003,\n",
       "                                                          0.004, 0.005, 0.006,\n",
       "                                                          0.007, 0.008, 0.009,\n",
       "                                                          0.01],\n",
       "                                        'max_depth': range(1, 15),\n",
       "                                        'n_estimators': range(50, 1000, 50)},\n",
       "                   random_state=1, scoring='roc_auc', verbose=1)"
      ]
     },
     "execution_count": 73,
     "metadata": {},
     "output_type": "execute_result"
    }
   ],
   "source": [
    "from sklearn.model_selection import RandomizedSearchCV, RepeatedStratifiedKFold\n",
    "#cv = RepeatedStratifiedKFold(n_splits=10, n_repeats=3, random_state=1)\n",
    "rs = RandomizedSearchCV(CBC, parameters, scoring='roc_auc', cv=5, verbose=1, random_state=1)\n",
    "rs.fit(X,y)"
   ]
  },
  {
   "cell_type": "code",
   "execution_count": 74,
   "id": "alternate-terry",
   "metadata": {
    "execution": {
     "iopub.execute_input": "2022-01-19T04:03:56.302227Z",
     "iopub.status.busy": "2022-01-19T04:03:56.301541Z",
     "iopub.status.idle": "2022-01-19T04:03:56.304910Z",
     "shell.execute_reply": "2022-01-19T04:03:56.305886Z",
     "shell.execute_reply.started": "2022-01-19T03:15:00.939576Z"
    },
    "papermill": {
     "duration": 0.137125,
     "end_time": "2022-01-19T04:03:56.306122",
     "exception": false,
     "start_time": "2022-01-19T04:03:56.168997",
     "status": "completed"
    },
    "tags": []
   },
   "outputs": [
    {
     "name": "stdout",
     "output_type": "stream",
     "text": [
      "Best Score: 0.8792404973738417\n",
      "Best Hyperparameters: {'n_estimators': 650, 'max_depth': 6, 'learning_rate': 0.004, 'auto_class_weights': 'None'}\n"
     ]
    }
   ],
   "source": [
    "print('Best Score: %s' % rs.best_score_)\n",
    "print('Best Hyperparameters: %s' % rs.best_params_)"
   ]
  },
  {
   "cell_type": "code",
   "execution_count": 75,
   "id": "powered-surrey",
   "metadata": {
    "execution": {
     "iopub.execute_input": "2022-01-19T04:03:56.575527Z",
     "iopub.status.busy": "2022-01-19T04:03:56.574446Z",
     "iopub.status.idle": "2022-01-19T04:03:56.591518Z",
     "shell.execute_reply": "2022-01-19T04:03:56.590349Z",
     "shell.execute_reply.started": "2022-01-19T03:15:00.948513Z"
    },
    "papermill": {
     "duration": 0.155586,
     "end_time": "2022-01-19T04:03:56.591647",
     "exception": false,
     "start_time": "2022-01-19T04:03:56.436061",
     "status": "completed"
    },
    "tags": []
   },
   "outputs": [
    {
     "name": "stdout",
     "output_type": "stream",
     "text": [
      "ROC AUC: 0.9392196337839134\n",
      "Accuracy: 0.9392196337839134\n",
      "Recall: 0.804093567251462\n",
      "Precision: 0.8842443729903537\n"
     ]
    }
   ],
   "source": [
    "from sklearn.metrics import roc_curve, auc, recall_score, precision_score\n",
    "fpr, tpr, threshold = roc_curve(y, rs.predict_proba(X)[:, 1])\n",
    "auc_score = auc(fpr, tpr)\n",
    "predict = rs.predict(X)\n",
    "accuracy = rs.score(X, y)\n",
    "recall = recall_score(y, predict)\n",
    "precision = precision_score(y, predict)\n",
    "print(f'ROC AUC: {auc_score}')\n",
    "print(f'Accuracy: {accuracy}')\n",
    "print(f'Recall: {recall}')\n",
    "print(f'Precision: {precision}')\n",
    "#def model_quality(model,features,target):\n",
    "#    probs = model.predict_proba(features)\n",
    "#    probs = probs[:, 1]\n",
    "#    fpr, tpr, treshold = roc_curve(target, probs)\n",
    "#    auc_score = auc(fpr, tpr)\n",
    "#    predict = model.predict(features)\n",
    "#    accuracy = model.score(features,target)\n",
    "#    recall = recall_score(target,predict)\n",
    "#    precision = precision_score(target,predict)\n",
    "    \n",
    "#    print(f'ROC AUC: {auc_score}')\n",
    "#    print(f'Accuracy: {accuracy}')\n",
    "#    print(f'Recall: {recall}')\n",
    "#    print(f'Precision: {precision}')\n",
    "    \n",
    "#    plt.plot(fpr, tpr, color='darkorange',\n",
    "#         label='ROC curve (area = %0.2f)' % auc_score)\n",
    "#    plt.plot([0, 1], [0, 1], color='navy', linestyle='--')\n",
    "#    plt.xlim([0.0, 1.0])\n",
    "#    plt.ylim([0.0, 1.05])\n",
    "#    plt.xlabel('False Positive Rate')\n",
    "#    plt.ylabel('True Positive Rate')\n",
    "#    plt.title('ROC curve\\n',fontsize=15)\n",
    "#    plt.legend(loc=\"lower right\")\n",
    "#    plt.show()\n",
    "    \n",
    "#    cf_matrix = confusion_matrix(target, predict)\n",
    "#    text = np.asarray([['TN', 'FP'], ['FN', 'TP']])\n",
    "#    labels = (np.asarray([\"{0}\\n{1:}\".format(text,cf_matrix) \n",
    "#                          for text, cf_matrix in zip(text.flatten(), cf_matrix.flatten())])).reshape(2,2) \n",
    "#    ax = sns.heatmap(cf_matrix, annot=labels, cmap='Blues', fmt=\"\")\n",
    "#    ax.set_title('Сonfusion matrix\\n',fontsize=15);\n",
    "#    ax.set_xlabel('Predicted Values')\n",
    "#    ax.set_ylabel('Actual Values ');\n",
    "#    ax.xaxis.set_ticklabels(['False','True'])\n",
    "#    ax.yaxis.set_ticklabels(['False','True'])\n",
    "#    plt.show()"
   ]
  },
  {
   "cell_type": "code",
   "execution_count": 76,
   "id": "crucial-lunch",
   "metadata": {
    "execution": {
     "iopub.execute_input": "2022-01-19T04:03:56.854294Z",
     "iopub.status.busy": "2022-01-19T04:03:56.853320Z",
     "iopub.status.idle": "2022-01-19T04:03:56.856037Z",
     "shell.execute_reply": "2022-01-19T04:03:56.855585Z",
     "shell.execute_reply.started": "2022-01-19T03:15:00.977856Z"
    },
    "papermill": {
     "duration": 0.136885,
     "end_time": "2022-01-19T04:03:56.856200",
     "exception": false,
     "start_time": "2022-01-19T04:03:56.719315",
     "status": "completed"
    },
    "tags": []
   },
   "outputs": [],
   "source": [
    "def plot_feature_importances(model,features_train):\n",
    "    feature_names = list(features_train)\n",
    "    importances = model.feature_importances_\n",
    "    model_importances = pd.Series(importances, index=feature_names)\n",
    "    model_importances = model_importances.sort_values(ascending=False).head(10)\n",
    "    model_importances.plot.bar(figsize=(10,5))\n",
    "    plt.xlabel('Features', fontsize=15)\n",
    "    plt.ylabel('Importances',fontsize=15)\n",
    "    plt.title(f'Top-10 {model}', fontsize=15)\n",
    "    plt.grid()\n",
    "    plt.show()"
   ]
  },
  {
   "cell_type": "code",
   "execution_count": 77,
   "id": "whole-education",
   "metadata": {
    "execution": {
     "iopub.execute_input": "2022-01-19T04:03:57.121914Z",
     "iopub.status.busy": "2022-01-19T04:03:57.121299Z",
     "iopub.status.idle": "2022-01-19T04:03:57.329807Z",
     "shell.execute_reply": "2022-01-19T04:03:57.329229Z",
     "shell.execute_reply.started": "2022-01-19T03:15:00.987504Z"
    },
    "papermill": {
     "duration": 0.343493,
     "end_time": "2022-01-19T04:03:57.329939",
     "exception": false,
     "start_time": "2022-01-19T04:03:56.986446",
     "status": "completed"
    },
    "tags": []
   },
   "outputs": [
    {
     "data": {
      "image/png": "[encoded data removed]",
      "text/plain": [
       "<Figure size 720x360 with 1 Axes>"
      ]
     },
     "metadata": {
      "needs_background": "light"
     },
     "output_type": "display_data"
    }
   ],
   "source": [
    "plot_feature_importances(rs.best_estimator_, X)"
   ]
  },
  {
   "cell_type": "code",
   "execution_count": 78,
   "id": "previous-attraction",
   "metadata": {
    "execution": {
     "iopub.execute_input": "2022-01-19T04:03:57.592898Z",
     "iopub.status.busy": "2022-01-19T04:03:57.592331Z",
     "iopub.status.idle": "2022-01-19T04:03:57.604183Z",
     "shell.execute_reply": "2022-01-19T04:03:57.603092Z",
     "shell.execute_reply.started": "2022-01-19T03:15:01.238560Z"
    },
    "papermill": {
     "duration": 0.146137,
     "end_time": "2022-01-19T04:03:57.604323",
     "exception": false,
     "start_time": "2022-01-19T04:03:57.458186",
     "status": "completed"
    },
    "tags": []
   },
   "outputs": [
    {
     "data": {
      "text/html": [
       "<div>\n",
       "<style scoped>\n",
       "    .dataframe tbody tr th:only-of-type {\n",
       "        vertical-align: middle;\n",
       "    }\n",
       "\n",
       "    .dataframe tbody tr th {\n",
       "        vertical-align: top;\n",
       "    }\n",
       "\n",
       "    .dataframe thead th {\n",
       "        text-align: right;\n",
       "    }\n",
       "</style>\n",
       "<table border=\"1\" class=\"dataframe\">\n",
       "  <thead>\n",
       "    <tr style=\"text-align: right;\">\n",
       "      <th></th>\n",
       "      <th>PassengerId</th>\n",
       "      <th>Survived</th>\n",
       "    </tr>\n",
       "  </thead>\n",
       "  <tbody>\n",
       "    <tr>\n",
       "      <th>0</th>\n",
       "      <td>892</td>\n",
       "      <td>0</td>\n",
       "    </tr>\n",
       "    <tr>\n",
       "      <th>1</th>\n",
       "      <td>893</td>\n",
       "      <td>0</td>\n",
       "    </tr>\n",
       "    <tr>\n",
       "      <th>2</th>\n",
       "      <td>894</td>\n",
       "      <td>0</td>\n",
       "    </tr>\n",
       "    <tr>\n",
       "      <th>3</th>\n",
       "      <td>895</td>\n",
       "      <td>0</td>\n",
       "    </tr>\n",
       "    <tr>\n",
       "      <th>4</th>\n",
       "      <td>896</td>\n",
       "      <td>1</td>\n",
       "    </tr>\n",
       "    <tr>\n",
       "      <th>...</th>\n",
       "      <td>...</td>\n",
       "      <td>...</td>\n",
       "    </tr>\n",
       "    <tr>\n",
       "      <th>413</th>\n",
       "      <td>1305</td>\n",
       "      <td>0</td>\n",
       "    </tr>\n",
       "    <tr>\n",
       "      <th>414</th>\n",
       "      <td>1306</td>\n",
       "      <td>1</td>\n",
       "    </tr>\n",
       "    <tr>\n",
       "      <th>415</th>\n",
       "      <td>1307</td>\n",
       "      <td>0</td>\n",
       "    </tr>\n",
       "    <tr>\n",
       "      <th>416</th>\n",
       "      <td>1308</td>\n",
       "      <td>0</td>\n",
       "    </tr>\n",
       "    <tr>\n",
       "      <th>417</th>\n",
       "      <td>1309</td>\n",
       "      <td>1</td>\n",
       "    </tr>\n",
       "  </tbody>\n",
       "</table>\n",
       "<p>418 rows × 2 columns</p>\n",
       "</div>"
      ],
      "text/plain": [
       "     PassengerId  Survived\n",
       "0            892         0\n",
       "1            893         0\n",
       "2            894         0\n",
       "3            895         0\n",
       "4            896         1\n",
       "..           ...       ...\n",
       "413         1305         0\n",
       "414         1306         1\n",
       "415         1307         0\n",
       "416         1308         0\n",
       "417         1309         1\n",
       "\n",
       "[418 rows x 2 columns]"
      ]
     },
     "execution_count": 78,
     "metadata": {},
     "output_type": "execute_result"
    }
   ],
   "source": [
    "model = rs.best_estimator_\n",
    "predictions_array = model.predict(test_encoded)\n",
    "submission = pd.DataFrame({'PassengerId': test_data.PassengerId, 'Survived': predictions_array})\n",
    "submission"
   ]
  },
  {
   "cell_type": "markdown",
   "id": "foreign-button",
   "metadata": {
    "papermill": {
     "duration": 0.131719,
     "end_time": "2022-01-19T04:03:57.867261",
     "exception": false,
     "start_time": "2022-01-19T04:03:57.735542",
     "status": "completed"
    },
    "tags": []
   },
   "source": [
    "### **2. RandomForest with Bayesian Optimization**"
   ]
  },
  {
   "cell_type": "code",
   "execution_count": 79,
   "id": "sublime-question",
   "metadata": {
    "execution": {
     "iopub.execute_input": "2022-01-19T04:03:58.142560Z",
     "iopub.status.busy": "2022-01-19T04:03:58.141820Z",
     "iopub.status.idle": "2022-01-19T04:03:58.337580Z",
     "shell.execute_reply": "2022-01-19T04:03:58.337023Z",
     "shell.execute_reply.started": "2022-01-19T03:44:44.811689Z"
    },
    "papermill": {
     "duration": 0.336377,
     "end_time": "2022-01-19T04:03:58.337740",
     "exception": false,
     "start_time": "2022-01-19T04:03:58.001363",
     "status": "completed"
    },
    "tags": []
   },
   "outputs": [],
   "source": [
    "from sklearn.model_selection import cross_val_score\n",
    "from sklearn.ensemble import RandomForestClassifier\n",
    "def rf_cv(n_estimators, min_samples_split, max_features, max_depth):\n",
    "    val = cross_val_score(\n",
    "        RandomForestClassifier(n_estimators=int(n_estimators),\n",
    "            min_samples_split=int(min_samples_split),\n",
    "            max_features=min(max_features, 0.999), # float\n",
    "            max_depth=int(max_depth),\n",
    "            random_state=42\n",
    "        ),\n",
    "        train_encoded, train.iloc[:,0], scoring='roc_auc', cv=10\n",
    "    ).mean()\n",
    "    return val\n"
   ]
  },
  {
   "cell_type": "code",
   "execution_count": 80,
   "id": "latin-meaning",
   "metadata": {
    "execution": {
     "iopub.execute_input": "2022-01-19T04:03:58.609172Z",
     "iopub.status.busy": "2022-01-19T04:03:58.608529Z",
     "iopub.status.idle": "2022-01-19T04:03:58.638538Z",
     "shell.execute_reply": "2022-01-19T04:03:58.637992Z",
     "shell.execute_reply.started": "2022-01-19T03:44:45.119405Z"
    },
    "papermill": {
     "duration": 0.167058,
     "end_time": "2022-01-19T04:03:58.638698",
     "exception": false,
     "start_time": "2022-01-19T04:03:58.471640",
     "status": "completed"
    },
    "tags": []
   },
   "outputs": [],
   "source": [
    "from bayes_opt import BayesianOptimization\n",
    "rf_bo = BayesianOptimization(\n",
    "        rf_cv,\n",
    "        {'n_estimators': (200, 1000),\n",
    "        'min_samples_split': (2, 20),\n",
    "        'max_features': (0.1, 0.999),\n",
    "        'max_depth': (5, 15)}\n",
    "    )"
   ]
  },
  {
   "cell_type": "code",
   "execution_count": 81,
   "id": "adolescent-hypothesis",
   "metadata": {
    "execution": {
     "iopub.execute_input": "2022-01-19T04:03:58.913212Z",
     "iopub.status.busy": "2022-01-19T04:03:58.912220Z",
     "iopub.status.idle": "2022-01-19T04:13:36.271057Z",
     "shell.execute_reply": "2022-01-19T04:13:36.271799Z",
     "shell.execute_reply.started": "2022-01-19T03:44:57.918622Z"
    },
    "papermill": {
     "duration": 577.499336,
     "end_time": "2022-01-19T04:13:36.272300",
     "exception": false,
     "start_time": "2022-01-19T04:03:58.772964",
     "status": "completed"
    },
    "tags": []
   },
   "outputs": [
    {
     "name": "stdout",
     "output_type": "stream",
     "text": [
      "|   iter    |  target   | max_depth | max_fe... | min_sa... | n_esti... |\n",
      "-------------------------------------------------------------------------\n",
      "| \u001b[0m 1       \u001b[0m | \u001b[0m 0.8855  \u001b[0m | \u001b[0m 11.43   \u001b[0m | \u001b[0m 0.2045  \u001b[0m | \u001b[0m 4.076   \u001b[0m | \u001b[0m 677.4   \u001b[0m |\n",
      "| \u001b[95m 2       \u001b[0m | \u001b[95m 0.8873  \u001b[0m | \u001b[95m 5.175   \u001b[0m | \u001b[95m 0.4401  \u001b[0m | \u001b[95m 2.718   \u001b[0m | \u001b[95m 347.4   \u001b[0m |\n",
      "| \u001b[0m 3       \u001b[0m | \u001b[0m 0.8856  \u001b[0m | \u001b[0m 9.73    \u001b[0m | \u001b[0m 0.5496  \u001b[0m | \u001b[0m 2.914   \u001b[0m | \u001b[0m 852.3   \u001b[0m |\n",
      "| \u001b[95m 4       \u001b[0m | \u001b[95m 0.8878  \u001b[0m | \u001b[95m 8.038   \u001b[0m | \u001b[95m 0.898   \u001b[0m | \u001b[95m 3.046   \u001b[0m | \u001b[95m 967.7   \u001b[0m |\n",
      "| \u001b[0m 5       \u001b[0m | \u001b[0m 0.884   \u001b[0m | \u001b[0m 11.05   \u001b[0m | \u001b[0m 0.7321  \u001b[0m | \u001b[0m 2.144   \u001b[0m | \u001b[0m 347.2   \u001b[0m |\n",
      "| \u001b[95m 6       \u001b[0m | \u001b[95m 0.8881  \u001b[0m | \u001b[95m 13.11   \u001b[0m | \u001b[95m 0.3751  \u001b[0m | \u001b[95m 6.15    \u001b[0m | \u001b[95m 746.1   \u001b[0m |\n",
      "| \u001b[0m 7       \u001b[0m | \u001b[0m 0.8866  \u001b[0m | \u001b[0m 5.724   \u001b[0m | \u001b[0m 0.6037  \u001b[0m | \u001b[0m 7.333   \u001b[0m | \u001b[0m 273.0   \u001b[0m |\n",
      "| \u001b[0m 8       \u001b[0m | \u001b[0m 0.8881  \u001b[0m | \u001b[0m 8.741   \u001b[0m | \u001b[0m 0.7317  \u001b[0m | \u001b[0m 15.52   \u001b[0m | \u001b[0m 717.4   \u001b[0m |\n",
      "| \u001b[95m 9       \u001b[0m | \u001b[95m 0.889   \u001b[0m | \u001b[95m 10.77   \u001b[0m | \u001b[95m 0.5556  \u001b[0m | \u001b[95m 16.73   \u001b[0m | \u001b[95m 781.0   \u001b[0m |\n",
      "| \u001b[0m 10      \u001b[0m | \u001b[0m 0.8889  \u001b[0m | \u001b[0m 12.08   \u001b[0m | \u001b[0m 0.5396  \u001b[0m | \u001b[0m 19.67   \u001b[0m | \u001b[0m 745.3   \u001b[0m |\n",
      "| \u001b[0m 11      \u001b[0m | \u001b[0m 0.8876  \u001b[0m | \u001b[0m 7.117   \u001b[0m | \u001b[0m 0.8208  \u001b[0m | \u001b[0m 19.6    \u001b[0m | \u001b[0m 778.5   \u001b[0m |\n",
      "| \u001b[0m 12      \u001b[0m | \u001b[0m 0.8888  \u001b[0m | \u001b[0m 10.24   \u001b[0m | \u001b[0m 0.614   \u001b[0m | \u001b[0m 18.69   \u001b[0m | \u001b[0m 782.8   \u001b[0m |\n",
      "| \u001b[95m 13      \u001b[0m | \u001b[95m 0.8891  \u001b[0m | \u001b[95m 10.64   \u001b[0m | \u001b[95m 0.4853  \u001b[0m | \u001b[95m 14.83   \u001b[0m | \u001b[95m 746.1   \u001b[0m |\n",
      "| \u001b[95m 14      \u001b[0m | \u001b[95m 0.8903  \u001b[0m | \u001b[95m 9.794   \u001b[0m | \u001b[95m 0.3973  \u001b[0m | \u001b[95m 15.49   \u001b[0m | \u001b[95m 739.8   \u001b[0m |\n",
      "| \u001b[0m 15      \u001b[0m | \u001b[0m 0.8868  \u001b[0m | \u001b[0m 14.64   \u001b[0m | \u001b[0m 0.2277  \u001b[0m | \u001b[0m 15.84   \u001b[0m | \u001b[0m 736.0   \u001b[0m |\n",
      "| \u001b[0m 16      \u001b[0m | \u001b[0m 0.8845  \u001b[0m | \u001b[0m 7.091   \u001b[0m | \u001b[0m 0.2724  \u001b[0m | \u001b[0m 17.82   \u001b[0m | \u001b[0m 740.9   \u001b[0m |\n",
      "| \u001b[0m 17      \u001b[0m | \u001b[0m 0.8886  \u001b[0m | \u001b[0m 10.27   \u001b[0m | \u001b[0m 0.5496  \u001b[0m | \u001b[0m 15.86   \u001b[0m | \u001b[0m 741.1   \u001b[0m |\n",
      "| \u001b[0m 18      \u001b[0m | \u001b[0m 0.8889  \u001b[0m | \u001b[0m 9.989   \u001b[0m | \u001b[0m 0.353   \u001b[0m | \u001b[0m 13.86   \u001b[0m | \u001b[0m 739.9   \u001b[0m |\n",
      "| \u001b[0m 19      \u001b[0m | \u001b[0m 0.8869  \u001b[0m | \u001b[0m 10.93   \u001b[0m | \u001b[0m 0.769   \u001b[0m | \u001b[0m 15.29   \u001b[0m | \u001b[0m 738.7   \u001b[0m |\n",
      "| \u001b[0m 20      \u001b[0m | \u001b[0m 0.889   \u001b[0m | \u001b[0m 8.791   \u001b[0m | \u001b[0m 0.5508  \u001b[0m | \u001b[0m 16.28   \u001b[0m | \u001b[0m 738.7   \u001b[0m |\n",
      "| \u001b[0m 21      \u001b[0m | \u001b[0m 0.8884  \u001b[0m | \u001b[0m 8.813   \u001b[0m | \u001b[0m 0.835   \u001b[0m | \u001b[0m 14.41   \u001b[0m | \u001b[0m 740.8   \u001b[0m |\n",
      "| \u001b[0m 22      \u001b[0m | \u001b[0m 0.8861  \u001b[0m | \u001b[0m 9.298   \u001b[0m | \u001b[0m 0.9557  \u001b[0m | \u001b[0m 17.93   \u001b[0m | \u001b[0m 781.6   \u001b[0m |\n",
      "| \u001b[0m 23      \u001b[0m | \u001b[0m 0.8884  \u001b[0m | \u001b[0m 9.693   \u001b[0m | \u001b[0m 0.5565  \u001b[0m | \u001b[0m 17.65   \u001b[0m | \u001b[0m 739.6   \u001b[0m |\n",
      "| \u001b[0m 24      \u001b[0m | \u001b[0m 0.8888  \u001b[0m | \u001b[0m 10.33   \u001b[0m | \u001b[0m 0.564   \u001b[0m | \u001b[0m 14.31   \u001b[0m | \u001b[0m 744.7   \u001b[0m |\n",
      "| \u001b[0m 25      \u001b[0m | \u001b[0m 0.8871  \u001b[0m | \u001b[0m 11.55   \u001b[0m | \u001b[0m 0.221   \u001b[0m | \u001b[0m 17.33   \u001b[0m | \u001b[0m 782.8   \u001b[0m |\n",
      "| \u001b[0m 26      \u001b[0m | \u001b[0m 0.8887  \u001b[0m | \u001b[0m 10.22   \u001b[0m | \u001b[0m 0.3496  \u001b[0m | \u001b[0m 14.14   \u001b[0m | \u001b[0m 740.9   \u001b[0m |\n",
      "| \u001b[0m 27      \u001b[0m | \u001b[0m 0.8893  \u001b[0m | \u001b[0m 9.021   \u001b[0m | \u001b[0m 0.6307  \u001b[0m | \u001b[0m 13.99   \u001b[0m | \u001b[0m 746.2   \u001b[0m |\n",
      "| \u001b[0m 28      \u001b[0m | \u001b[0m 0.8865  \u001b[0m | \u001b[0m 9.662   \u001b[0m | \u001b[0m 0.2348  \u001b[0m | \u001b[0m 15.36   \u001b[0m | \u001b[0m 746.9   \u001b[0m |\n",
      "| \u001b[0m 29      \u001b[0m | \u001b[0m 0.888   \u001b[0m | \u001b[0m 8.26    \u001b[0m | \u001b[0m 0.3346  \u001b[0m | \u001b[0m 15.19   \u001b[0m | \u001b[0m 738.9   \u001b[0m |\n",
      "| \u001b[0m 30      \u001b[0m | \u001b[0m 0.8885  \u001b[0m | \u001b[0m 9.638   \u001b[0m | \u001b[0m 0.6711  \u001b[0m | \u001b[0m 16.3    \u001b[0m | \u001b[0m 739.7   \u001b[0m |\n",
      "=========================================================================\n"
     ]
    }
   ],
   "source": [
    "rf_bo.maximize()"
   ]
  },
  {
   "cell_type": "code",
   "execution_count": 82,
   "id": "urban-centre",
   "metadata": {
    "execution": {
     "iopub.execute_input": "2022-01-19T04:13:36.566833Z",
     "iopub.status.busy": "2022-01-19T04:13:36.565894Z",
     "iopub.status.idle": "2022-01-19T04:13:39.594031Z",
     "shell.execute_reply": "2022-01-19T04:13:39.594839Z",
     "shell.execute_reply.started": "2022-01-19T03:54:36.480289Z"
    },
    "papermill": {
     "duration": 3.1796,
     "end_time": "2022-01-19T04:13:39.595011",
     "exception": false,
     "start_time": "2022-01-19T04:13:36.415411",
     "status": "completed"
    },
    "tags": []
   },
   "outputs": [
    {
     "name": "stdout",
     "output_type": "stream",
     "text": [
      "0.8350\n"
     ]
    }
   ],
   "source": [
    "rf = RandomForestClassifier(max_depth=8,\n",
    "                             n_estimators=905,\n",
    "                             min_samples_split=14,\n",
    "                             min_samples_leaf=1,\n",
    "                             max_features=0.3964,\n",
    "                             oob_score=True,\n",
    "                             random_state=42,\n",
    "                             n_jobs=-1)\n",
    "rf.fit(X,y)\n",
    "print(\"%.4f\" % rf.oob_score_)"
   ]
  },
  {
   "cell_type": "code",
   "execution_count": 83,
   "id": "little-thermal",
   "metadata": {
    "execution": {
     "iopub.execute_input": "2022-01-19T04:13:39.890582Z",
     "iopub.status.busy": "2022-01-19T04:13:39.889900Z",
     "iopub.status.idle": "2022-01-19T04:13:40.208465Z",
     "shell.execute_reply": "2022-01-19T04:13:40.207943Z",
     "shell.execute_reply.started": "2022-01-19T03:55:45.343983Z"
    },
    "papermill": {
     "duration": 0.473142,
     "end_time": "2022-01-19T04:13:40.208598",
     "exception": false,
     "start_time": "2022-01-19T04:13:39.735456",
     "status": "completed"
    },
    "tags": []
   },
   "outputs": [
    {
     "data": {
      "text/html": [
       "<div>\n",
       "<style scoped>\n",
       "    .dataframe tbody tr th:only-of-type {\n",
       "        vertical-align: middle;\n",
       "    }\n",
       "\n",
       "    .dataframe tbody tr th {\n",
       "        vertical-align: top;\n",
       "    }\n",
       "\n",
       "    .dataframe thead th {\n",
       "        text-align: right;\n",
       "    }\n",
       "</style>\n",
       "<table border=\"1\" class=\"dataframe\">\n",
       "  <thead>\n",
       "    <tr style=\"text-align: right;\">\n",
       "      <th></th>\n",
       "      <th>PassengerId</th>\n",
       "      <th>Survived</th>\n",
       "    </tr>\n",
       "  </thead>\n",
       "  <tbody>\n",
       "    <tr>\n",
       "      <th>0</th>\n",
       "      <td>892</td>\n",
       "      <td>0</td>\n",
       "    </tr>\n",
       "    <tr>\n",
       "      <th>1</th>\n",
       "      <td>893</td>\n",
       "      <td>0</td>\n",
       "    </tr>\n",
       "    <tr>\n",
       "      <th>2</th>\n",
       "      <td>894</td>\n",
       "      <td>0</td>\n",
       "    </tr>\n",
       "    <tr>\n",
       "      <th>3</th>\n",
       "      <td>895</td>\n",
       "      <td>0</td>\n",
       "    </tr>\n",
       "    <tr>\n",
       "      <th>4</th>\n",
       "      <td>896</td>\n",
       "      <td>1</td>\n",
       "    </tr>\n",
       "    <tr>\n",
       "      <th>...</th>\n",
       "      <td>...</td>\n",
       "      <td>...</td>\n",
       "    </tr>\n",
       "    <tr>\n",
       "      <th>413</th>\n",
       "      <td>1305</td>\n",
       "      <td>0</td>\n",
       "    </tr>\n",
       "    <tr>\n",
       "      <th>414</th>\n",
       "      <td>1306</td>\n",
       "      <td>1</td>\n",
       "    </tr>\n",
       "    <tr>\n",
       "      <th>415</th>\n",
       "      <td>1307</td>\n",
       "      <td>0</td>\n",
       "    </tr>\n",
       "    <tr>\n",
       "      <th>416</th>\n",
       "      <td>1308</td>\n",
       "      <td>0</td>\n",
       "    </tr>\n",
       "    <tr>\n",
       "      <th>417</th>\n",
       "      <td>1309</td>\n",
       "      <td>1</td>\n",
       "    </tr>\n",
       "  </tbody>\n",
       "</table>\n",
       "<p>418 rows × 2 columns</p>\n",
       "</div>"
      ],
      "text/plain": [
       "     PassengerId  Survived\n",
       "0            892         0\n",
       "1            893         0\n",
       "2            894         0\n",
       "3            895         0\n",
       "4            896         1\n",
       "..           ...       ...\n",
       "413         1305         0\n",
       "414         1306         1\n",
       "415         1307         0\n",
       "416         1308         0\n",
       "417         1309         1\n",
       "\n",
       "[418 rows x 2 columns]"
      ]
     },
     "execution_count": 83,
     "metadata": {},
     "output_type": "execute_result"
    }
   ],
   "source": [
    "submissions = rf.predict(test_encoded)\n",
    "submissions = pd.DataFrame(submissions, columns=['Survived'])\n",
    "submissions = pd.concat((test_data.iloc[:, 0], submissions), axis = 1)\n",
    "submissions"
   ]
  },
  {
   "cell_type": "code",
   "execution_count": 84,
   "id": "personal-salad",
   "metadata": {
    "execution": {
     "iopub.execute_input": "2022-01-19T04:13:40.503454Z",
     "iopub.status.busy": "2022-01-19T04:13:40.502516Z",
     "iopub.status.idle": "2022-01-19T04:13:40.510299Z",
     "shell.execute_reply": "2022-01-19T04:13:40.509678Z",
     "shell.execute_reply.started": "2022-01-19T03:56:09.039880Z"
    },
    "papermill": {
     "duration": 0.157489,
     "end_time": "2022-01-19T04:13:40.510444",
     "exception": false,
     "start_time": "2022-01-19T04:13:40.352955",
     "status": "completed"
    },
    "tags": []
   },
   "outputs": [],
   "source": [
    "submission.to_csv('./submission.csv', index = False)"
   ]
  },
  {
   "cell_type": "code",
   "execution_count": 85,
   "id": "amber-gambling",
   "metadata": {
    "execution": {
     "iopub.execute_input": "2022-01-19T04:13:40.800739Z",
     "iopub.status.busy": "2022-01-19T04:13:40.800047Z",
     "iopub.status.idle": "2022-01-19T04:13:40.802865Z",
     "shell.execute_reply": "2022-01-19T04:13:40.803394Z",
     "shell.execute_reply.started": "2021-07-17T19:35:06.864037Z"
    },
    "papermill": {
     "duration": 0.149579,
     "end_time": "2022-01-19T04:13:40.803558",
     "exception": false,
     "start_time": "2022-01-19T04:13:40.653979",
     "status": "completed"
    },
    "tags": []
   },
   "outputs": [],
   "source": [
    "#train_df['AgeBand'] = pd.cut(train_df['Age'], 8)\n",
    "#train_df[['AgeBand', 'Survived']].groupby(['AgeBand'], as_index=False).mean().sort_values(by='AgeBand', ascending=True)"
   ]
  },
  {
   "cell_type": "markdown",
   "id": "affected-clock",
   "metadata": {
    "papermill": {
     "duration": 0.146541,
     "end_time": "2022-01-19T04:13:41.094291",
     "exception": false,
     "start_time": "2022-01-19T04:13:40.947750",
     "status": "completed"
    },
    "tags": []
   },
   "source": [
    "Let us replace Age as oridinals based on these bands"
   ]
  },
  {
   "cell_type": "code",
   "execution_count": 86,
   "id": "promising-dodge",
   "metadata": {
    "execution": {
     "iopub.execute_input": "2022-01-19T04:13:41.382943Z",
     "iopub.status.busy": "2022-01-19T04:13:41.381908Z",
     "iopub.status.idle": "2022-01-19T04:13:41.384314Z",
     "shell.execute_reply": "2022-01-19T04:13:41.384786Z",
     "shell.execute_reply.started": "2021-07-17T19:35:07.967548Z"
    },
    "papermill": {
     "duration": 0.148495,
     "end_time": "2022-01-19T04:13:41.384959",
     "exception": false,
     "start_time": "2022-01-19T04:13:41.236464",
     "status": "completed"
    },
    "tags": []
   },
   "outputs": [],
   "source": [
    "#train_df.loc[ train_df['Age'] <= 11, 'Age'] = 0\n",
    "#train_df.loc[(train_df['Age'] > 11) & (train_df['Age'] <= 21), 'Age'] = 1\n",
    "#train_df.loc[(train_df['Age'] > 21) & (train_df['Age'] <= 31), 'Age'] = 2\n",
    "#train_df.loc[(train_df['Age'] > 31) & (train_df['Age'] <= 41), 'Age'] = 3\n",
    "#train_df.loc[(train_df['Age'] > 41) & (train_df['Age'] <= 51), 'Age'] = 4\n",
    "#train_df.loc[(train_df['Age'] > 51) & (train_df['Age'] <= 61), 'Age'] = 5\n",
    "#train_df.loc[(train_df['Age'] > 61) & (train_df['Age'] <= 71), 'Age'] = 6\n",
    "#train_df.loc[ train_df['Age'] > 71, 'Age'] = 7"
   ]
  },
  {
   "cell_type": "markdown",
   "id": "yellow-search",
   "metadata": {
    "papermill": {
     "duration": 0.143968,
     "end_time": "2022-01-19T04:13:41.671344",
     "exception": false,
     "start_time": "2022-01-19T04:13:41.527376",
     "status": "completed"
    },
    "tags": []
   },
   "source": [
    "We can now remove the Ageband feature"
   ]
  },
  {
   "cell_type": "code",
   "execution_count": 87,
   "id": "established-postage",
   "metadata": {
    "execution": {
     "iopub.execute_input": "2022-01-19T04:13:41.963868Z",
     "iopub.status.busy": "2022-01-19T04:13:41.962816Z",
     "iopub.status.idle": "2022-01-19T04:13:41.965727Z",
     "shell.execute_reply": "2022-01-19T04:13:41.965080Z",
     "shell.execute_reply.started": "2021-07-17T19:35:11.039189Z"
    },
    "papermill": {
     "duration": 0.151584,
     "end_time": "2022-01-19T04:13:41.965851",
     "exception": false,
     "start_time": "2022-01-19T04:13:41.814267",
     "status": "completed"
    },
    "tags": []
   },
   "outputs": [],
   "source": [
    "#train_df = train_df.drop(['AgeBand'], axis=1)\n",
    "#train_df.head()"
   ]
  },
  {
   "cell_type": "markdown",
   "id": "different-linux",
   "metadata": {
    "papermill": {
     "duration": 0.24175,
     "end_time": "2022-01-19T04:13:42.349891",
     "exception": false,
     "start_time": "2022-01-19T04:13:42.108141",
     "status": "completed"
    },
    "tags": []
   },
   "source": [
    "We can now create a Fareband"
   ]
  },
  {
   "cell_type": "code",
   "execution_count": 88,
   "id": "flying-norman",
   "metadata": {
    "execution": {
     "iopub.execute_input": "2022-01-19T04:13:42.638150Z",
     "iopub.status.busy": "2022-01-19T04:13:42.637201Z",
     "iopub.status.idle": "2022-01-19T04:13:42.641480Z",
     "shell.execute_reply": "2022-01-19T04:13:42.640842Z",
     "shell.execute_reply.started": "2021-07-17T19:35:55.666846Z"
    },
    "papermill": {
     "duration": 0.149541,
     "end_time": "2022-01-19T04:13:42.641616",
     "exception": false,
     "start_time": "2022-01-19T04:13:42.492075",
     "status": "completed"
    },
    "tags": []
   },
   "outputs": [],
   "source": [
    "#train_data['FareBand'] = pd.qcut(train_data['Fare'], 4)\n",
    "#train_data[['FareBand', 'Survived']].groupby(['FareBand'], as_index=False).mean().sort_values(by='FareBand', ascending=True)"
   ]
  },
  {
   "cell_type": "markdown",
   "id": "presidential-dining",
   "metadata": {
    "papermill": {
     "duration": 0.138846,
     "end_time": "2022-01-19T04:13:42.921583",
     "exception": false,
     "start_time": "2022-01-19T04:13:42.782737",
     "status": "completed"
    },
    "tags": []
   },
   "source": [
    "We can now convert the Fare feature to ordinal value."
   ]
  },
  {
   "cell_type": "code",
   "execution_count": 89,
   "id": "united-projector",
   "metadata": {
    "execution": {
     "iopub.execute_input": "2022-01-19T04:13:43.207464Z",
     "iopub.status.busy": "2022-01-19T04:13:43.206651Z",
     "iopub.status.idle": "2022-01-19T04:13:43.209375Z",
     "shell.execute_reply": "2022-01-19T04:13:43.209797Z",
     "shell.execute_reply.started": "2021-07-17T19:36:11.562542Z"
    },
    "papermill": {
     "duration": 0.146908,
     "end_time": "2022-01-19T04:13:43.209958",
     "exception": false,
     "start_time": "2022-01-19T04:13:43.063050",
     "status": "completed"
    },
    "tags": []
   },
   "outputs": [],
   "source": [
    "#train_df.loc[ train_df['Fare'] <= 7.91, 'Fare'] = 0\n",
    "#train_df.loc[(train_df['Fare'] > 7.91) & (train_df['Fare'] <= 14.454), 'Fare'] = 1\n",
    "#train_df.loc[(train_df['Fare'] > 14.454) & (train_df['Fare'] <= 31), 'Fare']   = 2\n",
    "#train_df.loc[ train_df['Fare'] > 31, 'Fare'] = 3\n",
    "#train_df['Fare'] = train_df['Fare'].astype(int)\n",
    "#train_data = train_data.drop(['FareBand'], axis=1)\n",
    "#train_df.head(10)"
   ]
  },
  {
   "cell_type": "markdown",
   "id": "sound-thanks",
   "metadata": {
    "papermill": {
     "duration": 0.142396,
     "end_time": "2022-01-19T04:13:43.495721",
     "exception": false,
     "start_time": "2022-01-19T04:13:43.353325",
     "status": "completed"
    },
    "tags": []
   },
   "source": [
    "**Transform ticket into ticket occurrences**"
   ]
  },
  {
   "cell_type": "code",
   "execution_count": 90,
   "id": "familiar-brother",
   "metadata": {
    "execution": {
     "iopub.execute_input": "2022-01-19T04:13:43.809662Z",
     "iopub.status.busy": "2022-01-19T04:13:43.808724Z",
     "iopub.status.idle": "2022-01-19T04:13:43.811766Z",
     "shell.execute_reply": "2022-01-19T04:13:43.811280Z",
     "shell.execute_reply.started": "2021-07-17T19:36:34.284328Z"
    },
    "papermill": {
     "duration": 0.17085,
     "end_time": "2022-01-19T04:13:43.811901",
     "exception": false,
     "start_time": "2022-01-19T04:13:43.641051",
     "status": "completed"
    },
    "tags": []
   },
   "outputs": [],
   "source": [
    "#train_df['TicketOccurrences'] = 1\n",
    "#train_df['TicketOccurrences'] = train_df[['Ticket', 'TicketOccurrences']].groupby(['Ticket']).transform(lambda t: t.count())\n",
    "\n",
    "#train_df = train_df.drop(['Ticket'], axis=1)\n",
    "#train_df.head(4)"
   ]
  },
  {
   "cell_type": "code",
   "execution_count": 91,
   "id": "great-permit",
   "metadata": {
    "execution": {
     "iopub.execute_input": "2022-01-19T04:13:44.104110Z",
     "iopub.status.busy": "2022-01-19T04:13:44.103142Z",
     "iopub.status.idle": "2022-01-19T04:13:44.106472Z",
     "shell.execute_reply": "2022-01-19T04:13:44.105968Z",
     "shell.execute_reply.started": "2021-07-17T19:36:45.078836Z"
    },
    "papermill": {
     "duration": 0.151243,
     "end_time": "2022-01-19T04:13:44.106613",
     "exception": false,
     "start_time": "2022-01-19T04:13:43.955370",
     "status": "completed"
    },
    "tags": []
   },
   "outputs": [],
   "source": [
    "#train_df[['TicketOccurrences', 'Survived']].groupby(['TicketOccurrences'], as_index=False).mean().sort_values(by='Survived', ascending=False)"
   ]
  },
  {
   "cell_type": "markdown",
   "id": "combined-stocks",
   "metadata": {
    "papermill": {
     "duration": 0.140744,
     "end_time": "2022-01-19T04:13:44.389219",
     "exception": false,
     "start_time": "2022-01-19T04:13:44.248475",
     "status": "completed"
    },
    "tags": []
   },
   "source": [
    "**One Hot encode Cabin**"
   ]
  },
  {
   "cell_type": "code",
   "execution_count": 92,
   "id": "civil-offering",
   "metadata": {
    "execution": {
     "iopub.execute_input": "2022-01-19T04:13:44.676712Z",
     "iopub.status.busy": "2022-01-19T04:13:44.675782Z",
     "iopub.status.idle": "2022-01-19T04:13:44.678411Z",
     "shell.execute_reply": "2022-01-19T04:13:44.678847Z",
     "shell.execute_reply.started": "2021-07-17T19:48:27.259353Z"
    },
    "papermill": {
     "duration": 0.147794,
     "end_time": "2022-01-19T04:13:44.679032",
     "exception": false,
     "start_time": "2022-01-19T04:13:44.531238",
     "status": "completed"
    },
    "tags": []
   },
   "outputs": [],
   "source": [
    "#train_df['Section'] = train_df['Cabin'].transform(lambda c: c.str.extract('^([A-Za-z])', expand=False))\n",
    "\n",
    "#train_df['Section'] = train_df['Section'].fillna('Unknown')\n",
    "\n",
    "#train_df = pd.get_dummies(train_df, columns=['Section'], sparse=True)\n",
    "\n",
    "#train_df = train_df.drop(['Cabin'], axis=1)"
   ]
  },
  {
   "cell_type": "markdown",
   "id": "incoming-sugar",
   "metadata": {
    "papermill": {
     "duration": 0.142557,
     "end_time": "2022-01-19T04:13:44.966627",
     "exception": false,
     "start_time": "2022-01-19T04:13:44.824070",
     "status": "completed"
    },
    "tags": []
   },
   "source": [
    "Create an artificial feature combining Pclass and Age."
   ]
  },
  {
   "cell_type": "code",
   "execution_count": 93,
   "id": "sapphire-favorite",
   "metadata": {
    "execution": {
     "iopub.execute_input": "2022-01-19T04:13:45.256162Z",
     "iopub.status.busy": "2022-01-19T04:13:45.255541Z",
     "iopub.status.idle": "2022-01-19T04:13:45.257962Z",
     "shell.execute_reply": "2022-01-19T04:13:45.257424Z",
     "shell.execute_reply.started": "2021-07-15T03:59:17.546692Z"
    },
    "papermill": {
     "duration": 0.147271,
     "end_time": "2022-01-19T04:13:45.258084",
     "exception": false,
     "start_time": "2022-01-19T04:13:45.110813",
     "status": "completed"
    },
    "tags": []
   },
   "outputs": [],
   "source": [
    "#for dataset in combine:\n",
    " #   dataset['Age*Class'] = dataset.Age * dataset.Pclass"
   ]
  },
  {
   "cell_type": "code",
   "execution_count": 94,
   "id": "known-dynamics",
   "metadata": {
    "execution": {
     "iopub.execute_input": "2022-01-19T04:13:45.542934Z",
     "iopub.status.busy": "2022-01-19T04:13:45.542374Z",
     "iopub.status.idle": "2022-01-19T04:13:45.544365Z",
     "shell.execute_reply": "2022-01-19T04:13:45.544869Z",
     "shell.execute_reply.started": "2021-07-17T19:52:57.188058Z"
    },
    "papermill": {
     "duration": 0.146945,
     "end_time": "2022-01-19T04:13:45.545006",
     "exception": false,
     "start_time": "2022-01-19T04:13:45.398061",
     "status": "completed"
    },
    "tags": []
   },
   "outputs": [],
   "source": [
    "#X_train = train_df.drop(\"Survived\", axis=1)\n",
    "#Y_train = train_df[\"Survived\"]\n",
    "#X_test  = test_data.drop(\"PassengerId\", axis=1).copy()\n",
    "#X_train.shape, Y_train.shape, X_val.shape, Y_val.shape,  X_test.shape"
   ]
  },
  {
   "cell_type": "code",
   "execution_count": 95,
   "id": "organized-australia",
   "metadata": {
    "execution": {
     "iopub.execute_input": "2022-01-19T04:13:45.826773Z",
     "iopub.status.busy": "2022-01-19T04:13:45.826135Z",
     "iopub.status.idle": "2022-01-19T04:13:45.829183Z",
     "shell.execute_reply": "2022-01-19T04:13:45.829726Z",
     "shell.execute_reply.started": "2021-07-15T03:59:17.607082Z"
    },
    "papermill": {
     "duration": 0.14513,
     "end_time": "2022-01-19T04:13:45.829875",
     "exception": false,
     "start_time": "2022-01-19T04:13:45.684745",
     "status": "completed"
    },
    "tags": []
   },
   "outputs": [],
   "source": [
    "#from sklearn.ensemble import RandomForestClassifier\n",
    "\n",
    "#model = RandomForestClassifier(n_estimators=100, max_depth=5, random_state=1)\n",
    "#model.fit(X_train, Y_train)\n",
    "#predictions = model.predict(X_test)\n",
    "\n",
    "#output = pd.DataFrame({'PassengerId': test_data.PassengerId, 'Survived': predictions})\n",
    "#output.to_csv('my_submission.csv', index=False)\n",
    "#print(\"Your submission was successfully saved!\")"
   ]
  },
  {
   "cell_type": "code",
   "execution_count": 96,
   "id": "referenced-office",
   "metadata": {
    "execution": {
     "iopub.execute_input": "2022-01-19T04:13:46.118803Z",
     "iopub.status.busy": "2022-01-19T04:13:46.118215Z",
     "iopub.status.idle": "2022-01-19T04:13:46.121463Z",
     "shell.execute_reply": "2022-01-19T04:13:46.121954Z",
     "shell.execute_reply.started": "2021-07-15T03:59:18.220653Z"
    },
    "papermill": {
     "duration": 0.150114,
     "end_time": "2022-01-19T04:13:46.122123",
     "exception": false,
     "start_time": "2022-01-19T04:13:45.972009",
     "status": "completed"
    },
    "tags": []
   },
   "outputs": [],
   "source": [
    "#acc_random_forest = round(model.score(X_train, Y_train) * 100, 2)\n",
    "#acc_random_forest"
   ]
  },
  {
   "cell_type": "code",
   "execution_count": 97,
   "id": "convertible-update",
   "metadata": {
    "execution": {
     "iopub.execute_input": "2022-01-19T04:13:46.410898Z",
     "iopub.status.busy": "2022-01-19T04:13:46.410331Z",
     "iopub.status.idle": "2022-01-19T04:13:46.413684Z",
     "shell.execute_reply": "2022-01-19T04:13:46.414198Z",
     "shell.execute_reply.started": "2021-07-15T03:59:18.249204Z"
    },
    "papermill": {
     "duration": 0.149007,
     "end_time": "2022-01-19T04:13:46.414398",
     "exception": false,
     "start_time": "2022-01-19T04:13:46.265391",
     "status": "completed"
    },
    "tags": []
   },
   "outputs": [],
   "source": [
    "#from sklearn.linear_model import LogisticRegression\n",
    "#logreg = LogisticRegression()\n",
    "#logreg.fit(X_train, Y_train)\n",
    "#Y_pred = logreg.predict(X_test)\n",
    "\n",
    "\n",
    "#output = pd.DataFrame({'PassengerId': test_data.PassengerId, 'Survived': Y_pred})\n",
    "#output.to_csv('my_submission.csv', index=False)\n",
    "#print(\"Your submission was successfully saved!\")"
   ]
  },
  {
   "cell_type": "code",
   "execution_count": 98,
   "id": "collaborative-champagne",
   "metadata": {
    "execution": {
     "iopub.execute_input": "2022-01-19T04:13:46.705512Z",
     "iopub.status.busy": "2022-01-19T04:13:46.704888Z",
     "iopub.status.idle": "2022-01-19T04:13:46.707797Z",
     "shell.execute_reply": "2022-01-19T04:13:46.708380Z",
     "shell.execute_reply.started": "2021-07-15T03:59:18.27028Z"
    },
    "papermill": {
     "duration": 0.152468,
     "end_time": "2022-01-19T04:13:46.708546",
     "exception": false,
     "start_time": "2022-01-19T04:13:46.556078",
     "status": "completed"
    },
    "tags": []
   },
   "outputs": [],
   "source": [
    "#acc_log = round(logreg.score(X_train, Y_train) * 100, 2)\n",
    "#acc_log"
   ]
  },
  {
   "cell_type": "code",
   "execution_count": 99,
   "id": "following-athens",
   "metadata": {
    "execution": {
     "iopub.execute_input": "2022-01-19T04:13:47.003056Z",
     "iopub.status.busy": "2022-01-19T04:13:47.002456Z",
     "iopub.status.idle": "2022-01-19T04:13:47.005453Z",
     "shell.execute_reply": "2022-01-19T04:13:47.006000Z",
     "shell.execute_reply.started": "2021-07-15T03:59:18.279372Z"
    },
    "papermill": {
     "duration": 0.152405,
     "end_time": "2022-01-19T04:13:47.006209",
     "exception": false,
     "start_time": "2022-01-19T04:13:46.853804",
     "status": "completed"
    },
    "tags": []
   },
   "outputs": [],
   "source": [
    "#from sklearn.svm import SVC, LinearSVC\n",
    "#svc = SVC()\n",
    "#svc.fit(X_train, Y_train)\n",
    "#Y_pred = svc.predict(X_test)\n",
    "\n",
    "#output = pd.DataFrame({'PassengerId': test_data.PassengerId, 'Survived': Y_pred})\n",
    "#output.to_csv('my_submission.csv', index=False)\n",
    "#print(\"Your submission was successfully saved!\")"
   ]
  },
  {
   "cell_type": "code",
   "execution_count": 100,
   "id": "express-lounge",
   "metadata": {
    "execution": {
     "iopub.execute_input": "2022-01-19T04:13:47.292760Z",
     "iopub.status.busy": "2022-01-19T04:13:47.292183Z",
     "iopub.status.idle": "2022-01-19T04:13:47.295040Z",
     "shell.execute_reply": "2022-01-19T04:13:47.295575Z",
     "shell.execute_reply.started": "2021-07-15T03:59:18.327144Z"
    },
    "papermill": {
     "duration": 0.146669,
     "end_time": "2022-01-19T04:13:47.295721",
     "exception": false,
     "start_time": "2022-01-19T04:13:47.149052",
     "status": "completed"
    },
    "tags": []
   },
   "outputs": [],
   "source": [
    "#acc_svc = round(svc.score(X_train, Y_train) * 100, 2)\n",
    "#acc_svc"
   ]
  },
  {
   "cell_type": "code",
   "execution_count": 101,
   "id": "standard-gnome",
   "metadata": {
    "execution": {
     "iopub.execute_input": "2022-01-19T04:13:47.582179Z",
     "iopub.status.busy": "2022-01-19T04:13:47.581561Z",
     "iopub.status.idle": "2022-01-19T04:13:47.586250Z",
     "shell.execute_reply": "2022-01-19T04:13:47.585676Z",
     "shell.execute_reply.started": "2021-07-15T03:59:18.361023Z"
    },
    "papermill": {
     "duration": 0.149217,
     "end_time": "2022-01-19T04:13:47.586383",
     "exception": false,
     "start_time": "2022-01-19T04:13:47.437166",
     "status": "completed"
    },
    "tags": []
   },
   "outputs": [],
   "source": [
    "#from sklearn.linear_model import SGDClassifier\n",
    "#sgd = SGDClassifier()\n",
    "#sgd.fit(X_train, Y_train)\n",
    "#Y_pred = sgd.predict(X_test)\n"
   ]
  },
  {
   "cell_type": "code",
   "execution_count": 102,
   "id": "positive-circuit",
   "metadata": {
    "execution": {
     "iopub.execute_input": "2022-01-19T04:13:47.876589Z",
     "iopub.status.busy": "2022-01-19T04:13:47.875878Z",
     "iopub.status.idle": "2022-01-19T04:13:47.877740Z",
     "shell.execute_reply": "2022-01-19T04:13:47.878270Z",
     "shell.execute_reply.started": "2021-07-15T03:59:18.375435Z"
    },
    "papermill": {
     "duration": 0.150047,
     "end_time": "2022-01-19T04:13:47.878428",
     "exception": false,
     "start_time": "2022-01-19T04:13:47.728381",
     "status": "completed"
    },
    "tags": []
   },
   "outputs": [],
   "source": [
    "#acc_sgd = round(sgd.score(X_train, Y_train) * 100, 2)\n",
    "#acc_sgd"
   ]
  },
  {
   "cell_type": "code",
   "execution_count": 103,
   "id": "downtown-monroe",
   "metadata": {
    "execution": {
     "iopub.execute_input": "2022-01-19T04:13:48.169628Z",
     "iopub.status.busy": "2022-01-19T04:13:48.168935Z",
     "iopub.status.idle": "2022-01-19T04:13:48.172201Z",
     "shell.execute_reply": "2022-01-19T04:13:48.172717Z",
     "shell.execute_reply.started": "2021-07-15T03:59:18.384233Z"
    },
    "papermill": {
     "duration": 0.150485,
     "end_time": "2022-01-19T04:13:48.172874",
     "exception": false,
     "start_time": "2022-01-19T04:13:48.022389",
     "status": "completed"
    },
    "tags": []
   },
   "outputs": [],
   "source": [
    "#from sklearn.neighbors import KNeighborsClassifier\n",
    "#knn = KNeighborsClassifier(n_neighbors = 3)\n",
    "#knn.fit(X_train, Y_train)\n",
    "#Y_pred = knn.predict(X_test)\n",
    "#output = pd.DataFrame({'PassengerId': test_data.PassengerId, 'Survived': Y_pred})\n",
    "#output.to_csv('my_submission.csv', index=False)\n",
    "#print(\"Your submission was successfully saved!\")"
   ]
  },
  {
   "cell_type": "code",
   "execution_count": 104,
   "id": "regular-latino",
   "metadata": {
    "execution": {
     "iopub.execute_input": "2022-01-19T04:13:48.461317Z",
     "iopub.status.busy": "2022-01-19T04:13:48.460676Z",
     "iopub.status.idle": "2022-01-19T04:13:48.464109Z",
     "shell.execute_reply": "2022-01-19T04:13:48.464710Z",
     "shell.execute_reply.started": "2021-07-15T03:59:18.416772Z"
    },
    "papermill": {
     "duration": 0.149614,
     "end_time": "2022-01-19T04:13:48.464861",
     "exception": false,
     "start_time": "2022-01-19T04:13:48.315247",
     "status": "completed"
    },
    "tags": []
   },
   "outputs": [],
   "source": [
    "#acc_knn = round(knn.score(X_train, Y_train) * 100, 2)\n",
    "#acc_knn"
   ]
  },
  {
   "cell_type": "code",
   "execution_count": 105,
   "id": "surgical-double",
   "metadata": {
    "execution": {
     "iopub.execute_input": "2022-01-19T04:13:48.756035Z",
     "iopub.status.busy": "2022-01-19T04:13:48.755474Z",
     "iopub.status.idle": "2022-01-19T04:13:48.758346Z",
     "shell.execute_reply": "2022-01-19T04:13:48.758899Z",
     "shell.execute_reply.started": "2021-07-15T03:59:18.464978Z"
    },
    "papermill": {
     "duration": 0.151078,
     "end_time": "2022-01-19T04:13:48.759081",
     "exception": false,
     "start_time": "2022-01-19T04:13:48.608003",
     "status": "completed"
    },
    "tags": []
   },
   "outputs": [],
   "source": [
    "#from sklearn.naive_bayes import GaussianNB\n",
    "#gaussian = GaussianNB()\n",
    "#gaussian.fit(X_train, Y_train)\n",
    "#Y_pred = gaussian.predict(X_test)\n"
   ]
  },
  {
   "cell_type": "code",
   "execution_count": 106,
   "id": "sound-geography",
   "metadata": {
    "execution": {
     "iopub.execute_input": "2022-01-19T04:13:49.045399Z",
     "iopub.status.busy": "2022-01-19T04:13:49.044786Z",
     "iopub.status.idle": "2022-01-19T04:13:49.047680Z",
     "shell.execute_reply": "2022-01-19T04:13:49.048223Z",
     "shell.execute_reply.started": "2021-07-15T03:59:18.477437Z"
    },
    "papermill": {
     "duration": 0.148333,
     "end_time": "2022-01-19T04:13:49.048385",
     "exception": false,
     "start_time": "2022-01-19T04:13:48.900052",
     "status": "completed"
    },
    "tags": []
   },
   "outputs": [],
   "source": [
    "#acc_gaussian = round(gaussian.score(X_train, Y_train) * 100, 2)\n",
    "#acc_gaussian"
   ]
  },
  {
   "cell_type": "code",
   "execution_count": 107,
   "id": "fixed-harrison",
   "metadata": {
    "execution": {
     "iopub.execute_input": "2022-01-19T04:13:49.332641Z",
     "iopub.status.busy": "2022-01-19T04:13:49.332031Z",
     "iopub.status.idle": "2022-01-19T04:13:49.335013Z",
     "shell.execute_reply": "2022-01-19T04:13:49.335594Z",
     "shell.execute_reply.started": "2021-07-15T03:59:18.49124Z"
    },
    "papermill": {
     "duration": 0.145405,
     "end_time": "2022-01-19T04:13:49.335748",
     "exception": false,
     "start_time": "2022-01-19T04:13:49.190343",
     "status": "completed"
    },
    "tags": []
   },
   "outputs": [],
   "source": [
    "#from sklearn.linear_model import Perceptron\n",
    "#perceptron = Perceptron()\n",
    "#perceptron.fit(X_train, Y_train)\n",
    "#Y_pred = perceptron.predict(X_test)\n",
    "#acc_perceptron = round(perceptron.score(X_train, Y_train) * 100, 2)\n",
    "#acc_perceptron"
   ]
  },
  {
   "cell_type": "code",
   "execution_count": 108,
   "id": "undefined-species",
   "metadata": {
    "execution": {
     "iopub.execute_input": "2022-01-19T04:13:49.623583Z",
     "iopub.status.busy": "2022-01-19T04:13:49.622928Z",
     "iopub.status.idle": "2022-01-19T04:13:49.625997Z",
     "shell.execute_reply": "2022-01-19T04:13:49.626556Z",
     "shell.execute_reply.started": "2021-07-15T03:59:18.509976Z"
    },
    "papermill": {
     "duration": 0.146055,
     "end_time": "2022-01-19T04:13:49.626718",
     "exception": false,
     "start_time": "2022-01-19T04:13:49.480663",
     "status": "completed"
    },
    "tags": []
   },
   "outputs": [],
   "source": [
    "#from sklearn.tree import DecisionTreeClassifier\n",
    "#decision_tree = DecisionTreeClassifier()\n",
    "#decision_tree.fit(X_train, Y_train)\n",
    "#Y_pred = decision_tree.predict(X_test)\n",
    "\n",
    "#output = pd.DataFrame({'PassengerId': test_data.PassengerId, 'Survived': Y_pred})\n",
    "#output.to_csv('my_submission.csv', index=False)\n",
    "#print(\"Your submission was successfully saved!\")"
   ]
  },
  {
   "cell_type": "code",
   "execution_count": 109,
   "id": "outer-korea",
   "metadata": {
    "execution": {
     "iopub.execute_input": "2022-01-19T04:13:49.908967Z",
     "iopub.status.busy": "2022-01-19T04:13:49.908387Z",
     "iopub.status.idle": "2022-01-19T04:13:49.912326Z",
     "shell.execute_reply": "2022-01-19T04:13:49.911737Z",
     "shell.execute_reply.started": "2021-07-15T03:59:18.525601Z"
    },
    "papermill": {
     "duration": 0.147089,
     "end_time": "2022-01-19T04:13:49.912461",
     "exception": false,
     "start_time": "2022-01-19T04:13:49.765372",
     "status": "completed"
    },
    "tags": []
   },
   "outputs": [],
   "source": [
    "#acc_decision_tree = round(decision_tree.score(X_train, Y_train) * 100, 2)\n",
    "#acc_decision_tree"
   ]
  },
  {
   "cell_type": "code",
   "execution_count": 110,
   "id": "exclusive-supply",
   "metadata": {
    "execution": {
     "iopub.execute_input": "2022-01-19T04:13:50.204058Z",
     "iopub.status.busy": "2022-01-19T04:13:50.203379Z",
     "iopub.status.idle": "2022-01-19T04:13:50.205225Z",
     "shell.execute_reply": "2022-01-19T04:13:50.205718Z",
     "shell.execute_reply.started": "2021-07-15T03:59:18.533517Z"
    },
    "papermill": {
     "duration": 0.149463,
     "end_time": "2022-01-19T04:13:50.205892",
     "exception": false,
     "start_time": "2022-01-19T04:13:50.056429",
     "status": "completed"
    },
    "tags": []
   },
   "outputs": [],
   "source": [
    "#from sklearn.metrics import confusion_matrix\n",
    "#import itertools\n",
    "\n",
    "#decision_tree = DecisionTreeClassifier()\n",
    "#decision_tree.fit(X_train, Y_train)\n",
    "#Y_pred = decision_tree.predict(X_train)\n",
    "\n",
    "# Compute confusion matrix\n",
    "#cnf_matrix = confusion_matrix(Y_train, Y_pred)\n",
    "#np.set_printoptions(precision=2)\n",
    "\n",
    "#print ('Confusion Matrix in Numbers')\n",
    "#print (cnf_matrix)\n",
    "#print ('')\n",
    "\n",
    "#cnf_matrix_percent = cnf_matrix.astype('float') / cnf_matrix.sum(axis=1)[:, np.newaxis]\n",
    "\n",
    "#print ('Confusion Matrix in Percentage')\n",
    "#print (cnf_matrix_percent)\n",
    "#print ('')\n",
    "\n",
    "#true_class_names = ['True Survived', 'True Not Survived']\n",
    "#predicted_class_names = ['Predicted Survived', 'Predicted Not Survived']\n",
    "\n",
    "#df_cnf_matrix = pd.DataFrame(cnf_matrix, \n",
    "#                             index = true_class_names,\n",
    "#                             columns = predicted_class_names)\n",
    "\n",
    "#df_cnf_matrix_percent = pd.DataFrame(cnf_matrix_percent, \n",
    "#                                     index = true_class_names,\n",
    "#                                     columns = predicted_class_names)\n",
    "\n",
    "#plt.figure(figsize = (15,5))\n",
    "\n",
    "#plt.subplot(121)\n",
    "#sns.heatmap(df_cnf_matrix, annot=True, fmt='d')\n",
    "\n",
    "#plt.subplot(122)\n",
    "#sns.heatmap(df_cnf_matrix_percent, annot=True)"
   ]
  },
  {
   "cell_type": "code",
   "execution_count": 111,
   "id": "focused-committee",
   "metadata": {
    "execution": {
     "iopub.execute_input": "2022-01-19T04:13:50.491970Z",
     "iopub.status.busy": "2022-01-19T04:13:50.491372Z",
     "iopub.status.idle": "2022-01-19T04:13:50.494445Z",
     "shell.execute_reply": "2022-01-19T04:13:50.493828Z",
     "shell.execute_reply.started": "2021-07-15T03:59:18.918733Z"
    },
    "papermill": {
     "duration": 0.148049,
     "end_time": "2022-01-19T04:13:50.494583",
     "exception": false,
     "start_time": "2022-01-19T04:13:50.346534",
     "status": "completed"
    },
    "tags": []
   },
   "outputs": [],
   "source": [
    "#models = pd.DataFrame({\n",
    "#    'Model': ['Support Vector Machines', 'KNN', 'Logistic Regression', \n",
    "#              'Random Forest', 'Naive Bayes', 'Perceptron', \n",
    "#              'Stochastic Gradient Decent', 'Decision Tree'],\n",
    "#    'Score': [acc_svc, acc_knn, acc_log, \n",
    "#              acc_random_forest, acc_gaussian, acc_perceptron, \n",
    "#              acc_sgd, acc_decision_tree]})\n",
    "#models.sort_values(by='Score', ascending=False)"
   ]
  }
 ],
 "metadata": {
  "kernelspec": {
   "display_name": "Python 3",
   "language": "python",
   "name": "python3"
  },
  "language_info": {
   "codemirror_mode": {
    "name": "ipython",
    "version": 3
   },
   "file_extension": ".py",
   "mimetype": "text/x-python",
   "name": "python",
   "nbconvert_exporter": "python",
   "pygments_lexer": "ipython3",
   "version": "3.7.10"
  },
  "papermill": {
   "default_parameters": {},
   "duration": 1041.46749,
   "end_time": "2022-01-19T04:13:52.085317",
   "environment_variables": {},
   "exception": null,
   "input_path": "__notebook__.ipynb",
   "output_path": "__notebook__.ipynb",
   "parameters": {},
   "start_time": "2022-01-19T03:56:30.617827",
   "version": "2.3.3"
  }
 },
 "nbformat": 4,
 "nbformat_minor": 5
}
